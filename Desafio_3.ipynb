{
 "cells": [
  {
   "cell_type": "markdown",
   "metadata": {
    "id": "g3yeJGnCYxuF"
   },
   "source": [
    "<img src=\"https://github.com/hernancontigiani/ceia_memorias_especializacion/raw/master/Figures/logoFIUBA.jpg\" width=\"500\" align=\"center\">\n",
    "\n",
    "\n",
    "# Procesamiento de lenguaje natural\n",
    "## Modelo de lenguaje con tokenización por caracteres"
   ]
  },
  {
   "cell_type": "markdown",
   "metadata": {
    "id": "Iv5PEwGzZA9-"
   },
   "source": [
    "### Consigna\n",
    "- Seleccionar un corpus de texto sobre el cual entrenar el modelo de lenguaje.\n",
    "- Realizar el pre-procesamiento adecuado para tokenizar el corpus, estructurar el dataset y separar entre datos de entrenamiento y validación.\n",
    "- Proponer arquitecturas de redes neuronales basadas en unidades recurrentes para implementar un modelo de lenguaje.\n",
    "- Con el o los modelos que consideren adecuados, generar nuevas secuencias a partir de secuencias de contexto con las estrategias de greedy search y beam search determístico y estocástico. En este último caso observar el efecto de la temperatura en la generación de secuencias.\n",
    "\n",
    "\n",
    "### Sugerencias\n",
    "- Durante el entrenamiento, guiarse por el descenso de la perplejidad en los datos de validación para finalizar el entrenamiento. Para ello se provee un callback.\n",
    "- Explorar utilizar SimpleRNN (celda de Elman), LSTM y GRU.\n",
    "- rmsprop es el optimizador recomendado para la buena convergencia. No obstante se pueden explorar otros.\n"
   ]
  },
  {
   "cell_type": "code",
   "execution_count": 2,
   "metadata": {
    "id": "Y-QdFbHZYj7C"
   },
   "outputs": [],
   "source": [
    "import random\n",
    "import io\n",
    "import pickle\n",
    "\n",
    "import numpy as np\n",
    "import pandas as pd\n",
    "import matplotlib.pyplot as plt\n",
    "from sklearn.model_selection import train_test_split\n",
    "\n",
    "from tensorflow import keras\n",
    "from tensorflow.keras import layers\n",
    "from keras.utils import to_categorical\n",
    "from keras.models import Sequential, Model\n",
    "from keras.layers import Dense, LSTM, Embedding, Dropout, GRU, Input, TimeDistributed, CategoryEncoding, SimpleRNN\n",
    "from tensorflow.keras.losses import SparseCategoricalCrossentropy\n",
    "from tensorflow.keras.utils import pad_sequences # se utilizará para padding\n",
    "from tensorflow.keras.callbacks import EarlyStopping, ReduceLROnPlateau\n",
    "\n",
    "import matplotlib.pyplot as plt\n",
    "import seaborn as sns\n",
    "\n",
    "# Para descargas desde textos.info\n",
    "import urllib.request\n",
    "\n",
    "# Para leer y parsear el texto en HTML\n",
    "import bs4 as bs"
   ]
  },
  {
   "cell_type": "markdown",
   "metadata": {
    "id": "xTvXlEKQZdqx"
   },
   "source": [
    "### Datos\n",
    "Utilizaremos como dataset la biblia. Utilizaremos sólo un 5% (ignorando previamente el primer 5%, para saltar el Génesis que quizas no es una parte tan representativa al resto del texto).\n",
    "\n",
    "Se intentó inicialmente procesar un 10%, para tener una longitud de texto similar a la provista el en dataset de ejemplo de la materia (La vuelta al mundo en 80 días), pero el tiempo de procesamiento necesario para las redes neuronales con arquitectura GRU y LSTM excedían el tiempo brindado por Colab, por lo que se procedió con sólo un 5% del texto.\n",
    "\n",
    "Procederemos a quitar saltos de línea y el caracter de espacio no separable, por espacios simples, para simplificar el entrenamiento y predicción de caracteres."
   ]
  },
  {
   "cell_type": "code",
   "execution_count": 3,
   "metadata": {
    "id": "6v_ickFwBJTy"
   },
   "outputs": [],
   "source": [
    "raw_html = urllib.request.urlopen('https://www.textos.info/varios/biblia/ebook')\n",
    "raw_html = raw_html.read()\n",
    "\n",
    "# parsear artículo, 'lxml' es el parser a utilizar\n",
    "article_html = bs.BeautifulSoup(raw_html, 'lxml')\n",
    "\n",
    "# encontrar todos los párrafos del HTML (bajo el tag <p>)\n",
    "# y tenerlos disponible como lista\n",
    "article_paragraphs = article_html.find_all('p')\n",
    "\n",
    "article_text = ''\n",
    "\n",
    "for para in article_paragraphs:\n",
    "    article_text += para.text + ' '\n",
    "\n",
    "# pasar todo el texto a minúscula\n",
    "article_text = article_text.lower()\n",
    "\n",
    "# limpiar saltos de línea y otros caracteres extraños\n",
    "article_text = article_text.replace('\\r', ' ').replace('\\n', ' ').replace('\\xa0', ' ')\n",
    "article_text = ' '.join(article_text.split())  # Esto elimina espacios dobles y los deja como uno solo\n",
    "\n",
    "\n",
    "# saltar el 5% inicial\n",
    "skip_portion = 0.05\n",
    "total_len = len(article_text)\n",
    "start = int(total_len * skip_portion)\n",
    "\n",
    "# extraer solo el 5% después del salto\n",
    "portion = 0.05\n",
    "end = start + int(total_len * portion)\n",
    "\n",
    "article_text = article_text[start:end]"
   ]
  },
  {
   "cell_type": "code",
   "execution_count": 3,
   "metadata": {
    "colab": {
     "base_uri": "https://localhost:8080/",
     "height": 160
    },
    "id": "WBE0sSYuB-E6",
    "outputId": "6795d042-9256-4c06-fbd0-05e1c491fbb5"
   },
   "outputs": [
    {
     "output_type": "execute_result",
     "data": {
      "text/plain": [
       "'ni siquiera un perro ladrará ni contra hombre ni contra bestia; para que sepáis cómo yahveh hace distinción entre egipto e israel. [8] entonces vendrán a mí todos estos siervos tuyos y se postrarán delante de mí, diciendo: sal, tú y todo el pueblo que te sigue. y entonces, saldré.» y, ardiendo en cólera, salió de la presencia de faraón. [9] y dijo yahveh a moisés: «no os escuchará faraón, para que así pueda yo multiplicar mis prodigios en la tierra de egipto.» [10] moisés y aarón obraron todos estos prodigios ante faraón; pero yahveh endureció el corazón de faraón, que no dejó salir de su país a los israelitas. [1] dijo yahveh a moisés y aarón en el país de egipto: [2] «este mes será para vosotros el comienzo de los meses; será el primero de los meses del año. [3] hablad a toda la comunidad de israel y decid: el día diez de este mes tomará cada uno para sí una res de ganado menor por familia, una res de ganado menor por casa. [4] y si la familia fuese demasiado reducida para una res de'"
      ],
      "application/vnd.google.colaboratory.intrinsic+json": {
       "type": "string"
      }
     },
     "metadata": {},
     "execution_count": 3
    }
   ],
   "source": [
    "# revisamos el comienzo de la porción extraída, vemos que se trata ya del libro Éxodo\n",
    "article_text[:1000]"
   ]
  },
  {
   "cell_type": "markdown",
   "metadata": {
    "id": "cP1JdiOIKQWi"
   },
   "source": [
    "### Elegir el tamaño del contexto\n",
    "\n",
    "En este caso, como el modelo de lenguaje es por caracteres, todo un gran corpus\n",
    "de texto puede ser considerado un documento en sí mismo y el tamaño de contexto\n",
    "puede ser elegido con más libertad en comparación a un modelo de lenguaje tokenizado por palabras y dividido en documentos más acotados."
   ]
  },
  {
   "cell_type": "code",
   "execution_count": 4,
   "metadata": {
    "id": "wumBNwdjJM3j"
   },
   "outputs": [],
   "source": [
    "# seleccionamos el tamaño de contexto\n",
    "max_context_size = 100"
   ]
  },
  {
   "cell_type": "markdown",
   "source": [
    "Ordenamos el vocabulario para poder reproducir la tokenización para el caso en que levantemos un modelo previamente entrenado desde un archivo."
   ],
   "metadata": {
    "id": "aFtNTBJFvZPu"
   }
  },
  {
   "cell_type": "code",
   "execution_count": 5,
   "metadata": {
    "id": "573Cg5n7VhWw"
   },
   "outputs": [],
   "source": [
    "# en este caso el vocabulario es el conjunto único de caracteres que existe en todo el texto\n",
    "chars_vocab = sorted(list(set(article_text)))"
   ]
  },
  {
   "cell_type": "code",
   "execution_count": 6,
   "metadata": {
    "colab": {
     "base_uri": "https://localhost:8080/"
    },
    "id": "VwTK6xgLJd8q",
    "outputId": "0f537dd6-67e5-4479-b59e-88b0c6d85379"
   },
   "outputs": [
    {
     "output_type": "execute_result",
     "data": {
      "text/plain": [
       "62"
      ]
     },
     "metadata": {},
     "execution_count": 6
    }
   ],
   "source": [
    "# la longitud de vocabulario de caracteres es:\n",
    "len(chars_vocab)"
   ]
  },
  {
   "cell_type": "code",
   "execution_count": 7,
   "metadata": {
    "colab": {
     "base_uri": "https://localhost:8080/"
    },
    "id": "A_oMNMUT02nk",
    "outputId": "fafb29ef-8d8c-4e00-b47f-2c541be8daf6"
   },
   "outputs": [
    {
     "output_type": "stream",
     "name": "stdout",
     "text": [
      "[' ', '!', '\"', \"'\", '(', ')', ',', '-', '.', '0', '1', '2', '3', '4', '5', '6', '7', '8', '9', ':', ';', '=', '?', '[', ']', 'a', 'b', 'c', 'd', 'e', 'f', 'g', 'h', 'i', 'j', 'k', 'l', 'm', 'n', 'o', 'p', 'q', 'r', 's', 't', 'u', 'v', 'x', 'y', 'z', '¡', '«', '»', '¿', 'á', 'é', 'í', 'ñ', 'ó', 'ú', 'ü', '—']\n"
     ]
    }
   ],
   "source": [
    "print(chars_vocab)"
   ]
  },
  {
   "cell_type": "code",
   "execution_count": 6,
   "metadata": {
    "id": "2W0AeQjXV1Ou"
   },
   "outputs": [],
   "source": [
    "# Construimos los diccionarios que asignan índices a caracteres y viceversa.\n",
    "# El diccionario `char2idx` servirá como tokenizador.\n",
    "char2idx = {k: v for v,k in enumerate(chars_vocab)}\n",
    "idx2char = {v: k for k,v in char2idx.items()}"
   ]
  },
  {
   "cell_type": "markdown",
   "metadata": {
    "id": "2oIUjVU0LB0r"
   },
   "source": [
    "###  Tokenizar"
   ]
  },
  {
   "cell_type": "code",
   "execution_count": 7,
   "metadata": {
    "id": "h07G3srdJppo"
   },
   "outputs": [],
   "source": [
    "# tokenizamos el texto completo\n",
    "tokenized_text = [char2idx[ch] for ch in article_text]"
   ]
  },
  {
   "cell_type": "code",
   "execution_count": 10,
   "metadata": {
    "colab": {
     "base_uri": "https://localhost:8080/"
    },
    "collapsed": true,
    "id": "PwGVSKOiJ5bj",
    "outputId": "c6b07ec9-50d3-4d93-8172-f395b58f3fa8"
   },
   "outputs": [
    {
     "output_type": "execute_result",
     "data": {
      "text/plain": [
       "[38,\n",
       " 33,\n",
       " 0,\n",
       " 43,\n",
       " 33,\n",
       " 41,\n",
       " 45,\n",
       " 33,\n",
       " 29,\n",
       " 42,\n",
       " 25,\n",
       " 0,\n",
       " 45,\n",
       " 38,\n",
       " 0,\n",
       " 40,\n",
       " 29,\n",
       " 42,\n",
       " 42,\n",
       " 39,\n",
       " 0,\n",
       " 36,\n",
       " 25,\n",
       " 28,\n",
       " 42,\n",
       " 25,\n",
       " 42,\n",
       " 54,\n",
       " 0,\n",
       " 38,\n",
       " 33,\n",
       " 0,\n",
       " 27,\n",
       " 39,\n",
       " 38,\n",
       " 44,\n",
       " 42,\n",
       " 25,\n",
       " 0,\n",
       " 32,\n",
       " 39,\n",
       " 37,\n",
       " 26,\n",
       " 42,\n",
       " 29,\n",
       " 0,\n",
       " 38,\n",
       " 33,\n",
       " 0,\n",
       " 27,\n",
       " 39,\n",
       " 38,\n",
       " 44,\n",
       " 42,\n",
       " 25,\n",
       " 0,\n",
       " 26,\n",
       " 29,\n",
       " 43,\n",
       " 44,\n",
       " 33,\n",
       " 25,\n",
       " 20,\n",
       " 0,\n",
       " 40,\n",
       " 25,\n",
       " 42,\n",
       " 25,\n",
       " 0,\n",
       " 41,\n",
       " 45,\n",
       " 29,\n",
       " 0,\n",
       " 43,\n",
       " 29,\n",
       " 40,\n",
       " 54,\n",
       " 33,\n",
       " 43,\n",
       " 0,\n",
       " 27,\n",
       " 58,\n",
       " 37,\n",
       " 39,\n",
       " 0,\n",
       " 48,\n",
       " 25,\n",
       " 32,\n",
       " 46,\n",
       " 29,\n",
       " 32,\n",
       " 0,\n",
       " 32,\n",
       " 25,\n",
       " 27,\n",
       " 29,\n",
       " 0,\n",
       " 28,\n",
       " 33,\n",
       " 43,\n",
       " 44,\n",
       " 33,\n",
       " 38,\n",
       " 27,\n",
       " 33,\n",
       " 58,\n",
       " 38,\n",
       " 0,\n",
       " 29,\n",
       " 38,\n",
       " 44,\n",
       " 42,\n",
       " 29,\n",
       " 0,\n",
       " 29,\n",
       " 31,\n",
       " 33,\n",
       " 40,\n",
       " 44,\n",
       " 39,\n",
       " 0,\n",
       " 29,\n",
       " 0,\n",
       " 33,\n",
       " 43,\n",
       " 42,\n",
       " 25,\n",
       " 29,\n",
       " 36,\n",
       " 8,\n",
       " 0,\n",
       " 23,\n",
       " 17,\n",
       " 24,\n",
       " 0,\n",
       " 29,\n",
       " 38,\n",
       " 44,\n",
       " 39,\n",
       " 38,\n",
       " 27,\n",
       " 29,\n",
       " 43,\n",
       " 0,\n",
       " 46,\n",
       " 29,\n",
       " 38,\n",
       " 28,\n",
       " 42,\n",
       " 54,\n",
       " 38,\n",
       " 0,\n",
       " 25,\n",
       " 0,\n",
       " 37,\n",
       " 56,\n",
       " 0,\n",
       " 44,\n",
       " 39,\n",
       " 28,\n",
       " 39,\n",
       " 43,\n",
       " 0,\n",
       " 29,\n",
       " 43,\n",
       " 44,\n",
       " 39,\n",
       " 43,\n",
       " 0,\n",
       " 43,\n",
       " 33,\n",
       " 29,\n",
       " 42,\n",
       " 46,\n",
       " 39,\n",
       " 43,\n",
       " 0,\n",
       " 44,\n",
       " 45,\n",
       " 48,\n",
       " 39,\n",
       " 43,\n",
       " 0,\n",
       " 48,\n",
       " 0,\n",
       " 43,\n",
       " 29,\n",
       " 0,\n",
       " 40,\n",
       " 39,\n",
       " 43,\n",
       " 44,\n",
       " 42,\n",
       " 25,\n",
       " 42,\n",
       " 54,\n",
       " 38,\n",
       " 0,\n",
       " 28,\n",
       " 29,\n",
       " 36,\n",
       " 25,\n",
       " 38,\n",
       " 44,\n",
       " 29,\n",
       " 0,\n",
       " 28,\n",
       " 29,\n",
       " 0,\n",
       " 37,\n",
       " 56,\n",
       " 6,\n",
       " 0,\n",
       " 28,\n",
       " 33,\n",
       " 27,\n",
       " 33,\n",
       " 29,\n",
       " 38,\n",
       " 28,\n",
       " 39,\n",
       " 19,\n",
       " 0,\n",
       " 43,\n",
       " 25,\n",
       " 36,\n",
       " 6,\n",
       " 0,\n",
       " 44,\n",
       " 59,\n",
       " 0,\n",
       " 48,\n",
       " 0,\n",
       " 44,\n",
       " 39,\n",
       " 28,\n",
       " 39,\n",
       " 0,\n",
       " 29,\n",
       " 36,\n",
       " 0,\n",
       " 40,\n",
       " 45,\n",
       " 29,\n",
       " 26,\n",
       " 36,\n",
       " 39,\n",
       " 0,\n",
       " 41,\n",
       " 45,\n",
       " 29,\n",
       " 0,\n",
       " 44,\n",
       " 29,\n",
       " 0,\n",
       " 43,\n",
       " 33,\n",
       " 31,\n",
       " 45,\n",
       " 29,\n",
       " 8,\n",
       " 0,\n",
       " 48,\n",
       " 0,\n",
       " 29,\n",
       " 38,\n",
       " 44,\n",
       " 39,\n",
       " 38,\n",
       " 27,\n",
       " 29,\n",
       " 43,\n",
       " 6,\n",
       " 0,\n",
       " 43,\n",
       " 25,\n",
       " 36,\n",
       " 28,\n",
       " 42,\n",
       " 55,\n",
       " 8,\n",
       " 52,\n",
       " 0,\n",
       " 48,\n",
       " 6,\n",
       " 0,\n",
       " 25,\n",
       " 42,\n",
       " 28,\n",
       " 33,\n",
       " 29,\n",
       " 38,\n",
       " 28,\n",
       " 39,\n",
       " 0,\n",
       " 29,\n",
       " 38,\n",
       " 0,\n",
       " 27,\n",
       " 58,\n",
       " 36,\n",
       " 29,\n",
       " 42,\n",
       " 25,\n",
       " 6,\n",
       " 0,\n",
       " 43,\n",
       " 25,\n",
       " 36,\n",
       " 33,\n",
       " 58,\n",
       " 0,\n",
       " 28,\n",
       " 29,\n",
       " 0,\n",
       " 36,\n",
       " 25,\n",
       " 0,\n",
       " 40,\n",
       " 42,\n",
       " 29,\n",
       " 43,\n",
       " 29,\n",
       " 38,\n",
       " 27,\n",
       " 33,\n",
       " 25,\n",
       " 0,\n",
       " 28,\n",
       " 29,\n",
       " 0,\n",
       " 30,\n",
       " 25,\n",
       " 42,\n",
       " 25,\n",
       " 58,\n",
       " 38,\n",
       " 8,\n",
       " 0,\n",
       " 23,\n",
       " 18,\n",
       " 24,\n",
       " 0,\n",
       " 48,\n",
       " 0,\n",
       " 28,\n",
       " 33,\n",
       " 34,\n",
       " 39,\n",
       " 0,\n",
       " 48,\n",
       " 25,\n",
       " 32,\n",
       " 46,\n",
       " 29,\n",
       " 32,\n",
       " 0,\n",
       " 25,\n",
       " 0,\n",
       " 37,\n",
       " 39,\n",
       " 33,\n",
       " 43,\n",
       " 55,\n",
       " 43,\n",
       " 19,\n",
       " 0,\n",
       " 51,\n",
       " 38,\n",
       " 39,\n",
       " 0,\n",
       " 39,\n",
       " 43,\n",
       " 0,\n",
       " 29,\n",
       " 43,\n",
       " 27,\n",
       " 45,\n",
       " 27,\n",
       " 32,\n",
       " 25,\n",
       " 42,\n",
       " 54,\n",
       " 0,\n",
       " 30,\n",
       " 25,\n",
       " 42,\n",
       " 25,\n",
       " 58,\n",
       " 38,\n",
       " 6,\n",
       " 0,\n",
       " 40,\n",
       " 25,\n",
       " 42,\n",
       " 25,\n",
       " 0,\n",
       " 41,\n",
       " 45,\n",
       " 29,\n",
       " 0,\n",
       " 25,\n",
       " 43,\n",
       " 56,\n",
       " 0,\n",
       " 40,\n",
       " 45,\n",
       " 29,\n",
       " 28,\n",
       " 25,\n",
       " 0,\n",
       " 48,\n",
       " 39,\n",
       " 0,\n",
       " 37,\n",
       " 45,\n",
       " 36,\n",
       " 44,\n",
       " 33,\n",
       " 40,\n",
       " 36,\n",
       " 33,\n",
       " 27,\n",
       " 25,\n",
       " 42,\n",
       " 0,\n",
       " 37,\n",
       " 33,\n",
       " 43,\n",
       " 0,\n",
       " 40,\n",
       " 42,\n",
       " 39,\n",
       " 28,\n",
       " 33,\n",
       " 31,\n",
       " 33,\n",
       " 39,\n",
       " 43,\n",
       " 0,\n",
       " 29,\n",
       " 38,\n",
       " 0,\n",
       " 36,\n",
       " 25,\n",
       " 0,\n",
       " 44,\n",
       " 33,\n",
       " 29,\n",
       " 42,\n",
       " 42,\n",
       " 25,\n",
       " 0,\n",
       " 28,\n",
       " 29,\n",
       " 0,\n",
       " 29,\n",
       " 31,\n",
       " 33,\n",
       " 40,\n",
       " 44,\n",
       " 39,\n",
       " 8,\n",
       " 52,\n",
       " 0,\n",
       " 23,\n",
       " 10,\n",
       " 9,\n",
       " 24,\n",
       " 0,\n",
       " 37,\n",
       " 39,\n",
       " 33,\n",
       " 43,\n",
       " 55,\n",
       " 43,\n",
       " 0,\n",
       " 48,\n",
       " 0,\n",
       " 25,\n",
       " 25,\n",
       " 42,\n",
       " 58,\n",
       " 38,\n",
       " 0,\n",
       " 39,\n",
       " 26,\n",
       " 42,\n",
       " 25,\n",
       " 42,\n",
       " 39,\n",
       " 38,\n",
       " 0,\n",
       " 44,\n",
       " 39,\n",
       " 28,\n",
       " 39,\n",
       " 43,\n",
       " 0,\n",
       " 29,\n",
       " 43,\n",
       " 44,\n",
       " 39,\n",
       " 43,\n",
       " 0,\n",
       " 40,\n",
       " 42,\n",
       " 39,\n",
       " 28,\n",
       " 33,\n",
       " 31,\n",
       " 33,\n",
       " 39,\n",
       " 43,\n",
       " 0,\n",
       " 25,\n",
       " 38,\n",
       " 44,\n",
       " 29,\n",
       " 0,\n",
       " 30,\n",
       " 25,\n",
       " 42,\n",
       " 25,\n",
       " 58,\n",
       " 38,\n",
       " 20,\n",
       " 0,\n",
       " 40,\n",
       " 29,\n",
       " 42,\n",
       " 39,\n",
       " 0,\n",
       " 48,\n",
       " 25,\n",
       " 32,\n",
       " 46,\n",
       " 29,\n",
       " 32,\n",
       " 0,\n",
       " 29,\n",
       " 38,\n",
       " 28,\n",
       " 45,\n",
       " 42,\n",
       " 29,\n",
       " 27,\n",
       " 33,\n",
       " 58,\n",
       " 0,\n",
       " 29,\n",
       " 36,\n",
       " 0,\n",
       " 27,\n",
       " 39,\n",
       " 42,\n",
       " 25,\n",
       " 49,\n",
       " 58,\n",
       " 38,\n",
       " 0,\n",
       " 28,\n",
       " 29,\n",
       " 0,\n",
       " 30,\n",
       " 25,\n",
       " 42,\n",
       " 25,\n",
       " 58,\n",
       " 38,\n",
       " 6,\n",
       " 0,\n",
       " 41,\n",
       " 45,\n",
       " 29,\n",
       " 0,\n",
       " 38,\n",
       " 39,\n",
       " 0,\n",
       " 28,\n",
       " 29,\n",
       " 34,\n",
       " 58,\n",
       " 0,\n",
       " 43,\n",
       " 25,\n",
       " 36,\n",
       " 33,\n",
       " 42,\n",
       " 0,\n",
       " 28,\n",
       " 29,\n",
       " 0,\n",
       " 43,\n",
       " 45,\n",
       " 0,\n",
       " 40,\n",
       " 25,\n",
       " 56,\n",
       " 43,\n",
       " 0,\n",
       " 25,\n",
       " 0,\n",
       " 36,\n",
       " 39,\n",
       " 43,\n",
       " 0,\n",
       " 33,\n",
       " 43,\n",
       " 42,\n",
       " 25,\n",
       " 29,\n",
       " 36,\n",
       " 33,\n",
       " 44,\n",
       " 25,\n",
       " 43,\n",
       " 8,\n",
       " 0,\n",
       " 23,\n",
       " 10,\n",
       " 24,\n",
       " 0,\n",
       " 28,\n",
       " 33,\n",
       " 34,\n",
       " 39,\n",
       " 0,\n",
       " 48,\n",
       " 25,\n",
       " 32,\n",
       " 46,\n",
       " 29,\n",
       " 32,\n",
       " 0,\n",
       " 25,\n",
       " 0,\n",
       " 37,\n",
       " 39,\n",
       " 33,\n",
       " 43,\n",
       " 55,\n",
       " 43,\n",
       " 0,\n",
       " 48,\n",
       " 0,\n",
       " 25,\n",
       " 25,\n",
       " 42,\n",
       " 58,\n",
       " 38,\n",
       " 0,\n",
       " 29,\n",
       " 38,\n",
       " 0,\n",
       " 29,\n",
       " 36,\n",
       " 0,\n",
       " 40,\n",
       " 25,\n",
       " 56,\n",
       " 43,\n",
       " 0,\n",
       " 28,\n",
       " 29,\n",
       " 0,\n",
       " 29,\n",
       " 31,\n",
       " 33,\n",
       " 40,\n",
       " 44,\n",
       " 39,\n",
       " 19,\n",
       " 0,\n",
       " 23,\n",
       " 11,\n",
       " 24,\n",
       " 0,\n",
       " 51,\n",
       " 29,\n",
       " 43,\n",
       " 44,\n",
       " 29,\n",
       " 0,\n",
       " 37,\n",
       " 29,\n",
       " 43,\n",
       " 0,\n",
       " 43,\n",
       " 29,\n",
       " 42,\n",
       " 54,\n",
       " 0,\n",
       " 40,\n",
       " 25,\n",
       " 42,\n",
       " 25,\n",
       " 0,\n",
       " 46,\n",
       " 39,\n",
       " 43,\n",
       " 39,\n",
       " 44,\n",
       " 42,\n",
       " 39,\n",
       " 43,\n",
       " 0,\n",
       " 29,\n",
       " 36,\n",
       " 0,\n",
       " 27,\n",
       " 39,\n",
       " 37,\n",
       " 33,\n",
       " 29,\n",
       " 38,\n",
       " 49,\n",
       " 39,\n",
       " 0,\n",
       " 28,\n",
       " 29,\n",
       " 0,\n",
       " 36,\n",
       " 39,\n",
       " 43,\n",
       " 0,\n",
       " 37,\n",
       " 29,\n",
       " 43,\n",
       " 29,\n",
       " 43,\n",
       " 20,\n",
       " 0,\n",
       " 43,\n",
       " 29,\n",
       " 42,\n",
       " 54,\n",
       " 0,\n",
       " 29,\n",
       " 36,\n",
       " 0,\n",
       " 40,\n",
       " 42,\n",
       " 33,\n",
       " 37,\n",
       " 29,\n",
       " 42,\n",
       " 39,\n",
       " 0,\n",
       " 28,\n",
       " 29,\n",
       " 0,\n",
       " 36,\n",
       " 39,\n",
       " 43,\n",
       " 0,\n",
       " 37,\n",
       " 29,\n",
       " 43,\n",
       " 29,\n",
       " 43,\n",
       " 0,\n",
       " 28,\n",
       " 29,\n",
       " 36,\n",
       " 0,\n",
       " 25,\n",
       " 57,\n",
       " 39,\n",
       " 8,\n",
       " 0,\n",
       " 23,\n",
       " 12,\n",
       " 24,\n",
       " 0,\n",
       " 32,\n",
       " 25,\n",
       " 26,\n",
       " 36,\n",
       " 25,\n",
       " 28,\n",
       " 0,\n",
       " 25,\n",
       " 0,\n",
       " 44,\n",
       " 39,\n",
       " 28,\n",
       " 25,\n",
       " 0,\n",
       " 36,\n",
       " 25,\n",
       " 0,\n",
       " 27,\n",
       " 39,\n",
       " 37,\n",
       " 45,\n",
       " 38,\n",
       " 33,\n",
       " 28,\n",
       " 25,\n",
       " 28,\n",
       " 0,\n",
       " 28,\n",
       " 29,\n",
       " 0,\n",
       " 33,\n",
       " 43,\n",
       " 42,\n",
       " 25,\n",
       " 29,\n",
       " 36,\n",
       " 0,\n",
       " 48,\n",
       " 0,\n",
       " 28,\n",
       " 29,\n",
       " 27,\n",
       " 33,\n",
       " 28,\n",
       " 19,\n",
       " 0,\n",
       " 29,\n",
       " 36,\n",
       " 0,\n",
       " 28,\n",
       " 56,\n",
       " 25,\n",
       " 0,\n",
       " 28,\n",
       " 33,\n",
       " 29,\n",
       " 49,\n",
       " 0,\n",
       " 28,\n",
       " 29,\n",
       " 0,\n",
       " 29,\n",
       " 43,\n",
       " 44,\n",
       " 29,\n",
       " 0,\n",
       " 37,\n",
       " 29,\n",
       " 43,\n",
       " 0,\n",
       " 44,\n",
       " 39,\n",
       " 37,\n",
       " 25,\n",
       " 42,\n",
       " 54,\n",
       " 0,\n",
       " 27,\n",
       " 25,\n",
       " 28,\n",
       " 25,\n",
       " 0,\n",
       " 45,\n",
       " 38,\n",
       " 39,\n",
       " 0,\n",
       " 40,\n",
       " 25,\n",
       " 42,\n",
       " 25,\n",
       " 0,\n",
       " 43,\n",
       " 56,\n",
       " 0,\n",
       " 45,\n",
       " 38,\n",
       " 25,\n",
       " 0,\n",
       " 42,\n",
       " 29,\n",
       " 43,\n",
       " 0,\n",
       " 28,\n",
       " 29,\n",
       " 0,\n",
       " 31,\n",
       " 25,\n",
       " 38,\n",
       " 25,\n",
       " 28,\n",
       " 39,\n",
       " 0,\n",
       " 37,\n",
       " 29,\n",
       " 38,\n",
       " 39,\n",
       " 42,\n",
       " 0,\n",
       " 40,\n",
       " 39,\n",
       " 42,\n",
       " 0,\n",
       " 30,\n",
       " 25,\n",
       " 37,\n",
       " 33,\n",
       " 36,\n",
       " 33,\n",
       " 25,\n",
       " 6,\n",
       " 0,\n",
       " 45,\n",
       " 38,\n",
       " 25,\n",
       " 0,\n",
       " 42,\n",
       " 29,\n",
       " 43,\n",
       " 0,\n",
       " 28,\n",
       " 29,\n",
       " 0,\n",
       " 31,\n",
       " 25,\n",
       " 38,\n",
       " 25,\n",
       " 28,\n",
       " 39,\n",
       " 0,\n",
       " 37,\n",
       " 29,\n",
       " 38,\n",
       " 39,\n",
       " 42,\n",
       " 0,\n",
       " 40,\n",
       " 39,\n",
       " 42,\n",
       " 0,\n",
       " 27,\n",
       " 25,\n",
       " 43,\n",
       " 25,\n",
       " 8,\n",
       " 0,\n",
       " 23,\n",
       " 13,\n",
       " 24,\n",
       " 0,\n",
       " 48,\n",
       " 0,\n",
       " 43,\n",
       " 33,\n",
       " 0,\n",
       " 36,\n",
       " 25,\n",
       " 0,\n",
       " 30,\n",
       " 25,\n",
       " 37,\n",
       " 33,\n",
       " 36,\n",
       " 33,\n",
       " 25,\n",
       " 0,\n",
       " 30,\n",
       " 45,\n",
       " 29,\n",
       " 43,\n",
       " 29,\n",
       " 0,\n",
       " 28,\n",
       " 29,\n",
       " 37,\n",
       " 25,\n",
       " 43,\n",
       " 33,\n",
       " 25,\n",
       " 28,\n",
       " 39,\n",
       " 0,\n",
       " 42,\n",
       " 29,\n",
       " 28,\n",
       " 45,\n",
       " 27,\n",
       " 33,\n",
       " 28,\n",
       " 25,\n",
       " 0,\n",
       " 40,\n",
       " 25,\n",
       " 42,\n",
       " 25,\n",
       " 0,\n",
       " 45,\n",
       " 38,\n",
       " 25,\n",
       " 0,\n",
       " 42,\n",
       " 29,\n",
       " 43,\n",
       " 0,\n",
       " 28,\n",
       " 29]"
      ]
     },
     "metadata": {},
     "execution_count": 10
    }
   ],
   "source": [
    "tokenized_text[:1000]"
   ]
  },
  {
   "cell_type": "markdown",
   "metadata": {
    "id": "pfpYcaypKcI9"
   },
   "source": [
    "### Organizando y estructurando el dataset"
   ]
  },
  {
   "cell_type": "code",
   "execution_count": 8,
   "metadata": {
    "id": "WSSmg9jtKP0T"
   },
   "outputs": [],
   "source": [
    "# separamos el dataset entre entrenamiento y validación.\n",
    "# `p_val` será la proporción del corpus que se reservará para validación\n",
    "# `num_val` es la cantidad de secuencias de tamaño `max_context_size` que se usará en validación\n",
    "p_val = 0.1\n",
    "num_val = int(np.ceil(len(tokenized_text)*p_val/max_context_size))"
   ]
  },
  {
   "cell_type": "code",
   "execution_count": 9,
   "metadata": {
    "id": "b7dCpGrdKll0"
   },
   "outputs": [],
   "source": [
    "# separamos la porción de texto utilizada en entrenamiento de la de validación.\n",
    "train_text = tokenized_text[:-num_val*max_context_size]\n",
    "val_text = tokenized_text[-num_val*max_context_size:]"
   ]
  },
  {
   "cell_type": "code",
   "execution_count": 10,
   "metadata": {
    "id": "NmxQdxl8LRCg"
   },
   "outputs": [],
   "source": [
    "tokenized_sentences_val = [val_text[init*max_context_size:init*(max_context_size+1)] for init in range(num_val)]"
   ]
  },
  {
   "cell_type": "code",
   "execution_count": 11,
   "metadata": {
    "id": "_gyFT9koLqDm"
   },
   "outputs": [],
   "source": [
    "tokenized_sentences_train = [train_text[init:init+max_context_size] for init in range(len(train_text)-max_context_size+1)]"
   ]
  },
  {
   "cell_type": "code",
   "execution_count": 12,
   "metadata": {
    "id": "oVNqmmLRodT0"
   },
   "outputs": [],
   "source": [
    "X = np.array(tokenized_sentences_train[:-1])\n",
    "y = np.array(tokenized_sentences_train[1:])"
   ]
  },
  {
   "cell_type": "markdown",
   "metadata": {
    "id": "Vken7O4ETsAJ"
   },
   "source": [
    "Nótese que estamos estructurando el problema de aprendizaje como *many-to-many*:\n",
    "\n",
    "Entrada: secuencia de tokens [$x_0$, $x_1$, ..., $x_N$]\n",
    "\n",
    "Target: secuencia de tokens [$x_1$, $x_2$, ..., $x_{N+1}$]\n",
    "\n",
    "De manera que la red tiene que aprender que su salida deben ser los tokens desplazados en una posición y un nuevo token predicho (el N+1).\n",
    "\n",
    "La ventaja de estructurar el aprendizaje de esta manera es que para cada token de target se propaga una señal de gradiente por el grafo de cómputo recurrente, que es mejor que estructurar el problema como *many-to-one* en donde sólo una señal de gradiente se propaga."
   ]
  },
  {
   "cell_type": "markdown",
   "metadata": {
    "id": "l3iPTx-UJl6r"
   },
   "source": [
    "En este punto tenemos en la variable `tokenized_sentences` los versos tokenizados. Vamos a quedarnos con un conjunto de validación que utilizaremos para medir la calidad de la generación de secuencias con la métrica de Perplejidad."
   ]
  },
  {
   "cell_type": "code",
   "execution_count": null,
   "metadata": {
    "colab": {
     "base_uri": "https://localhost:8080/"
    },
    "id": "KFAyA4zCWE-5",
    "outputId": "ffba286a-3f75-4d5a-f248-389a87911dc7"
   },
   "outputs": [
    {
     "output_type": "execute_result",
     "data": {
      "text/plain": [
       "(198971, 100)"
      ]
     },
     "metadata": {},
     "execution_count": 22
    }
   ],
   "source": [
    "X.shape"
   ]
  },
  {
   "cell_type": "code",
   "execution_count": null,
   "metadata": {
    "colab": {
     "base_uri": "https://localhost:8080/"
    },
    "id": "qcKRl70HFTzG",
    "outputId": "e09554a0-6cfb-4445-dc4a-fe82908d2948"
   },
   "outputs": [
    {
     "output_type": "execute_result",
     "data": {
      "text/plain": [
       "array([38, 33,  0, 43, 33, 41, 45, 33, 29, 42])"
      ]
     },
     "metadata": {},
     "execution_count": 23
    }
   ],
   "source": [
    "X[0,:10]"
   ]
  },
  {
   "cell_type": "code",
   "execution_count": null,
   "metadata": {
    "colab": {
     "base_uri": "https://localhost:8080/"
    },
    "id": "TVpLCKSZFXZO",
    "outputId": "a9a01b35-1580-430d-b802-39edc9c49e63"
   },
   "outputs": [
    {
     "output_type": "execute_result",
     "data": {
      "text/plain": [
       "array([33,  0, 43, 33, 41, 45, 33, 29, 42, 25])"
      ]
     },
     "metadata": {},
     "execution_count": 24
    }
   ],
   "source": [
    "y[0,:10]"
   ]
  },
  {
   "cell_type": "code",
   "execution_count": 13,
   "metadata": {
    "id": "wOFCR-KqbW1N"
   },
   "outputs": [],
   "source": [
    "vocab_size = len(chars_vocab)"
   ]
  },
  {
   "cell_type": "markdown",
   "metadata": {
    "id": "tnnjdAQ5UAEJ"
   },
   "source": [
    "# Definiendo el modelo"
   ]
  },
  {
   "cell_type": "markdown",
   "metadata": {
    "id": "wgz7VKwTUbj6"
   },
   "source": [
    "El modelo que se propone como ejemplo consume los índices de los tokens y los transforma en vectores OHE (en este caso no entrenamos una capa de embedding para caracteres). Esa transformación se logra combinando las capas `CategoryEncoding` que transforma a índices a vectores OHE y `TimeDistributed` que aplica la capa a lo largo de la dimensión \"temporal\" de la secuencia."
   ]
  },
  {
   "cell_type": "markdown",
   "metadata": {
    "id": "GmJWNyxQwfCE"
   },
   "source": [
    "\n",
    "### Definir el modelo"
   ]
  },
  {
   "cell_type": "markdown",
   "metadata": {
    "id": "YWK3z85sQfUe"
   },
   "source": [
    "Dado que por el momento no hay implementaciones adecuadas de la perplejidad que puedan operar en tiempo de entrenamiento, armaremos un Callback *ad-hoc* que la calcule en cada epoch.\n",
    "\n",
    "**Nota**: un Callback es una rutina gatillada por algún evento, son muy útiles para relevar datos en diferentes momentos del desarrollo del modelo. En este caso queremos hacer un cálculo cada vez que termina una epoch de entrenamiento."
   ]
  },
  {
   "cell_type": "code",
   "execution_count": 14,
   "metadata": {
    "id": "S4tSxcFi5vVD"
   },
   "outputs": [],
   "source": [
    "class PplCallback(keras.callbacks.Callback):\n",
    "\n",
    "    \"\"\"\n",
    "    Este callback es una solución ad-hoc para calcular al final de cada epoch de\n",
    "    entrenamiento la métrica de Perplejidad sobre un conjunto de datos de validación.\n",
    "    La perplejidad es una métrica cuantitativa para evaluar la calidad de la generación de secuencias.\n",
    "    Además, implementa la finalización del entrenamiento (Early Stopping)\n",
    "    si la perplejidad no mejora después de `patience` epochs.\n",
    "    \"\"\"\n",
    "\n",
    "    def __init__(self, val_data, history_ppl, model_name, patience=5):\n",
    "      self.history_ppl = history_ppl\n",
    "      self.model_name = model_name\n",
    "      # El callback lo inicializamos con secuencias de validación sobre las cuales\n",
    "      # mediremos la perplejidad\n",
    "      self.val_data = val_data\n",
    "\n",
    "      self.target = []\n",
    "      self.padded = []\n",
    "\n",
    "      count = 0\n",
    "      self.info = []\n",
    "      self.min_score = np.inf\n",
    "      self.patience_counter = 0\n",
    "      self.patience = patience\n",
    "\n",
    "      # nos movemos en todas las secuencias de los datos de validación\n",
    "      for seq in self.val_data:\n",
    "\n",
    "        len_seq = len(seq)\n",
    "        # armamos todas las subsecuencias\n",
    "        subseq = [seq[:i] for i in range(1,len_seq)]\n",
    "        self.target.extend([seq[i] for i in range(1,len_seq)])\n",
    "\n",
    "        if len(subseq)!=0:\n",
    "\n",
    "          self.padded.append(pad_sequences(subseq, maxlen=max_context_size, padding='pre'))\n",
    "\n",
    "          self.info.append((count,count+len_seq))\n",
    "          count += len_seq\n",
    "\n",
    "      self.padded = np.vstack(self.padded)\n",
    "\n",
    "\n",
    "    def on_epoch_end(self, epoch, logs=None):\n",
    "\n",
    "        # en `scores` iremos guardando la perplejidad de cada secuencia\n",
    "        scores = []\n",
    "\n",
    "        predictions = self.model.predict(self.padded,verbose=0)\n",
    "\n",
    "        # para cada secuencia de validación\n",
    "        for start,end in self.info:\n",
    "\n",
    "          # en `probs` iremos guardando las probabilidades de los términos target\n",
    "          probs = [predictions[idx_seq,-1,idx_vocab] for idx_seq, idx_vocab in zip(range(start,end),self.target[start:end])]\n",
    "\n",
    "          # calculamos la perplejidad por medio de logaritmos\n",
    "          scores.append(np.exp(-np.sum(np.log(probs))/(end-start)))\n",
    "\n",
    "        # promediamos todos los scores e imprimimos el valor promedio\n",
    "        current_score = np.mean(scores)\n",
    "        self.history_ppl.append(current_score)\n",
    "        print(f'\\n mean perplexity: {current_score} \\n')\n",
    "\n",
    "        # chequeamos si tenemos que detener el entrenamiento\n",
    "        if current_score < self.min_score:\n",
    "          self.min_score = current_score\n",
    "          self.model.save(self.model_name)\n",
    "          print(\"Saved new model!\")\n",
    "          self.patience_counter = 0\n",
    "        else:\n",
    "          self.patience_counter += 1\n",
    "          if self.patience_counter == self.patience:\n",
    "            print(\"Stopping training...\")\n",
    "            self.model.stop_training = True"
   ]
  },
  {
   "cell_type": "code",
   "execution_count": null,
   "metadata": {
    "colab": {
     "base_uri": "https://localhost:8080/",
     "height": 304
    },
    "id": "Zd2OkfQYs2Q7",
    "outputId": "dc967612-baa6-4314-e28c-df41e2be511f"
   },
   "outputs": [
    {
     "output_type": "stream",
     "name": "stderr",
     "text": [
      "/usr/local/lib/python3.11/dist-packages/keras/src/layers/core/wrapper.py:27: UserWarning: Do not pass an `input_shape`/`input_dim` argument to a layer. When using Sequential models, prefer using an `Input(shape)` object as the first layer in the model instead.\n",
      "  super().__init__(**kwargs)\n"
     ]
    },
    {
     "output_type": "display_data",
     "data": {
      "text/plain": [
       "\u001B[1mModel: \"sequential\"\u001B[0m\n"
      ],
      "text/html": [
       "<pre style=\"white-space:pre;overflow-x:auto;line-height:normal;font-family:Menlo,'DejaVu Sans Mono',consolas,'Courier New',monospace\"><span style=\"font-weight: bold\">Model: \"sequential\"</span>\n",
       "</pre>\n"
      ]
     },
     "metadata": {}
    },
    {
     "output_type": "display_data",
     "data": {
      "text/plain": [
       "┏━━━━━━━━━━━━━━━━━━━━━━━━━━━━━━━━━┳━━━━━━━━━━━━━━━━━━━━━━━━┳━━━━━━━━━━━━━━━┓\n",
       "┃\u001B[1m \u001B[0m\u001B[1mLayer (type)                   \u001B[0m\u001B[1m \u001B[0m┃\u001B[1m \u001B[0m\u001B[1mOutput Shape          \u001B[0m\u001B[1m \u001B[0m┃\u001B[1m \u001B[0m\u001B[1m      Param #\u001B[0m\u001B[1m \u001B[0m┃\n",
       "┡━━━━━━━━━━━━━━━━━━━━━━━━━━━━━━━━━╇━━━━━━━━━━━━━━━━━━━━━━━━╇━━━━━━━━━━━━━━━┩\n",
       "│ time_distributed                │ (\u001B[38;5;45mNone\u001B[0m, \u001B[38;5;45mNone\u001B[0m, \u001B[38;5;34m62\u001B[0m)       │             \u001B[38;5;34m0\u001B[0m │\n",
       "│ (\u001B[38;5;33mTimeDistributed\u001B[0m)               │                        │               │\n",
       "├─────────────────────────────────┼────────────────────────┼───────────────┤\n",
       "│ simple_rnn (\u001B[38;5;33mSimpleRNN\u001B[0m)          │ (\u001B[38;5;45mNone\u001B[0m, \u001B[38;5;45mNone\u001B[0m, \u001B[38;5;34m200\u001B[0m)      │        \u001B[38;5;34m52,600\u001B[0m │\n",
       "├─────────────────────────────────┼────────────────────────┼───────────────┤\n",
       "│ dense (\u001B[38;5;33mDense\u001B[0m)                   │ (\u001B[38;5;45mNone\u001B[0m, \u001B[38;5;45mNone\u001B[0m, \u001B[38;5;34m62\u001B[0m)       │        \u001B[38;5;34m12,462\u001B[0m │\n",
       "└─────────────────────────────────┴────────────────────────┴───────────────┘\n"
      ],
      "text/html": [
       "<pre style=\"white-space:pre;overflow-x:auto;line-height:normal;font-family:Menlo,'DejaVu Sans Mono',consolas,'Courier New',monospace\">┏━━━━━━━━━━━━━━━━━━━━━━━━━━━━━━━━━┳━━━━━━━━━━━━━━━━━━━━━━━━┳━━━━━━━━━━━━━━━┓\n",
       "┃<span style=\"font-weight: bold\"> Layer (type)                    </span>┃<span style=\"font-weight: bold\"> Output Shape           </span>┃<span style=\"font-weight: bold\">       Param # </span>┃\n",
       "┡━━━━━━━━━━━━━━━━━━━━━━━━━━━━━━━━━╇━━━━━━━━━━━━━━━━━━━━━━━━╇━━━━━━━━━━━━━━━┩\n",
       "│ time_distributed                │ (<span style=\"color: #00d7ff; text-decoration-color: #00d7ff\">None</span>, <span style=\"color: #00d7ff; text-decoration-color: #00d7ff\">None</span>, <span style=\"color: #00af00; text-decoration-color: #00af00\">62</span>)       │             <span style=\"color: #00af00; text-decoration-color: #00af00\">0</span> │\n",
       "│ (<span style=\"color: #0087ff; text-decoration-color: #0087ff\">TimeDistributed</span>)               │                        │               │\n",
       "├─────────────────────────────────┼────────────────────────┼───────────────┤\n",
       "│ simple_rnn (<span style=\"color: #0087ff; text-decoration-color: #0087ff\">SimpleRNN</span>)          │ (<span style=\"color: #00d7ff; text-decoration-color: #00d7ff\">None</span>, <span style=\"color: #00d7ff; text-decoration-color: #00d7ff\">None</span>, <span style=\"color: #00af00; text-decoration-color: #00af00\">200</span>)      │        <span style=\"color: #00af00; text-decoration-color: #00af00\">52,600</span> │\n",
       "├─────────────────────────────────┼────────────────────────┼───────────────┤\n",
       "│ dense (<span style=\"color: #0087ff; text-decoration-color: #0087ff\">Dense</span>)                   │ (<span style=\"color: #00d7ff; text-decoration-color: #00d7ff\">None</span>, <span style=\"color: #00d7ff; text-decoration-color: #00d7ff\">None</span>, <span style=\"color: #00af00; text-decoration-color: #00af00\">62</span>)       │        <span style=\"color: #00af00; text-decoration-color: #00af00\">12,462</span> │\n",
       "└─────────────────────────────────┴────────────────────────┴───────────────┘\n",
       "</pre>\n"
      ]
     },
     "metadata": {}
    },
    {
     "output_type": "display_data",
     "data": {
      "text/plain": [
       "\u001B[1m Total params: \u001B[0m\u001B[38;5;34m65,062\u001B[0m (254.15 KB)\n"
      ],
      "text/html": [
       "<pre style=\"white-space:pre;overflow-x:auto;line-height:normal;font-family:Menlo,'DejaVu Sans Mono',consolas,'Courier New',monospace\"><span style=\"font-weight: bold\"> Total params: </span><span style=\"color: #00af00; text-decoration-color: #00af00\">65,062</span> (254.15 KB)\n",
       "</pre>\n"
      ]
     },
     "metadata": {}
    },
    {
     "output_type": "display_data",
     "data": {
      "text/plain": [
       "\u001B[1m Trainable params: \u001B[0m\u001B[38;5;34m65,062\u001B[0m (254.15 KB)\n"
      ],
      "text/html": [
       "<pre style=\"white-space:pre;overflow-x:auto;line-height:normal;font-family:Menlo,'DejaVu Sans Mono',consolas,'Courier New',monospace\"><span style=\"font-weight: bold\"> Trainable params: </span><span style=\"color: #00af00; text-decoration-color: #00af00\">65,062</span> (254.15 KB)\n",
       "</pre>\n"
      ]
     },
     "metadata": {}
    },
    {
     "output_type": "display_data",
     "data": {
      "text/plain": [
       "\u001B[1m Non-trainable params: \u001B[0m\u001B[38;5;34m0\u001B[0m (0.00 B)\n"
      ],
      "text/html": [
       "<pre style=\"white-space:pre;overflow-x:auto;line-height:normal;font-family:Menlo,'DejaVu Sans Mono',consolas,'Courier New',monospace\"><span style=\"font-weight: bold\"> Non-trainable params: </span><span style=\"color: #00af00; text-decoration-color: #00af00\">0</span> (0.00 B)\n",
       "</pre>\n"
      ]
     },
     "metadata": {}
    }
   ],
   "source": [
    "model = Sequential()\n",
    "\n",
    "model.add(TimeDistributed(CategoryEncoding(num_tokens=vocab_size, output_mode = \"one_hot\"),input_shape=(None,1)))\n",
    "model.add(SimpleRNN(200, return_sequences=True, dropout=0.1, recurrent_dropout=0.1 ))\n",
    "model.add(Dense(vocab_size, activation='softmax'))\n",
    "model.compile(loss='sparse_categorical_crossentropy', optimizer='rmsprop')\n",
    "\n",
    "model.summary()"
   ]
  },
  {
   "cell_type": "markdown",
   "metadata": {
    "id": "8HBZIwR0gruA"
   },
   "source": [
    "### Entrenamiento"
   ]
  },
  {
   "cell_type": "code",
   "source": [
    "model_name = \"biblia_model.keras\""
   ],
   "metadata": {
    "id": "HssahQjbx6pq"
   },
   "execution_count": 25,
   "outputs": []
  },
  {
   "cell_type": "code",
   "execution_count": null,
   "metadata": {
    "colab": {
     "base_uri": "https://localhost:8080/"
    },
    "id": "oQq1PHDkxDvN",
    "outputId": "8d847ce1-3dbc-4497-ee1e-39107ec197bf",
    "collapsed": true
   },
   "outputs": [
    {
     "output_type": "stream",
     "name": "stdout",
     "text": [
      "Epoch 1/20\n",
      "\u001B[1m778/778\u001B[0m \u001B[32m━━━━━━━━━━━━━━━━━━━━\u001B[0m\u001B[37m\u001B[0m \u001B[1m0s\u001B[0m 18ms/step - loss: 2.4303\n",
      " mean perplexity: 6.5552245432680305 \n",
      "\n",
      "Saved new model!\n",
      "\u001B[1m778/778\u001B[0m \u001B[32m━━━━━━━━━━━━━━━━━━━━\u001B[0m\u001B[37m\u001B[0m \u001B[1m43s\u001B[0m 44ms/step - loss: 2.4299\n",
      "Epoch 2/20\n",
      "\u001B[1m775/778\u001B[0m \u001B[32m━━━━━━━━━━━━━━━━━━━\u001B[0m\u001B[37m━\u001B[0m \u001B[1m0s\u001B[0m 14ms/step - loss: 1.8085\n",
      " mean perplexity: 5.514331385222349 \n",
      "\n",
      "Saved new model!\n",
      "\u001B[1m778/778\u001B[0m \u001B[32m━━━━━━━━━━━━━━━━━━━━\u001B[0m\u001B[37m\u001B[0m \u001B[1m18s\u001B[0m 19ms/step - loss: 1.8082\n",
      "Epoch 3/20\n",
      "\u001B[1m778/778\u001B[0m \u001B[32m━━━━━━━━━━━━━━━━━━━━\u001B[0m\u001B[37m\u001B[0m \u001B[1m0s\u001B[0m 15ms/step - loss: 1.6525\n",
      " mean perplexity: 5.079603344743902 \n",
      "\n",
      "Saved new model!\n",
      "\u001B[1m778/778\u001B[0m \u001B[32m━━━━━━━━━━━━━━━━━━━━\u001B[0m\u001B[37m\u001B[0m \u001B[1m22s\u001B[0m 21ms/step - loss: 1.6525\n",
      "Epoch 4/20\n",
      "\u001B[1m778/778\u001B[0m \u001B[32m━━━━━━━━━━━━━━━━━━━━\u001B[0m\u001B[37m\u001B[0m \u001B[1m0s\u001B[0m 14ms/step - loss: 1.5749\n",
      " mean perplexity: 4.926017561825839 \n",
      "\n",
      "Saved new model!\n",
      "\u001B[1m778/778\u001B[0m \u001B[32m━━━━━━━━━━━━━━━━━━━━\u001B[0m\u001B[37m\u001B[0m \u001B[1m15s\u001B[0m 19ms/step - loss: 1.5749\n",
      "Epoch 5/20\n",
      "\u001B[1m778/778\u001B[0m \u001B[32m━━━━━━━━━━━━━━━━━━━━\u001B[0m\u001B[37m\u001B[0m \u001B[1m0s\u001B[0m 14ms/step - loss: 1.5297\n",
      " mean perplexity: 4.816973645036871 \n",
      "\n",
      "Saved new model!\n",
      "\u001B[1m778/778\u001B[0m \u001B[32m━━━━━━━━━━━━━━━━━━━━\u001B[0m\u001B[37m\u001B[0m \u001B[1m22s\u001B[0m 21ms/step - loss: 1.5297\n",
      "Epoch 6/20\n",
      "\u001B[1m778/778\u001B[0m \u001B[32m━━━━━━━━━━━━━━━━━━━━\u001B[0m\u001B[37m\u001B[0m \u001B[1m0s\u001B[0m 14ms/step - loss: 1.4990\n",
      " mean perplexity: 4.7811960415406665 \n",
      "\n",
      "Saved new model!\n",
      "\u001B[1m778/778\u001B[0m \u001B[32m━━━━━━━━━━━━━━━━━━━━\u001B[0m\u001B[37m\u001B[0m \u001B[1m19s\u001B[0m 19ms/step - loss: 1.4990\n",
      "Epoch 7/20\n",
      "\u001B[1m777/778\u001B[0m \u001B[32m━━━━━━━━━━━━━━━━━━━\u001B[0m\u001B[37m━\u001B[0m \u001B[1m0s\u001B[0m 14ms/step - loss: 1.4787\n",
      " mean perplexity: 4.7653323390267115 \n",
      "\n",
      "Saved new model!\n",
      "\u001B[1m778/778\u001B[0m \u001B[32m━━━━━━━━━━━━━━━━━━━━\u001B[0m\u001B[37m\u001B[0m \u001B[1m16s\u001B[0m 21ms/step - loss: 1.4787\n",
      "Epoch 8/20\n",
      "\u001B[1m778/778\u001B[0m \u001B[32m━━━━━━━━━━━━━━━━━━━━\u001B[0m\u001B[37m\u001B[0m \u001B[1m0s\u001B[0m 14ms/step - loss: 1.4637\n",
      " mean perplexity: 4.829765783656727 \n",
      "\n",
      "\u001B[1m778/778\u001B[0m \u001B[32m━━━━━━━━━━━━━━━━━━━━\u001B[0m\u001B[37m\u001B[0m \u001B[1m16s\u001B[0m 21ms/step - loss: 1.4637\n",
      "Epoch 9/20\n",
      "\u001B[1m775/778\u001B[0m \u001B[32m━━━━━━━━━━━━━━━━━━━\u001B[0m\u001B[37m━\u001B[0m \u001B[1m0s\u001B[0m 14ms/step - loss: 1.4510\n",
      " mean perplexity: 4.736728883331472 \n",
      "\n",
      "Saved new model!\n",
      "\u001B[1m778/778\u001B[0m \u001B[32m━━━━━━━━━━━━━━━━━━━━\u001B[0m\u001B[37m\u001B[0m \u001B[1m19s\u001B[0m 19ms/step - loss: 1.4510\n",
      "Epoch 10/20\n",
      "\u001B[1m777/778\u001B[0m \u001B[32m━━━━━━━━━━━━━━━━━━━\u001B[0m\u001B[37m━\u001B[0m \u001B[1m0s\u001B[0m 14ms/step - loss: 1.4431\n",
      " mean perplexity: 4.5594225845553655 \n",
      "\n",
      "Saved new model!\n",
      "\u001B[1m778/778\u001B[0m \u001B[32m━━━━━━━━━━━━━━━━━━━━\u001B[0m\u001B[37m\u001B[0m \u001B[1m16s\u001B[0m 21ms/step - loss: 1.4431\n",
      "Epoch 11/20\n",
      "\u001B[1m775/778\u001B[0m \u001B[32m━━━━━━━━━━━━━━━━━━━\u001B[0m\u001B[37m━\u001B[0m \u001B[1m0s\u001B[0m 14ms/step - loss: 1.4336\n",
      " mean perplexity: 4.607478496161375 \n",
      "\n",
      "\u001B[1m778/778\u001B[0m \u001B[32m━━━━━━━━━━━━━━━━━━━━\u001B[0m\u001B[37m\u001B[0m \u001B[1m15s\u001B[0m 19ms/step - loss: 1.4336\n",
      "Epoch 12/20\n",
      "\u001B[1m777/778\u001B[0m \u001B[32m━━━━━━━━━━━━━━━━━━━\u001B[0m\u001B[37m━\u001B[0m \u001B[1m0s\u001B[0m 14ms/step - loss: 1.4271\n",
      " mean perplexity: 4.704407061230053 \n",
      "\n",
      "\u001B[1m778/778\u001B[0m \u001B[32m━━━━━━━━━━━━━━━━━━━━\u001B[0m\u001B[37m\u001B[0m \u001B[1m16s\u001B[0m 21ms/step - loss: 1.4271\n",
      "Epoch 13/20\n",
      "\u001B[1m777/778\u001B[0m \u001B[32m━━━━━━━━━━━━━━━━━━━\u001B[0m\u001B[37m━\u001B[0m \u001B[1m0s\u001B[0m 14ms/step - loss: 1.4185\n",
      " mean perplexity: 4.582149145819924 \n",
      "\n",
      "\u001B[1m778/778\u001B[0m \u001B[32m━━━━━━━━━━━━━━━━━━━━\u001B[0m\u001B[37m\u001B[0m \u001B[1m21s\u001B[0m 21ms/step - loss: 1.4185\n",
      "Epoch 14/20\n",
      "\u001B[1m778/778\u001B[0m \u001B[32m━━━━━━━━━━━━━━━━━━━━\u001B[0m\u001B[37m\u001B[0m \u001B[1m0s\u001B[0m 14ms/step - loss: 1.4156\n",
      " mean perplexity: 4.839408257332715 \n",
      "\n",
      "\u001B[1m778/778\u001B[0m \u001B[32m━━━━━━━━━━━━━━━━━━━━\u001B[0m\u001B[37m\u001B[0m \u001B[1m16s\u001B[0m 21ms/step - loss: 1.4156\n",
      "Epoch 15/20\n",
      "\u001B[1m776/778\u001B[0m \u001B[32m━━━━━━━━━━━━━━━━━━━\u001B[0m\u001B[37m━\u001B[0m \u001B[1m0s\u001B[0m 14ms/step - loss: 1.4100\n",
      " mean perplexity: 4.802405951781706 \n",
      "\n",
      "Stopping training...\n",
      "\u001B[1m778/778\u001B[0m \u001B[32m━━━━━━━━━━━━━━━━━━━━\u001B[0m\u001B[37m\u001B[0m \u001B[1m19s\u001B[0m 19ms/step - loss: 1.4100\n"
     ]
    }
   ],
   "source": [
    "# fiteamos, nótese el agregado del callback con su inicialización. El batch_size lo podemos seleccionar a mano\n",
    "# en general, lo mejor es escoger el batch más grande posible que minimice el tiempo de cada época.\n",
    "# En la variable `history_ppl` se guardarán los valores de perplejidad para cada época.\n",
    "history_ppl = []\n",
    "hist = model.fit(X, y, epochs=20, callbacks=[PplCallback(tokenized_sentences_val, history_ppl, model_name)], batch_size=256)"
   ]
  },
  {
   "cell_type": "code",
   "execution_count": null,
   "metadata": {
    "colab": {
     "base_uri": "https://localhost:8080/",
     "height": 430
    },
    "id": "K30JHB3Dv-mx",
    "outputId": "b229a732-641d-470f-ee80-4f25edf85e2a"
   },
   "outputs": [
    {
     "output_type": "display_data",
     "data": {
      "text/plain": [
       "<Figure size 640x480 with 1 Axes>"
      ],
      "image/png": "[encoded data removed]"
     },
     "metadata": {}
    }
   ],
   "source": [
    "epoch_count = range(1, len(history_ppl) + 1)\n",
    "sns.lineplot(x=epoch_count,  y=history_ppl)\n",
    "plt.show()"
   ]
  },
  {
   "cell_type": "code",
   "execution_count": 26,
   "metadata": {
    "id": "Rhy5hZN38qfO"
   },
   "outputs": [],
   "source": [
    "# Cargamos el mejor modelo guardado del entrenamiento para hacer inferencia\n",
    "model = keras.models.load_model(model_name)"
   ]
  },
  {
   "cell_type": "markdown",
   "metadata": {
    "id": "KN6Fg_BsxJe6"
   },
   "source": [
    "\n",
    "### Predicción del próximo caracter"
   ]
  },
  {
   "cell_type": "code",
   "execution_count": 24,
   "metadata": {
    "colab": {
     "base_uri": "https://localhost:8080/"
    },
    "id": "IBvKHFPmzpy2",
    "outputId": "9d650df5-f06c-4ee6-8b08-ac8ab0200bda"
   },
   "outputs": [
    {
     "output_type": "stream",
     "name": "stdout",
     "text": [
      "\u001B[2K   \u001B[90m━━━━━━━━━━━━━━━━━━━━━━━━━━━━━━━━━━━━━━━━\u001B[0m \u001B[32m46.9/46.9 MB\u001B[0m \u001B[31m17.7 MB/s\u001B[0m eta \u001B[36m0:00:00\u001B[0m\n",
      "\u001B[2K   \u001B[90m━━━━━━━━━━━━━━━━━━━━━━━━━━━━━━━━━━━━━━━━\u001B[0m \u001B[32m322.2/322.2 kB\u001B[0m \u001B[31m18.4 MB/s\u001B[0m eta \u001B[36m0:00:00\u001B[0m\n",
      "\u001B[2K   \u001B[90m━━━━━━━━━━━━━━━━━━━━━━━━━━━━━━━━━━━━━━━━\u001B[0m \u001B[32m95.2/95.2 kB\u001B[0m \u001B[31m5.1 MB/s\u001B[0m eta \u001B[36m0:00:00\u001B[0m\n",
      "\u001B[2K   \u001B[90m━━━━━━━━━━━━━━━━━━━━━━━━━━━━━━━━━━━━━━━━\u001B[0m \u001B[32m11.5/11.5 MB\u001B[0m \u001B[31m37.9 MB/s\u001B[0m eta \u001B[36m0:00:00\u001B[0m\n",
      "\u001B[2K   \u001B[90m━━━━━━━━━━━━━━━━━━━━━━━━━━━━━━━━━━━━━━━━\u001B[0m \u001B[32m72.0/72.0 kB\u001B[0m \u001B[31m4.0 MB/s\u001B[0m eta \u001B[36m0:00:00\u001B[0m\n",
      "\u001B[2K   \u001B[90m━━━━━━━━━━━━━━━━━━━━━━━━━━━━━━━━━━━━━━━━\u001B[0m \u001B[32m62.5/62.5 kB\u001B[0m \u001B[31m4.1 MB/s\u001B[0m eta \u001B[36m0:00:00\u001B[0m\n",
      "\u001B[?25h"
     ]
    }
   ],
   "source": [
    "# Se puede usar gradio para probar el modelo\n",
    "# Gradio es una herramienta muy útil para crear interfaces para ensayar modelos\n",
    "# https://gradio.app/\n",
    "\n",
    "!pip install -q gradio"
   ]
  },
  {
   "cell_type": "markdown",
   "source": [
    "Aunque es posible, quizás no es tan interesante ver solamente el próximo caractere propuesto por el modelo, por tanto no exploraremos mucho la predicción de a un caracter."
   ],
   "metadata": {
    "id": "_ovs-M8a0J6j"
   }
  },
  {
   "cell_type": "code",
   "execution_count": 27,
   "metadata": {
    "colab": {
     "base_uri": "https://localhost:8080/",
     "height": 1000
    },
    "id": "HNyBykvhzs7-",
    "outputId": "9f91d6f3-f1ec-4033-ceba-eab2a298a2d7"
   },
   "outputs": [
    {
     "output_type": "stream",
     "name": "stdout",
     "text": [
      "It looks like you are running Gradio on a hosted a Jupyter notebook. For the Gradio app to work, sharing must be enabled. Automatically setting `share=True` (you can turn this off by setting `share=False` in `launch()` explicitly).\n",
      "\n",
      "Colab notebook detected. This cell will run indefinitely so that you can see errors and logs. To turn off, set debug=False in launch().\n",
      "* Running on public URL: https://4571befe5043bda86b.gradio.live\n",
      "\n",
      "This share link expires in 1 week. For free permanent hosting and GPU upgrades, run `gradio deploy` from the terminal in the working directory to deploy to Hugging Face Spaces (https://huggingface.co/spaces)\n"
     ]
    },
    {
     "output_type": "display_data",
     "data": {
      "text/plain": [
       "<IPython.core.display.HTML object>"
      ],
      "text/html": [
       "<div><iframe src=\"https://4571befe5043bda86b.gradio.live\" width=\"100%\" height=\"500\" allow=\"autoplay; camera; microphone; clipboard-read; clipboard-write;\" frameborder=\"0\" allowfullscreen></iframe></div>"
      ]
     },
     "metadata": {}
    },
    {
     "output_type": "stream",
     "name": "stdout",
     "text": [
      "\u001B[1m1/1\u001B[0m \u001B[32m━━━━━━━━━━━━━━━━━━━━\u001B[0m\u001B[37m\u001B[0m \u001B[1m4s\u001B[0m 4s/step\n",
      "\u001B[1m1/1\u001B[0m \u001B[32m━━━━━━━━━━━━━━━━━━━━\u001B[0m\u001B[37m\u001B[0m \u001B[1m0s\u001B[0m 37ms/step\n",
      "\u001B[1m1/1\u001B[0m \u001B[32m━━━━━━━━━━━━━━━━━━━━\u001B[0m\u001B[37m\u001B[0m \u001B[1m0s\u001B[0m 37ms/step\n",
      "\u001B[1m1/1\u001B[0m \u001B[32m━━━━━━━━━━━━━━━━━━━━\u001B[0m\u001B[37m\u001B[0m \u001B[1m0s\u001B[0m 58ms/step\n",
      "\u001B[1m1/1\u001B[0m \u001B[32m━━━━━━━━━━━━━━━━━━━━\u001B[0m\u001B[37m\u001B[0m \u001B[1m0s\u001B[0m 37ms/step\n",
      "\u001B[1m1/1\u001B[0m \u001B[32m━━━━━━━━━━━━━━━━━━━━\u001B[0m\u001B[37m\u001B[0m \u001B[1m0s\u001B[0m 38ms/step\n",
      "\u001B[1m1/1\u001B[0m \u001B[32m━━━━━━━━━━━━━━━━━━━━\u001B[0m\u001B[37m\u001B[0m \u001B[1m0s\u001B[0m 37ms/step\n",
      "\u001B[1m1/1\u001B[0m \u001B[32m━━━━━━━━━━━━━━━━━━━━\u001B[0m\u001B[37m\u001B[0m \u001B[1m0s\u001B[0m 35ms/step\n",
      "\u001B[1m1/1\u001B[0m \u001B[32m━━━━━━━━━━━━━━━━━━━━\u001B[0m\u001B[37m\u001B[0m \u001B[1m0s\u001B[0m 50ms/step\n",
      "\u001B[1m1/1\u001B[0m \u001B[32m━━━━━━━━━━━━━━━━━━━━\u001B[0m\u001B[37m\u001B[0m \u001B[1m0s\u001B[0m 38ms/step\n",
      "\u001B[1m1/1\u001B[0m \u001B[32m━━━━━━━━━━━━━━━━━━━━\u001B[0m\u001B[37m\u001B[0m \u001B[1m0s\u001B[0m 51ms/step\n",
      "\u001B[1m1/1\u001B[0m \u001B[32m━━━━━━━━━━━━━━━━━━━━\u001B[0m\u001B[37m\u001B[0m \u001B[1m0s\u001B[0m 37ms/step\n",
      "\u001B[1m1/1\u001B[0m \u001B[32m━━━━━━━━━━━━━━━━━━━━\u001B[0m\u001B[37m\u001B[0m \u001B[1m0s\u001B[0m 38ms/step\n",
      "\u001B[1m1/1\u001B[0m \u001B[32m━━━━━━━━━━━━━━━━━━━━\u001B[0m\u001B[37m\u001B[0m \u001B[1m0s\u001B[0m 38ms/step\n",
      "\u001B[1m1/1\u001B[0m \u001B[32m━━━━━━━━━━━━━━━━━━━━\u001B[0m\u001B[37m\u001B[0m \u001B[1m0s\u001B[0m 52ms/step\n",
      "\u001B[1m1/1\u001B[0m \u001B[32m━━━━━━━━━━━━━━━━━━━━\u001B[0m\u001B[37m\u001B[0m \u001B[1m0s\u001B[0m 37ms/step\n",
      "\u001B[1m1/1\u001B[0m \u001B[32m━━━━━━━━━━━━━━━━━━━━\u001B[0m\u001B[37m\u001B[0m \u001B[1m0s\u001B[0m 36ms/step\n",
      "\u001B[1m1/1\u001B[0m \u001B[32m━━━━━━━━━━━━━━━━━━━━\u001B[0m\u001B[37m\u001B[0m \u001B[1m0s\u001B[0m 36ms/step\n",
      "\u001B[1m1/1\u001B[0m \u001B[32m━━━━━━━━━━━━━━━━━━━━\u001B[0m\u001B[37m\u001B[0m \u001B[1m0s\u001B[0m 36ms/step\n",
      "\u001B[1m1/1\u001B[0m \u001B[32m━━━━━━━━━━━━━━━━━━━━\u001B[0m\u001B[37m\u001B[0m \u001B[1m0s\u001B[0m 59ms/step\n",
      "\u001B[1m1/1\u001B[0m \u001B[32m━━━━━━━━━━━━━━━━━━━━\u001B[0m\u001B[37m\u001B[0m \u001B[1m0s\u001B[0m 37ms/step\n",
      "\u001B[1m1/1\u001B[0m \u001B[32m━━━━━━━━━━━━━━━━━━━━\u001B[0m\u001B[37m\u001B[0m \u001B[1m0s\u001B[0m 39ms/step\n",
      "\u001B[1m1/1\u001B[0m \u001B[32m━━━━━━━━━━━━━━━━━━━━\u001B[0m\u001B[37m\u001B[0m \u001B[1m0s\u001B[0m 38ms/step\n",
      "\u001B[1m1/1\u001B[0m \u001B[32m━━━━━━━━━━━━━━━━━━━━\u001B[0m\u001B[37m\u001B[0m \u001B[1m0s\u001B[0m 35ms/step\n",
      "\u001B[1m1/1\u001B[0m \u001B[32m━━━━━━━━━━━━━━━━━━━━\u001B[0m\u001B[37m\u001B[0m \u001B[1m0s\u001B[0m 35ms/step\n",
      "\u001B[1m1/1\u001B[0m \u001B[32m━━━━━━━━━━━━━━━━━━━━\u001B[0m\u001B[37m\u001B[0m \u001B[1m0s\u001B[0m 38ms/step\n",
      "\u001B[1m1/1\u001B[0m \u001B[32m━━━━━━━━━━━━━━━━━━━━\u001B[0m\u001B[37m\u001B[0m \u001B[1m0s\u001B[0m 54ms/step\n",
      "\u001B[1m1/1\u001B[0m \u001B[32m━━━━━━━━━━━━━━━━━━━━\u001B[0m\u001B[37m\u001B[0m \u001B[1m0s\u001B[0m 37ms/step\n",
      "\u001B[1m1/1\u001B[0m \u001B[32m━━━━━━━━━━━━━━━━━━━━\u001B[0m\u001B[37m\u001B[0m \u001B[1m0s\u001B[0m 35ms/step\n",
      "\u001B[1m1/1\u001B[0m \u001B[32m━━━━━━━━━━━━━━━━━━━━\u001B[0m\u001B[37m\u001B[0m \u001B[1m0s\u001B[0m 36ms/step\n",
      "\u001B[1m1/1\u001B[0m \u001B[32m━━━━━━━━━━━━━━━━━━━━\u001B[0m\u001B[37m\u001B[0m \u001B[1m0s\u001B[0m 37ms/step\n",
      "\u001B[1m1/1\u001B[0m \u001B[32m━━━━━━━━━━━━━━━━━━━━\u001B[0m\u001B[37m\u001B[0m \u001B[1m0s\u001B[0m 52ms/step\n",
      "Keyboard interruption in main thread... closing server.\n",
      "Killing tunnel 127.0.0.1:7860 <> https://4571befe5043bda86b.gradio.live\n"
     ]
    },
    {
     "output_type": "execute_result",
     "data": {
      "text/plain": []
     },
     "metadata": {},
     "execution_count": 27
    }
   ],
   "source": [
    "import gradio as gr\n",
    "\n",
    "def model_response(human_text):\n",
    "\n",
    "    # Encodeamos\n",
    "    encoded = [char2idx[ch] for ch in human_text.lower() ]\n",
    "    # Si tienen distinto largo\n",
    "    encoded = pad_sequences([encoded], maxlen=max_context_size, padding='pre')\n",
    "\n",
    "    # Predicción softmax\n",
    "    y_hat = np.argmax(model.predict(encoded)[0,-1,:])\n",
    "\n",
    "    # Debemos buscar en el vocabulario el caracter\n",
    "    # que corresopnde al indice (y_hat) predicho por le modelo\n",
    "    out_word = ''\n",
    "    out_word = idx2char[y_hat]\n",
    "\n",
    "    # Agrego el caracter a la frase predicha\n",
    "    return human_text + out_word\n",
    "\n",
    "iface = gr.Interface(\n",
    "    fn=model_response,\n",
    "    inputs=[\"textbox\"],\n",
    "    outputs=\"text\")\n",
    "\n",
    "iface.launch(debug=True)"
   ]
  },
  {
   "cell_type": "markdown",
   "metadata": {
    "id": "mCeMWWupxN1-"
   },
   "source": [
    "### Generación de secuencias"
   ]
  },
  {
   "cell_type": "code",
   "execution_count": 16,
   "metadata": {
    "id": "bwbS_pfhxvB3"
   },
   "outputs": [],
   "source": [
    "def generate_seq(model, seed_text, max_length, n_tokens):\n",
    "    \"\"\"\n",
    "        Exec model sequence prediction\n",
    "\n",
    "        Args:\n",
    "            model (keras): modelo entrenado\n",
    "            seed_text (string): texto de entrada (input_seq)\n",
    "            max_length (int): máxima longitud de la sequencia de entrada\n",
    "            n_tokens (int): números de caracteres a agregar a la sequencia de entrada\n",
    "        returns:\n",
    "            output_text (string): sentencia con las \"n_tokens\" agregadas\n",
    "    \"\"\"\n",
    "    output_text = seed_text\n",
    "\t  # generamos una cantidad fija de caracteres\n",
    "    for _ in range(n_tokens):\n",
    "\t\t    # Encodeamos\n",
    "        encoded = [char2idx[ch] for ch in output_text.lower() ]\n",
    "\t\t    # Si tienen distinto largo\n",
    "        encoded = pad_sequences([encoded], maxlen=max_length, padding='pre')\n",
    "\n",
    "\t\t    # Predicción softmax\n",
    "        y_hat = np.argmax(model.predict(encoded,verbose=0)[0,-1,:])\n",
    "\t\t    # Vamos concatenando las predicciones\n",
    "        out_word = ''\n",
    "\n",
    "        out_word = idx2char[y_hat]\n",
    "\n",
    "\t\t    # Agrego los caracteres a la frase predicha\n",
    "        output_text += out_word\n",
    "    return output_text"
   ]
  },
  {
   "cell_type": "code",
   "source": [
    "input_text_1='y entonces moisés '"
   ],
   "metadata": {
    "id": "NMaQ8A7c1nqy"
   },
   "execution_count": 15,
   "outputs": []
  },
  {
   "cell_type": "code",
   "execution_count": null,
   "metadata": {
    "colab": {
     "base_uri": "https://localhost:8080/",
     "height": 35
    },
    "id": "JoFqRC5pxzqS",
    "outputId": "bdd6a9ad-17b7-4cd6-dd5b-6ce21a7faa6c"
   },
   "outputs": [
    {
     "output_type": "execute_result",
     "data": {
      "text/plain": [
       "'y entonces moisés a la entrada de la tienda del encuentro y lo que la piel, en el sacerdote lo que se acercarán la car'"
      ],
      "application/vnd.google.colaboratory.intrinsic+json": {
       "type": "string"
      }
     },
     "metadata": {},
     "execution_count": 47
    }
   ],
   "source": [
    "generate_seq(model, input_text_1, max_length=max_context_size, n_tokens=100)"
   ]
  },
  {
   "cell_type": "markdown",
   "source": [
    "La primera conclusión es que, aunque la frase generada tenga un sentido sintáctico, formando palabras reales que figuran en la biblia, no se cuenta con un sentido semántico."
   ],
   "metadata": {
    "id": "yd5J5QLa0zhz"
   }
  },
  {
   "cell_type": "markdown",
   "metadata": {
    "id": "drJ6xn5qW1Hl"
   },
   "source": [
    "###  Beam search y muestreo aleatorio"
   ]
  },
  {
   "cell_type": "code",
   "execution_count": 17,
   "metadata": {
    "id": "_vovn9XZW1Hl"
   },
   "outputs": [],
   "source": [
    "# funcionalidades para hacer encoding y decoding\n",
    "def encode(text,max_length=max_context_size):\n",
    "\n",
    "    encoded = [char2idx[ch] for ch in text]\n",
    "    encoded = pad_sequences([encoded], maxlen=max_length, padding='pre')\n",
    "\n",
    "    return encoded\n",
    "\n",
    "def decode(seq):\n",
    "    return ''.join([idx2char[ch] for ch in seq])"
   ]
  },
  {
   "cell_type": "code",
   "execution_count": 18,
   "metadata": {
    "id": "I_lZiQwkW1Hl"
   },
   "outputs": [],
   "source": [
    "from scipy.special import softmax\n",
    "\n",
    "# función que selecciona candidatos para el beam search\n",
    "def select_candidates(pred, num_beams, vocab_size, history_probs, history_tokens, temp, mode):\n",
    "\n",
    "  # colectar todas las probabilidades para la siguiente búsqueda\n",
    "  pred_large = []\n",
    "\n",
    "  for idx,pp in enumerate(pred):\n",
    "    pred_large.extend(np.log(pp+1E-10)+history_probs[idx])\n",
    "\n",
    "  pred_large = np.array(pred_large)\n",
    "\n",
    "  # criterio de selección\n",
    "  if mode == 'det':\n",
    "    idx_select = np.argsort(pred_large)[::-1][:num_beams] # beam search determinista\n",
    "  elif mode == 'sto':\n",
    "    idx_select = np.random.choice(np.arange(pred_large.shape[0]), num_beams, p=softmax(pred_large/temp)) # beam search con muestreo aleatorio\n",
    "  else:\n",
    "    raise ValueError(f'Wrong selection mode. {mode} was given. det and sto are supported.')\n",
    "\n",
    "  # traducir a índices de token en el vocabulario\n",
    "  new_history_tokens = np.concatenate((np.array(history_tokens)[idx_select//vocab_size],\n",
    "                        np.array([idx_select%vocab_size]).T),\n",
    "                      axis=1)\n",
    "\n",
    "  # devolver el producto de las probabilidades (log) y la secuencia de tokens seleccionados\n",
    "  return pred_large[idx_select.astype(int)], new_history_tokens.astype(int)\n",
    "\n",
    "\n",
    "def beam_search(model, num_beams, num_tokens, input, temp=1, mode='det'):\n",
    "\n",
    "    # first iteration\n",
    "\n",
    "    # encode\n",
    "    encoded = encode(input)\n",
    "\n",
    "    # first prediction\n",
    "    y_hat = model.predict(encoded,verbose=0)[0,-1,:]\n",
    "\n",
    "    # get vocabulary size\n",
    "    vocab_size = y_hat.shape[0]\n",
    "\n",
    "    # initialize history\n",
    "    history_probs = [0]*num_beams\n",
    "    history_tokens = [encoded[0]]*num_beams\n",
    "\n",
    "    # select num_beams candidates\n",
    "    history_probs, history_tokens = select_candidates([y_hat],\n",
    "                                        num_beams,\n",
    "                                        vocab_size,\n",
    "                                        history_probs,\n",
    "                                        history_tokens,\n",
    "                                        temp,\n",
    "                                        mode)\n",
    "\n",
    "    # beam search loop\n",
    "    for i in range(num_tokens-1):\n",
    "\n",
    "      preds = []\n",
    "\n",
    "      for hist in history_tokens:\n",
    "\n",
    "        # actualizar secuencia de tokens\n",
    "        input_update = np.array([hist[i+1:]]).copy()\n",
    "\n",
    "        # predicción\n",
    "        y_hat = model.predict(input_update,verbose=0)[0,-1,:]\n",
    "\n",
    "        preds.append(y_hat)\n",
    "\n",
    "      history_probs, history_tokens = select_candidates(preds,\n",
    "                                                        num_beams,\n",
    "                                                        vocab_size,\n",
    "                                                        history_probs,\n",
    "                                                        history_tokens,\n",
    "                                                        temp,\n",
    "                                                        mode)\n",
    "\n",
    "    return history_tokens[:,-(len(input)+num_tokens):]"
   ]
  },
  {
   "cell_type": "code",
   "execution_count": null,
   "metadata": {
    "id": "GeLqAoOYW1Hm"
   },
   "outputs": [],
   "source": [
    "# predicción con beam search\n",
    "salidas = beam_search(model, num_beams=10, num_tokens=100, input=input_text_1)"
   ]
  },
  {
   "cell_type": "code",
   "execution_count": null,
   "metadata": {
    "colab": {
     "base_uri": "https://localhost:8080/"
    },
    "id": "P8HQoLhw-NYg",
    "outputId": "77d19738-7875-4427-dfbc-b1b9cf9ae851"
   },
   "outputs": [
    {
     "output_type": "execute_result",
     "data": {
      "text/plain": [
       "array([48,  0, 29, 38, 44, 39, 38, 27, 29, 43,  0, 37, 39, 33, 43, 55, 43,\n",
       "        0, 28, 29,  0, 36, 25,  0, 44, 33, 29, 38, 28, 25,  0, 28, 29, 36,\n",
       "        0, 29, 38, 27, 45, 29, 38, 44, 42, 39,  0, 40, 25, 42, 25,  0, 29,\n",
       "       36,  0, 43, 25, 27, 29, 42, 28, 39, 44, 29,  0, 36, 39,  0, 41, 45,\n",
       "       29, 28, 25, 42, 54,  0, 33, 37, 40, 45, 42, 39,  0, 32, 25, 43, 44,\n",
       "       25,  0, 36, 25,  0, 44, 33, 29, 38, 28, 25,  0, 28, 29, 36,  0, 29,\n",
       "       38, 27, 45, 29, 38, 44, 42, 39,  0, 40, 25, 42, 25,  0, 29, 36])"
      ]
     },
     "metadata": {},
     "execution_count": 49
    }
   ],
   "source": [
    "salidas[0]"
   ]
  },
  {
   "cell_type": "code",
   "execution_count": null,
   "metadata": {
    "id": "2S3_I3S1W1Hm"
   },
   "outputs": [],
   "source": [
    "salidas_decoded = [decode(salida) for salida in salidas]"
   ]
  },
  {
   "cell_type": "code",
   "source": [
    "for salida in salidas_decoded:\n",
    "    print(salida)"
   ],
   "metadata": {
    "id": "eUoBDqXnOB6Q",
    "outputId": "c1d4dbc8-3b11-4271-bb04-2057c7100169",
    "colab": {
     "base_uri": "https://localhost:8080/"
    }
   },
   "execution_count": null,
   "outputs": [
    {
     "output_type": "stream",
     "name": "stdout",
     "text": [
      "y entonces moisés de la tienda del encuentro para el sacerdote lo quedará impuro hasta la tienda del encuentro para el\n",
      "y entonces moisés de la tienda del encuentro para el sacerdote lo quedará impuro hasta la tienda del encuentro por el \n",
      "y entonces moisés de la tienda del encuentro para el sacerdote lo quedará impuro hasta la tienda del encuentro para qu\n",
      "y entonces moisés de la tienda del encuentro para el sacerdote lo quedará impuro hasta la tienda del encuentro, con su\n",
      "y entonces moisés de la tienda del encuentro para el sacerdote lo quedará impuro hasta la tienda del encuentro para la\n",
      "y entonces moisés de la tienda del encuentro para el sacerdote lo quedará impuro hasta la tienda del encuentro. [14] e\n",
      "y entonces moisés de la tienda del encuentro para el sacerdote lo quedará impuro hasta la tienda del encuentro. [15] e\n",
      "y entonces moisés de la tienda del encuentro para el sacerdote lo quedará impuro hasta la tienda del encuentro y los i\n",
      "y entonces moisés de la tienda del encuentro para el sacerdote lo quedará impuro hasta la tienda del encuentro. [14] s\n",
      "y entonces moisés de la tienda del encuentro para el sacerdote lo quedará impuro hasta la tienda del encuentro, como s\n"
     ]
    }
   ]
  },
  {
   "cell_type": "markdown",
   "source": [
    "Se observa que todas las ramas cambian recién al final de la oración. Veamos probando la generación estocástica, con una temperatura más alta."
   ],
   "metadata": {
    "id": "-U3Sw3jZ2SRz"
   }
  },
  {
   "cell_type": "code",
   "source": [
    "salidas_sto = beam_search(model, num_beams=10, num_tokens=100, input=input_text_1, temp=2, mode='sto')"
   ],
   "metadata": {
    "id": "e1ZpzgT12lBy"
   },
   "execution_count": null,
   "outputs": []
  },
  {
   "cell_type": "code",
   "source": [
    "salidas_sto_decoded = [decode(salida) for salida in salidas_sto]\n",
    "for salida in salidas_sto_decoded:\n",
    "    print(salida)"
   ],
   "metadata": {
    "colab": {
     "base_uri": "https://localhost:8080/"
    },
    "id": "fGtWH7nl2wM0",
    "outputId": "0c714e84-1d24-41cc-ae9d-5f07bc07f908"
   },
   "execution_count": null,
   "outputs": [
    {
     "output_type": "stream",
     "name": "stdout",
     "text": [
      "y entonces moisés la mesa colocarán las animales de enillas que ofrecerá uno los basas. [11] pero este es el sacerdote\n",
      "y entonces moisés la mesa colocarán las animales de enillas que ofrecerá uno los basas. [11] pero este es el sacerdote\n",
      "y entonces moisés la mesa colocarán las animales de enillas que ofrecerá uno los basas. [11] pero este es el sacerdote\n",
      "y entonces moisés la mesa colocarán las animales de enillas que ofrecerá uno los basas. [11] pero este es el sacerdote\n",
      "y entonces moisés la mesa colocarán las animales de enillas que ofrecerá uno los basas. [11] pero este es el sacerdosu\n",
      "y entonces moisés la mesa colocarán las animales de enillas que ofrecerá uno los basas. [11] pero este es el sacerdote\n",
      "y entonces moisés la mesa colocarán las animales de enillas que ofrecerá uno los basas. [11] pero este es el sacerdor;\n",
      "y entonces moisés la mesa colocarán las animales de enillas que ofrecerá uno los basas. [11] pero este es el sacerdote\n",
      "y entonces moisés la mesa colocarán las animales de enillas que ofrecerá uno los basas. [11] pero este es el sacerdote\n",
      "y entonces moisés la mesa colocarán las animales de enillas que ofrecerá uno los basas. [11] pero este es el sacerdote\n"
     ]
    }
   ]
  },
  {
   "metadata": {},
   "cell_type": "markdown",
   "source": "Nuevamente no se presenta mucha variación hasta el final de las oraciones, y se comete en este caso el error de formar palabras inexistentes."
  },
  {
   "cell_type": "markdown",
   "source": [
    "## Propuesta de Modelos"
   ],
   "metadata": {
    "id": "9OoFVluq22sw"
   }
  },
  {
   "cell_type": "markdown",
   "source": [
    "### Modelo con GRU\n",
    "\n",
    "Intentaremos proponer un modelo que sea ligero y eficiente, apostando por:\n",
    "\n",
    "- Embedding: Representaciones densas aprendidas (en lugar de codificación fija).\n",
    "\n",
    "- GRU: Unidades recurrentes más potentes que las SimpleRNN.\n",
    "\n",
    "Al reducir la capacidad del modelo (solo 64 unidades GRU) y cambiar la representación, puede perder capacidad expresiva."
   ],
   "metadata": {
    "id": "f_DS65uoCBQ-"
   }
  },
  {
   "cell_type": "code",
   "execution_count": null,
   "metadata": {
    "colab": {
     "base_uri": "https://localhost:8080/",
     "height": 232
    },
    "id": "1-GX62eQWiUF",
    "outputId": "a6c751d0-ada0-476a-e97b-867156daf10b"
   },
   "outputs": [
    {
     "output_type": "display_data",
     "data": {
      "text/plain": [
       "\u001B[1mModel: \"sequential_1\"\u001B[0m\n"
      ],
      "text/html": [
       "<pre style=\"white-space:pre;overflow-x:auto;line-height:normal;font-family:Menlo,'DejaVu Sans Mono',consolas,'Courier New',monospace\"><span style=\"font-weight: bold\">Model: \"sequential_1\"</span>\n",
       "</pre>\n"
      ]
     },
     "metadata": {}
    },
    {
     "output_type": "display_data",
     "data": {
      "text/plain": [
       "┏━━━━━━━━━━━━━━━━━━━━━━━━━━━━━━━━━┳━━━━━━━━━━━━━━━━━━━━━━━━┳━━━━━━━━━━━━━━━┓\n",
       "┃\u001B[1m \u001B[0m\u001B[1mLayer (type)                   \u001B[0m\u001B[1m \u001B[0m┃\u001B[1m \u001B[0m\u001B[1mOutput Shape          \u001B[0m\u001B[1m \u001B[0m┃\u001B[1m \u001B[0m\u001B[1m      Param #\u001B[0m\u001B[1m \u001B[0m┃\n",
       "┡━━━━━━━━━━━━━━━━━━━━━━━━━━━━━━━━━╇━━━━━━━━━━━━━━━━━━━━━━━━╇━━━━━━━━━━━━━━━┩\n",
       "│ embedding (\u001B[38;5;33mEmbedding\u001B[0m)           │ (\u001B[38;5;45mNone\u001B[0m, \u001B[38;5;45mNone\u001B[0m, \u001B[38;5;34m32\u001B[0m)       │         \u001B[38;5;34m1,984\u001B[0m │\n",
       "├─────────────────────────────────┼────────────────────────┼───────────────┤\n",
       "│ gru (\u001B[38;5;33mGRU\u001B[0m)                       │ (\u001B[38;5;45mNone\u001B[0m, \u001B[38;5;45mNone\u001B[0m, \u001B[38;5;34m64\u001B[0m)       │        \u001B[38;5;34m18,816\u001B[0m │\n",
       "├─────────────────────────────────┼────────────────────────┼───────────────┤\n",
       "│ dense_1 (\u001B[38;5;33mDense\u001B[0m)                 │ (\u001B[38;5;45mNone\u001B[0m, \u001B[38;5;45mNone\u001B[0m, \u001B[38;5;34m62\u001B[0m)       │         \u001B[38;5;34m4,030\u001B[0m │\n",
       "└─────────────────────────────────┴────────────────────────┴───────────────┘\n"
      ],
      "text/html": [
       "<pre style=\"white-space:pre;overflow-x:auto;line-height:normal;font-family:Menlo,'DejaVu Sans Mono',consolas,'Courier New',monospace\">┏━━━━━━━━━━━━━━━━━━━━━━━━━━━━━━━━━┳━━━━━━━━━━━━━━━━━━━━━━━━┳━━━━━━━━━━━━━━━┓\n",
       "┃<span style=\"font-weight: bold\"> Layer (type)                    </span>┃<span style=\"font-weight: bold\"> Output Shape           </span>┃<span style=\"font-weight: bold\">       Param # </span>┃\n",
       "┡━━━━━━━━━━━━━━━━━━━━━━━━━━━━━━━━━╇━━━━━━━━━━━━━━━━━━━━━━━━╇━━━━━━━━━━━━━━━┩\n",
       "│ embedding (<span style=\"color: #0087ff; text-decoration-color: #0087ff\">Embedding</span>)           │ (<span style=\"color: #00d7ff; text-decoration-color: #00d7ff\">None</span>, <span style=\"color: #00d7ff; text-decoration-color: #00d7ff\">None</span>, <span style=\"color: #00af00; text-decoration-color: #00af00\">32</span>)       │         <span style=\"color: #00af00; text-decoration-color: #00af00\">1,984</span> │\n",
       "├─────────────────────────────────┼────────────────────────┼───────────────┤\n",
       "│ gru (<span style=\"color: #0087ff; text-decoration-color: #0087ff\">GRU</span>)                       │ (<span style=\"color: #00d7ff; text-decoration-color: #00d7ff\">None</span>, <span style=\"color: #00d7ff; text-decoration-color: #00d7ff\">None</span>, <span style=\"color: #00af00; text-decoration-color: #00af00\">64</span>)       │        <span style=\"color: #00af00; text-decoration-color: #00af00\">18,816</span> │\n",
       "├─────────────────────────────────┼────────────────────────┼───────────────┤\n",
       "│ dense_1 (<span style=\"color: #0087ff; text-decoration-color: #0087ff\">Dense</span>)                 │ (<span style=\"color: #00d7ff; text-decoration-color: #00d7ff\">None</span>, <span style=\"color: #00d7ff; text-decoration-color: #00d7ff\">None</span>, <span style=\"color: #00af00; text-decoration-color: #00af00\">62</span>)       │         <span style=\"color: #00af00; text-decoration-color: #00af00\">4,030</span> │\n",
       "└─────────────────────────────────┴────────────────────────┴───────────────┘\n",
       "</pre>\n"
      ]
     },
     "metadata": {}
    },
    {
     "output_type": "display_data",
     "data": {
      "text/plain": [
       "\u001B[1m Total params: \u001B[0m\u001B[38;5;34m24,830\u001B[0m (96.99 KB)\n"
      ],
      "text/html": [
       "<pre style=\"white-space:pre;overflow-x:auto;line-height:normal;font-family:Menlo,'DejaVu Sans Mono',consolas,'Courier New',monospace\"><span style=\"font-weight: bold\"> Total params: </span><span style=\"color: #00af00; text-decoration-color: #00af00\">24,830</span> (96.99 KB)\n",
       "</pre>\n"
      ]
     },
     "metadata": {}
    },
    {
     "output_type": "display_data",
     "data": {
      "text/plain": [
       "\u001B[1m Trainable params: \u001B[0m\u001B[38;5;34m24,830\u001B[0m (96.99 KB)\n"
      ],
      "text/html": [
       "<pre style=\"white-space:pre;overflow-x:auto;line-height:normal;font-family:Menlo,'DejaVu Sans Mono',consolas,'Courier New',monospace\"><span style=\"font-weight: bold\"> Trainable params: </span><span style=\"color: #00af00; text-decoration-color: #00af00\">24,830</span> (96.99 KB)\n",
       "</pre>\n"
      ]
     },
     "metadata": {}
    },
    {
     "output_type": "display_data",
     "data": {
      "text/plain": [
       "\u001B[1m Non-trainable params: \u001B[0m\u001B[38;5;34m0\u001B[0m (0.00 B)\n"
      ],
      "text/html": [
       "<pre style=\"white-space:pre;overflow-x:auto;line-height:normal;font-family:Menlo,'DejaVu Sans Mono',consolas,'Courier New',monospace\"><span style=\"font-weight: bold\"> Non-trainable params: </span><span style=\"color: #00af00; text-decoration-color: #00af00\">0</span> (0.00 B)\n",
       "</pre>\n"
      ]
     },
     "metadata": {}
    }
   ],
   "source": [
    "model_improved_gru = Sequential()\n",
    "\n",
    "# Embedding en lugar de one-hot para reducir memoria necesaria, y pequeño reducir tiempo de procesamiento\n",
    "model_improved_gru.add(Input(shape=(None,))) # Secuencia de longitud variable\n",
    "model_improved_gru.add(Embedding(input_dim=vocab_size, output_dim=32))\n",
    "\n",
    "# GRU liviana por cuestiones de tiempo de procesamiento.\n",
    "model_improved_gru.add(GRU(64, return_sequences=True, dropout=0.2, recurrent_dropout=0.1))\n",
    "\n",
    "# Capa de salida\n",
    "model_improved_gru.add(Dense(vocab_size, activation='softmax'))\n",
    "\n",
    "# Compilar\n",
    "model_improved_gru.compile(\n",
    "    loss='sparse_categorical_crossentropy',\n",
    "    optimizer='rmsprop'\n",
    ")\n",
    "\n",
    "model_improved_gru.summary()"
   ]
  },
  {
   "cell_type": "code",
   "source": [
    "model_name_improved_gru = \"biblia_model_improved_gru.keras\""
   ],
   "metadata": {
    "id": "-UirrN8k360z"
   },
   "execution_count": 30,
   "outputs": []
  },
  {
   "cell_type": "code",
   "execution_count": null,
   "metadata": {
    "colab": {
     "base_uri": "https://localhost:8080/"
    },
    "id": "VAbBJSXIXxPq",
    "outputId": "ba51988a-7d8e-4987-8d17-278af28a7ec3"
   },
   "outputs": [
    {
     "output_type": "stream",
     "name": "stdout",
     "text": [
      "Epoch 1/20\n",
      "\u001B[1m778/778\u001B[0m \u001B[32m━━━━━━━━━━━━━━━━━━━━\u001B[0m\u001B[37m\u001B[0m \u001B[1m0s\u001B[0m 310ms/step - loss: 2.5215\n",
      " mean perplexity: 6.87416540926153 \n",
      "\n",
      "Saved new model!\n",
      "\u001B[1m778/778\u001B[0m \u001B[32m━━━━━━━━━━━━━━━━━━━━\u001B[0m\u001B[37m\u001B[0m \u001B[1m331s\u001B[0m 416ms/step - loss: 2.5210\n",
      "Epoch 2/20\n",
      "\u001B[1m778/778\u001B[0m \u001B[32m━━━━━━━━━━━━━━━━━━━━\u001B[0m\u001B[37m\u001B[0m \u001B[1m0s\u001B[0m 312ms/step - loss: 1.7693\n",
      " mean perplexity: 6.06692397811196 \n",
      "\n",
      "Saved new model!\n",
      "\u001B[1m778/778\u001B[0m \u001B[32m━━━━━━━━━━━━━━━━━━━━\u001B[0m\u001B[37m\u001B[0m \u001B[1m379s\u001B[0m 417ms/step - loss: 1.7693\n",
      "Epoch 3/20\n",
      "\u001B[1m778/778\u001B[0m \u001B[32m━━━━━━━━━━━━━━━━━━━━\u001B[0m\u001B[37m\u001B[0m \u001B[1m0s\u001B[0m 309ms/step - loss: 1.6403\n",
      " mean perplexity: 5.889168690551411 \n",
      "\n",
      "Saved new model!\n",
      "\u001B[1m778/778\u001B[0m \u001B[32m━━━━━━━━━━━━━━━━━━━━\u001B[0m\u001B[37m\u001B[0m \u001B[1m343s\u001B[0m 367ms/step - loss: 1.6403\n",
      "Epoch 4/20\n",
      "\u001B[1m778/778\u001B[0m \u001B[32m━━━━━━━━━━━━━━━━━━━━\u001B[0m\u001B[37m\u001B[0m \u001B[1m0s\u001B[0m 309ms/step - loss: 1.5813\n",
      " mean perplexity: 5.769571178609675 \n",
      "\n",
      "Saved new model!\n",
      "\u001B[1m778/778\u001B[0m \u001B[32m━━━━━━━━━━━━━━━━━━━━\u001B[0m\u001B[37m\u001B[0m \u001B[1m323s\u001B[0m 367ms/step - loss: 1.5812\n",
      "Epoch 5/20\n",
      "\u001B[1m778/778\u001B[0m \u001B[32m━━━━━━━━━━━━━━━━━━━━\u001B[0m\u001B[37m\u001B[0m \u001B[1m0s\u001B[0m 312ms/step - loss: 1.5478\n",
      " mean perplexity: 5.768272468176755 \n",
      "\n",
      "Saved new model!\n",
      "\u001B[1m778/778\u001B[0m \u001B[32m━━━━━━━━━━━━━━━━━━━━\u001B[0m\u001B[37m\u001B[0m \u001B[1m324s\u001B[0m 370ms/step - loss: 1.5478\n",
      "Epoch 6/20\n",
      "\u001B[1m778/778\u001B[0m \u001B[32m━━━━━━━━━━━━━━━━━━━━\u001B[0m\u001B[37m\u001B[0m \u001B[1m0s\u001B[0m 309ms/step - loss: 1.5257\n",
      " mean perplexity: 5.812094433741136 \n",
      "\n",
      "\u001B[1m778/778\u001B[0m \u001B[32m━━━━━━━━━━━━━━━━━━━━\u001B[0m\u001B[37m\u001B[0m \u001B[1m286s\u001B[0m 368ms/step - loss: 1.5257\n",
      "Epoch 7/20\n",
      "\u001B[1m778/778\u001B[0m \u001B[32m━━━━━━━━━━━━━━━━━━━━\u001B[0m\u001B[37m\u001B[0m \u001B[1m0s\u001B[0m 311ms/step - loss: 1.5085\n",
      " mean perplexity: 5.91031810912219 \n",
      "\n",
      "\u001B[1m778/778\u001B[0m \u001B[32m━━━━━━━━━━━━━━━━━━━━\u001B[0m\u001B[37m\u001B[0m \u001B[1m323s\u001B[0m 369ms/step - loss: 1.5085\n",
      "Epoch 8/20\n",
      "\u001B[1m778/778\u001B[0m \u001B[32m━━━━━━━━━━━━━━━━━━━━\u001B[0m\u001B[37m\u001B[0m \u001B[1m0s\u001B[0m 309ms/step - loss: 1.4954\n",
      " mean perplexity: 5.990776060927998 \n",
      "\n",
      "\u001B[1m778/778\u001B[0m \u001B[32m━━━━━━━━━━━━━━━━━━━━\u001B[0m\u001B[37m\u001B[0m \u001B[1m320s\u001B[0m 367ms/step - loss: 1.4953\n",
      "Epoch 9/20\n",
      "\u001B[1m778/778\u001B[0m \u001B[32m━━━━━━━━━━━━━━━━━━━━\u001B[0m\u001B[37m\u001B[0m \u001B[1m0s\u001B[0m 307ms/step - loss: 1.4864\n",
      " mean perplexity: 5.967923879623413 \n",
      "\n",
      "\u001B[1m778/778\u001B[0m \u001B[32m━━━━━━━━━━━━━━━━━━━━\u001B[0m\u001B[37m\u001B[0m \u001B[1m320s\u001B[0m 365ms/step - loss: 1.4864\n",
      "Epoch 10/20\n",
      "\u001B[1m778/778\u001B[0m \u001B[32m━━━━━━━━━━━━━━━━━━━━\u001B[0m\u001B[37m\u001B[0m \u001B[1m0s\u001B[0m 305ms/step - loss: 1.4793\n",
      " mean perplexity: 5.884116866371849 \n",
      "\n",
      "Stopping training...\n",
      "\u001B[1m778/778\u001B[0m \u001B[32m━━━━━━━━━━━━━━━━━━━━\u001B[0m\u001B[37m\u001B[0m \u001B[1m358s\u001B[0m 411ms/step - loss: 1.4793\n"
     ]
    }
   ],
   "source": [
    "history_ppl_improved_gru = []\n",
    "hist = model_improved_gru.fit(X, y, epochs=20, callbacks=[PplCallback(tokenized_sentences_val, history_ppl_improved_gru, model_name_improved_gru)], batch_size=256)"
   ]
  },
  {
   "cell_type": "code",
   "source": [
    "# Entrenamiento\n",
    "epoch_count = range(1, len(history_ppl) + 1)\n",
    "sns.lineplot(x=epoch_count,  y=history_ppl)\n",
    "plt.show()"
   ],
   "metadata": {
    "colab": {
     "base_uri": "https://localhost:8080/",
     "height": 430
    },
    "id": "K4vgP9QGYOZ4",
    "outputId": "e0fc3d91-58a7-46a1-f324-c05a9ad5415f"
   },
   "execution_count": null,
   "outputs": [
    {
     "output_type": "display_data",
     "data": {
      "text/plain": [
       "<Figure size 640x480 with 1 Axes>"
      ],
      "image/png": "[encoded data removed]"
     },
     "metadata": {}
    }
   ]
  },
  {
   "cell_type": "markdown",
   "source": [
    "Podemos ver que en una época muy temprana deja de aprender, y la métrica de pérdida no es mejor que con el anterior modelo. Posiblemente porque simplificamos mucho el mismo con la intención de poder introducir neuronas con arquitectura GRU."
   ],
   "metadata": {
    "id": "oCrCYYSfYlmD"
   }
  },
  {
   "cell_type": "code",
   "source": [
    "# Cargamos el mejor modelo guardado del entrenamiento para hacer inferencia\n",
    "model_improved_gru = keras.models.load_model(model_name_improved_gru)"
   ],
   "metadata": {
    "id": "cZQKZZWZQ7PR"
   },
   "execution_count": 33,
   "outputs": []
  },
  {
   "cell_type": "code",
   "source": [
    "generate_seq(model_improved_gru, input_text_1, max_length=max_context_size, n_tokens=100)"
   ],
   "metadata": {
    "colab": {
     "base_uri": "https://localhost:8080/",
     "height": 35
    },
    "id": "cokbfz5JFtQU",
    "outputId": "b0db54f2-6a36-42f8-d334-2d7e53061cf7"
   },
   "execution_count": null,
   "outputs": [
    {
     "output_type": "execute_result",
     "data": {
      "text/plain": [
       "'y entonces moisés de la pueblo de la pueblo de la pueblo de la pueblo de la pueblo de la pueblo de la pueblo de la pue'"
      ],
      "application/vnd.google.colaboratory.intrinsic+json": {
       "type": "string"
      }
     },
     "metadata": {},
     "execution_count": 60
    }
   ]
  },
  {
   "cell_type": "markdown",
   "source": [
    "La primera impresión es que el modelo es peor que el anterior, dada la repetición de las mismas 3 palabras, una y otra vez. Veamos que pasa con bean search y agregando luego estocacidad."
   ],
   "metadata": {
    "id": "DCg7lwizRhuy"
   }
  },
  {
   "cell_type": "code",
   "source": [
    "salidas = beam_search(model_improved_gru, num_beams=10, num_tokens=100, input=input_text_1)"
   ],
   "metadata": {
    "id": "y3zwYgCWR0bL"
   },
   "execution_count": null,
   "outputs": []
  },
  {
   "cell_type": "code",
   "source": [
    "salidas_decoded = [decode(salida) for salida in salidas]\n",
    "for salida in salidas_decoded:\n",
    "    print(salida)"
   ],
   "metadata": {
    "colab": {
     "base_uri": "https://localhost:8080/"
    },
    "id": "r6KbQVc4Rxdr",
    "outputId": "da26e663-b783-4365-c2e8-26dab1f2711c"
   },
   "execution_count": null,
   "outputs": [
    {
     "output_type": "stream",
     "name": "stdout",
     "text": [
      "y entonces moisés para el sacrificio de la tienda de la tienda de la tienda de la tienda de la tienda de la tienda de \n",
      "y entonces moisés para el sacerdote de la tienda de la tienda de la tienda de la tienda de la tienda de la tienda de l\n",
      "y entonces moisés para el sacerdote de la tienda de la tienda de la tienda de la tienda de la tienda de la tienda del \n",
      "y entonces moisés para el sacerdote de la tienda de la tienda de la tienda de la tienda de la tienda de los hijos de l\n",
      "y entonces moisés para el sacerdote de la tienda de la tienda de la tienda de la tienda de la tienda de los hijos del \n",
      "y entonces moisés de la tienda de la tienda de la tienda de la tienda de la tienda de la tienda de la tienda de la tie\n",
      "y entonces moisés de la tienda de los hijos de la tienda de la tienda de la tienda de la tienda de la tienda de la tie\n",
      "y entonces moisés para el sacerdote de la tienda de la tienda de la tienda de la tienda de la tienda de la tierra de l\n",
      "y entonces moisés para el sacerdote de la tienda de la tienda de la tienda de la tienda de la tienda de la tierra del \n",
      "y entonces moisés para el sacrificio de la tienda de la tienda de la tienda de la tienda de la tienda de la tienda del\n"
     ]
    }
   ]
  },
  {
   "cell_type": "markdown",
   "source": [
    "Aunque se consiguen algunas opciones más variadas, eventualmente cae nuevamente en la repetición, y se continúa el problema de no conseguir un texto con sentido semántico"
   ],
   "metadata": {
    "id": "bAS_s1UdURvw"
   }
  },
  {
   "cell_type": "code",
   "source": [
    "salidas_sto = beam_search(model_improved_gru, num_beams=10, num_tokens=100, input=input_text_1, temp=2, mode='sto')\n",
    "salidas_sto_decoded = [decode(salida) for salida in salidas_sto]\n",
    "for salida in salidas_sto_decoded:\n",
    "    print(salida)"
   ],
   "metadata": {
    "colab": {
     "base_uri": "https://localhost:8080/"
    },
    "id": "NgCTK6B2R9Z5",
    "outputId": "996ae0c1-4439-44dd-e0a1-0730de8ba685"
   },
   "execution_count": null,
   "outputs": [
    {
     "output_type": "stream",
     "name": "stdout",
     "text": [
      "y entonces moisés de los compuran de yahveh, no hizo sobre tu puro de los pecasado. [31] del sacrificio, en los israel\n",
      "y entonces moisés de los compuran de yahveh, no hizo sobre tu puro de los pecasado. [31] del sacrificio, en los israer\n",
      "y entonces moisés de los compuran de yahveh, no hizo sobre tu puro de los pecasado. [31] del sacrificio, en los israel\n",
      "y entonces moisés de los compuran de yahveh, no hizo sobre tu puro de los pecasado. [31] del sacrificio, en los israel\n",
      "y entonces moisés de los compuran de yahveh, no hizo sobre tu puro de los pecasado. [31] del sacrificio, en los dios,.\n",
      "y entonces moisés de los compuran de yahveh, no hizo sobre tu puro de los pecasado. [31] del sacrificio, en los israel\n",
      "y entonces moisés de los compuran de yahveh, no hizo sobre tu puro de los pecasado. [31] del sacrificio, en los israel\n",
      "y entonces moisés de los compuran de yahveh, no hizo sobre tu puro de los pecasado. [31] del sacrificio, en los israng\n",
      "y entonces moisés de los compuran de yahveh, no hizo sobre tu puro de los pecasado. [31] del sacrificio, en los israer\n",
      "y entonces moisés de los compuran de yahveh, no hizo sobre tu puro de los pecasado. [31] del sacrificio, en los israeg\n"
     ]
    }
   ]
  },
  {
   "cell_type": "markdown",
   "source": [
    "Resulta sorprendente que se pierda la variedad adquirida con bean search, a pesar de agregar estocacidad y temperatura, que para el anterior modelo, había introducido bastante más variedad."
   ],
   "metadata": {
    "id": "x84Fh4pPY2Ps"
   }
  },
  {
   "cell_type": "markdown",
   "source": [
    "### Modelo con LSTM\n",
    "\n",
    "Intentaremos ahora con un modelo que sea una alternativa sólida al baseline, apostando por un LSTM liviano con codificación explícita. Si bien no introduce cambios estructurales radicales, es una opción que busca equilibrio entre potencia y simplicidad, para ver si se puede evitar una arquitectura más profunda."
   ],
   "metadata": {
    "id": "3l8i1m_6Dh7P"
   }
  },
  {
   "cell_type": "code",
   "source": [
    "model_improved_lstm = Sequential()\n",
    "\n",
    "# Codificación one-hot con TimeDistributed\n",
    "model_improved_lstm.add(TimeDistributed(\n",
    "    CategoryEncoding(num_tokens=vocab_size, output_mode=\"one_hot\"),\n",
    "    input_shape=(None, 1)\n",
    "))\n",
    "\n",
    "# LSTM liviana\n",
    "model_improved_lstm.add(LSTM(\n",
    "    units=128,                  # Suficientemente potente, pero más liviana que 200-256\n",
    "    return_sequences=True,\n",
    "    dropout=0.2,\n",
    "    recurrent_dropout=0.1\n",
    "))\n",
    "\n",
    "# Capa de salida\n",
    "model_improved_lstm.add(Dense(vocab_size, activation='softmax'))\n",
    "\n",
    "# Compilación\n",
    "model_improved_lstm.compile(\n",
    "    loss='sparse_categorical_crossentropy',\n",
    "    optimizer='rmsprop'\n",
    ")\n",
    "\n",
    "model_improved_lstm.summary()"
   ],
   "metadata": {
    "colab": {
     "base_uri": "https://localhost:8080/",
     "height": 304
    },
    "id": "8_Gyli6IZGp3",
    "outputId": "79039d34-7745-4689-a085-1806a8a83845"
   },
   "execution_count": null,
   "outputs": [
    {
     "output_type": "stream",
     "name": "stderr",
     "text": [
      "/usr/local/lib/python3.11/dist-packages/keras/src/layers/core/wrapper.py:27: UserWarning: Do not pass an `input_shape`/`input_dim` argument to a layer. When using Sequential models, prefer using an `Input(shape)` object as the first layer in the model instead.\n",
      "  super().__init__(**kwargs)\n"
     ]
    },
    {
     "output_type": "display_data",
     "data": {
      "text/plain": [
       "\u001B[1mModel: \"sequential\"\u001B[0m\n"
      ],
      "text/html": [
       "<pre style=\"white-space:pre;overflow-x:auto;line-height:normal;font-family:Menlo,'DejaVu Sans Mono',consolas,'Courier New',monospace\"><span style=\"font-weight: bold\">Model: \"sequential\"</span>\n",
       "</pre>\n"
      ]
     },
     "metadata": {}
    },
    {
     "output_type": "display_data",
     "data": {
      "text/plain": [
       "┏━━━━━━━━━━━━━━━━━━━━━━━━━━━━━━━━━┳━━━━━━━━━━━━━━━━━━━━━━━━┳━━━━━━━━━━━━━━━┓\n",
       "┃\u001B[1m \u001B[0m\u001B[1mLayer (type)                   \u001B[0m\u001B[1m \u001B[0m┃\u001B[1m \u001B[0m\u001B[1mOutput Shape          \u001B[0m\u001B[1m \u001B[0m┃\u001B[1m \u001B[0m\u001B[1m      Param #\u001B[0m\u001B[1m \u001B[0m┃\n",
       "┡━━━━━━━━━━━━━━━━━━━━━━━━━━━━━━━━━╇━━━━━━━━━━━━━━━━━━━━━━━━╇━━━━━━━━━━━━━━━┩\n",
       "│ time_distributed                │ (\u001B[38;5;45mNone\u001B[0m, \u001B[38;5;45mNone\u001B[0m, \u001B[38;5;34m62\u001B[0m)       │             \u001B[38;5;34m0\u001B[0m │\n",
       "│ (\u001B[38;5;33mTimeDistributed\u001B[0m)               │                        │               │\n",
       "├─────────────────────────────────┼────────────────────────┼───────────────┤\n",
       "│ lstm (\u001B[38;5;33mLSTM\u001B[0m)                     │ (\u001B[38;5;45mNone\u001B[0m, \u001B[38;5;45mNone\u001B[0m, \u001B[38;5;34m128\u001B[0m)      │        \u001B[38;5;34m97,792\u001B[0m │\n",
       "├─────────────────────────────────┼────────────────────────┼───────────────┤\n",
       "│ dense (\u001B[38;5;33mDense\u001B[0m)                   │ (\u001B[38;5;45mNone\u001B[0m, \u001B[38;5;45mNone\u001B[0m, \u001B[38;5;34m62\u001B[0m)       │         \u001B[38;5;34m7,998\u001B[0m │\n",
       "└─────────────────────────────────┴────────────────────────┴───────────────┘\n"
      ],
      "text/html": [
       "<pre style=\"white-space:pre;overflow-x:auto;line-height:normal;font-family:Menlo,'DejaVu Sans Mono',consolas,'Courier New',monospace\">┏━━━━━━━━━━━━━━━━━━━━━━━━━━━━━━━━━┳━━━━━━━━━━━━━━━━━━━━━━━━┳━━━━━━━━━━━━━━━┓\n",
       "┃<span style=\"font-weight: bold\"> Layer (type)                    </span>┃<span style=\"font-weight: bold\"> Output Shape           </span>┃<span style=\"font-weight: bold\">       Param # </span>┃\n",
       "┡━━━━━━━━━━━━━━━━━━━━━━━━━━━━━━━━━╇━━━━━━━━━━━━━━━━━━━━━━━━╇━━━━━━━━━━━━━━━┩\n",
       "│ time_distributed                │ (<span style=\"color: #00d7ff; text-decoration-color: #00d7ff\">None</span>, <span style=\"color: #00d7ff; text-decoration-color: #00d7ff\">None</span>, <span style=\"color: #00af00; text-decoration-color: #00af00\">62</span>)       │             <span style=\"color: #00af00; text-decoration-color: #00af00\">0</span> │\n",
       "│ (<span style=\"color: #0087ff; text-decoration-color: #0087ff\">TimeDistributed</span>)               │                        │               │\n",
       "├─────────────────────────────────┼────────────────────────┼───────────────┤\n",
       "│ lstm (<span style=\"color: #0087ff; text-decoration-color: #0087ff\">LSTM</span>)                     │ (<span style=\"color: #00d7ff; text-decoration-color: #00d7ff\">None</span>, <span style=\"color: #00d7ff; text-decoration-color: #00d7ff\">None</span>, <span style=\"color: #00af00; text-decoration-color: #00af00\">128</span>)      │        <span style=\"color: #00af00; text-decoration-color: #00af00\">97,792</span> │\n",
       "├─────────────────────────────────┼────────────────────────┼───────────────┤\n",
       "│ dense (<span style=\"color: #0087ff; text-decoration-color: #0087ff\">Dense</span>)                   │ (<span style=\"color: #00d7ff; text-decoration-color: #00d7ff\">None</span>, <span style=\"color: #00d7ff; text-decoration-color: #00d7ff\">None</span>, <span style=\"color: #00af00; text-decoration-color: #00af00\">62</span>)       │         <span style=\"color: #00af00; text-decoration-color: #00af00\">7,998</span> │\n",
       "└─────────────────────────────────┴────────────────────────┴───────────────┘\n",
       "</pre>\n"
      ]
     },
     "metadata": {}
    },
    {
     "output_type": "display_data",
     "data": {
      "text/plain": [
       "\u001B[1m Total params: \u001B[0m\u001B[38;5;34m105,790\u001B[0m (413.24 KB)\n"
      ],
      "text/html": [
       "<pre style=\"white-space:pre;overflow-x:auto;line-height:normal;font-family:Menlo,'DejaVu Sans Mono',consolas,'Courier New',monospace\"><span style=\"font-weight: bold\"> Total params: </span><span style=\"color: #00af00; text-decoration-color: #00af00\">105,790</span> (413.24 KB)\n",
       "</pre>\n"
      ]
     },
     "metadata": {}
    },
    {
     "output_type": "display_data",
     "data": {
      "text/plain": [
       "\u001B[1m Trainable params: \u001B[0m\u001B[38;5;34m105,790\u001B[0m (413.24 KB)\n"
      ],
      "text/html": [
       "<pre style=\"white-space:pre;overflow-x:auto;line-height:normal;font-family:Menlo,'DejaVu Sans Mono',consolas,'Courier New',monospace\"><span style=\"font-weight: bold\"> Trainable params: </span><span style=\"color: #00af00; text-decoration-color: #00af00\">105,790</span> (413.24 KB)\n",
       "</pre>\n"
      ]
     },
     "metadata": {}
    },
    {
     "output_type": "display_data",
     "data": {
      "text/plain": [
       "\u001B[1m Non-trainable params: \u001B[0m\u001B[38;5;34m0\u001B[0m (0.00 B)\n"
      ],
      "text/html": [
       "<pre style=\"white-space:pre;overflow-x:auto;line-height:normal;font-family:Menlo,'DejaVu Sans Mono',consolas,'Courier New',monospace\"><span style=\"font-weight: bold\"> Non-trainable params: </span><span style=\"color: #00af00; text-decoration-color: #00af00\">0</span> (0.00 B)\n",
       "</pre>\n"
      ]
     },
     "metadata": {}
    }
   ]
  },
  {
   "cell_type": "code",
   "source": [
    "model_name_improved_lstm = \"biblia_model_improved_lstm.keras\""
   ],
   "metadata": {
    "id": "Ak1FQxgkZgmB"
   },
   "execution_count": 21,
   "outputs": []
  },
  {
   "cell_type": "code",
   "source": [
    "history_ppl_improved_lstm = []\n",
    "hist = model_improved_lstm.fit(X, y, epochs=20, callbacks=[PplCallback(tokenized_sentences_val, history_ppl_improved_lstm, model_name_improved_lstm)], batch_size=256)"
   ],
   "metadata": {
    "colab": {
     "base_uri": "https://localhost:8080/"
    },
    "id": "hqJMn_qWZkYg",
    "outputId": "2d2205dc-7ff3-4702-b5f8-33618e7a5cda"
   },
   "execution_count": null,
   "outputs": [
    {
     "output_type": "stream",
     "name": "stdout",
     "text": [
      "Epoch 1/20\n",
      "\u001B[1m778/778\u001B[0m \u001B[32m━━━━━━━━━━━━━━━━━━━━\u001B[0m\u001B[37m\u001B[0m \u001B[1m0s\u001B[0m 900ms/step - loss: 2.8421\n",
      " mean perplexity: 8.967343544960022 \n",
      "\n",
      "Saved new model!\n",
      "\u001B[1m778/778\u001B[0m \u001B[32m━━━━━━━━━━━━━━━━━━━━\u001B[0m\u001B[37m\u001B[0m \u001B[1m792s\u001B[0m 1s/step - loss: 2.8417 \n",
      "Epoch 2/20\n",
      "\u001B[1m778/778\u001B[0m \u001B[32m━━━━━━━━━━━━━━━━━━━━\u001B[0m\u001B[37m\u001B[0m \u001B[1m0s\u001B[0m 929ms/step - loss: 2.1493\n",
      " mean perplexity: 7.544358092004603 \n",
      "\n",
      "Saved new model!\n",
      "\u001B[1m778/778\u001B[0m \u001B[32m━━━━━━━━━━━━━━━━━━━━\u001B[0m\u001B[37m\u001B[0m \u001B[1m764s\u001B[0m 982ms/step - loss: 2.1493\n",
      "Epoch 3/20\n",
      "\u001B[1m778/778\u001B[0m \u001B[32m━━━━━━━━━━━━━━━━━━━━\u001B[0m\u001B[37m\u001B[0m \u001B[1m0s\u001B[0m 904ms/step - loss: 2.0115\n",
      " mean perplexity: 6.942538561604239 \n",
      "\n",
      "Saved new model!\n",
      "\u001B[1m778/778\u001B[0m \u001B[32m━━━━━━━━━━━━━━━━━━━━\u001B[0m\u001B[37m\u001B[0m \u001B[1m785s\u001B[0m 1s/step - loss: 2.0115 \n",
      "Epoch 4/20\n",
      "\u001B[1m778/778\u001B[0m \u001B[32m━━━━━━━━━━━━━━━━━━━━\u001B[0m\u001B[37m\u001B[0m \u001B[1m0s\u001B[0m 904ms/step - loss: 1.9311\n",
      " mean perplexity: 6.651729957623915 \n",
      "\n",
      "Saved new model!\n",
      "\u001B[1m778/778\u001B[0m \u001B[32m━━━━━━━━━━━━━━━━━━━━\u001B[0m\u001B[37m\u001B[0m \u001B[1m744s\u001B[0m 957ms/step - loss: 1.9311\n",
      "Epoch 5/20\n",
      "\u001B[1m778/778\u001B[0m \u001B[32m━━━━━━━━━━━━━━━━━━━━\u001B[0m\u001B[37m\u001B[0m \u001B[1m0s\u001B[0m 955ms/step - loss: 1.8717\n",
      " mean perplexity: 6.43114350492304 \n",
      "\n",
      "Saved new model!\n",
      "\u001B[1m778/778\u001B[0m \u001B[32m━━━━━━━━━━━━━━━━━━━━\u001B[0m\u001B[37m\u001B[0m \u001B[1m784s\u001B[0m 1s/step - loss: 1.8717 \n",
      "Epoch 6/20\n",
      "\u001B[1m778/778\u001B[0m \u001B[32m━━━━━━━━━━━━━━━━━━━━\u001B[0m\u001B[37m\u001B[0m \u001B[1m0s\u001B[0m 914ms/step - loss: 1.8234\n",
      " mean perplexity: 6.3272823095321655 \n",
      "\n",
      "Saved new model!\n",
      "\u001B[1m778/778\u001B[0m \u001B[32m━━━━━━━━━━━━━━━━━━━━\u001B[0m\u001B[37m\u001B[0m \u001B[1m767s\u001B[0m 962ms/step - loss: 1.8234\n",
      "Epoch 7/20\n",
      "\u001B[1m778/778\u001B[0m \u001B[32m━━━━━━━━━━━━━━━━━━━━\u001B[0m\u001B[37m\u001B[0m \u001B[1m0s\u001B[0m 912ms/step - loss: 1.7825\n",
      " mean perplexity: 6.18733510537581 \n",
      "\n",
      "Saved new model!\n",
      "\u001B[1m778/778\u001B[0m \u001B[32m━━━━━━━━━━━━━━━━━━━━\u001B[0m\u001B[37m\u001B[0m \u001B[1m803s\u001B[0m 965ms/step - loss: 1.7825\n",
      "Epoch 8/20\n",
      "\u001B[1m778/778\u001B[0m \u001B[32m━━━━━━━━━━━━━━━━━━━━\u001B[0m\u001B[37m\u001B[0m \u001B[1m0s\u001B[0m 926ms/step - loss: 1.7453\n",
      " mean perplexity: 6.0892801078883085 \n",
      "\n",
      "Saved new model!\n",
      "\u001B[1m778/778\u001B[0m \u001B[32m━━━━━━━━━━━━━━━━━━━━\u001B[0m\u001B[37m\u001B[0m \u001B[1m809s\u001B[0m 974ms/step - loss: 1.7453\n",
      "Epoch 9/20\n",
      "\u001B[1m778/778\u001B[0m \u001B[32m━━━━━━━━━━━━━━━━━━━━\u001B[0m\u001B[37m\u001B[0m \u001B[1m0s\u001B[0m 914ms/step - loss: 1.7134\n",
      " mean perplexity: 6.02421737909317 \n",
      "\n",
      "Saved new model!\n",
      "\u001B[1m778/778\u001B[0m \u001B[32m━━━━━━━━━━━━━━━━━━━━\u001B[0m\u001B[37m\u001B[0m \u001B[1m794s\u001B[0m 964ms/step - loss: 1.7134\n",
      "Epoch 10/20\n",
      "\u001B[1m778/778\u001B[0m \u001B[32m━━━━━━━━━━━━━━━━━━━━\u001B[0m\u001B[37m\u001B[0m \u001B[1m0s\u001B[0m 902ms/step - loss: 1.6856\n",
      " mean perplexity: 5.898144336180254 \n",
      "\n",
      "Saved new model!\n",
      "\u001B[1m778/778\u001B[0m \u001B[32m━━━━━━━━━━━━━━━━━━━━\u001B[0m\u001B[37m\u001B[0m \u001B[1m795s\u001B[0m 955ms/step - loss: 1.6856\n",
      "Epoch 11/20\n",
      "\u001B[1m778/778\u001B[0m \u001B[32m━━━━━━━━━━━━━━━━━━━━\u001B[0m\u001B[37m\u001B[0m \u001B[1m0s\u001B[0m 916ms/step - loss: 1.6603\n",
      " mean perplexity: 5.835627193884416 \n",
      "\n",
      "Saved new model!\n",
      "\u001B[1m778/778\u001B[0m \u001B[32m━━━━━━━━━━━━━━━━━━━━\u001B[0m\u001B[37m\u001B[0m \u001B[1m750s\u001B[0m 964ms/step - loss: 1.6603\n",
      "Epoch 12/20\n",
      "\u001B[1m778/778\u001B[0m \u001B[32m━━━━━━━━━━━━━━━━━━━━\u001B[0m\u001B[37m\u001B[0m \u001B[1m0s\u001B[0m 929ms/step - loss: 1.6401\n",
      " mean perplexity: 5.690071073445407 \n",
      "\n",
      "Saved new model!\n",
      "\u001B[1m778/778\u001B[0m \u001B[32m━━━━━━━━━━━━━━━━━━━━\u001B[0m\u001B[37m\u001B[0m \u001B[1m813s\u001B[0m 978ms/step - loss: 1.6401\n",
      "Epoch 13/20\n",
      "\u001B[1m778/778\u001B[0m \u001B[32m━━━━━━━━━━━━━━━━━━━━\u001B[0m\u001B[37m\u001B[0m \u001B[1m0s\u001B[0m 919ms/step - loss: 1.6223\n",
      " mean perplexity: 5.667487595298073 \n",
      "\n",
      "Saved new model!\n",
      "\u001B[1m778/778\u001B[0m \u001B[32m━━━━━━━━━━━━━━━━━━━━\u001B[0m\u001B[37m\u001B[0m \u001B[1m793s\u001B[0m 966ms/step - loss: 1.6223\n",
      "Epoch 14/20\n",
      "\u001B[1m778/778\u001B[0m \u001B[32m━━━━━━━━━━━━━━━━━━━━\u001B[0m\u001B[37m\u001B[0m \u001B[1m0s\u001B[0m 937ms/step - loss: 1.6045\n",
      " mean perplexity: 5.686413954604756 \n",
      "\n",
      "\u001B[1m778/778\u001B[0m \u001B[32m━━━━━━━━━━━━━━━━━━━━\u001B[0m\u001B[37m\u001B[0m \u001B[1m821s\u001B[0m 990ms/step - loss: 1.6045\n",
      "Epoch 15/20\n",
      "\u001B[1m778/778\u001B[0m \u001B[32m━━━━━━━━━━━━━━━━━━━━\u001B[0m\u001B[37m\u001B[0m \u001B[1m0s\u001B[0m 908ms/step - loss: 1.5901\n",
      " mean perplexity: 5.623782672665336 \n",
      "\n",
      "Saved new model!\n",
      "\u001B[1m778/778\u001B[0m \u001B[32m━━━━━━━━━━━━━━━━━━━━\u001B[0m\u001B[37m\u001B[0m \u001B[1m774s\u001B[0m 955ms/step - loss: 1.5901\n",
      "Epoch 16/20\n",
      "\u001B[1m778/778\u001B[0m \u001B[32m━━━━━━━━━━━━━━━━━━━━\u001B[0m\u001B[37m\u001B[0m \u001B[1m0s\u001B[0m 928ms/step - loss: 1.5768\n",
      " mean perplexity: 5.570872365344655 \n",
      "\n",
      "Saved new model!\n",
      "\u001B[1m778/778\u001B[0m \u001B[32m━━━━━━━━━━━━━━━━━━━━\u001B[0m\u001B[37m\u001B[0m \u001B[1m763s\u001B[0m 981ms/step - loss: 1.5768\n",
      "Epoch 17/20\n",
      "\u001B[1m778/778\u001B[0m \u001B[32m━━━━━━━━━━━━━━━━━━━━\u001B[0m\u001B[37m\u001B[0m \u001B[1m0s\u001B[0m 913ms/step - loss: 1.5633\n",
      " mean perplexity: 5.500382048433477 \n",
      "\n",
      "Saved new model!\n",
      "\u001B[1m778/778\u001B[0m \u001B[32m━━━━━━━━━━━━━━━━━━━━\u001B[0m\u001B[37m\u001B[0m \u001B[1m752s\u001B[0m 966ms/step - loss: 1.5633\n",
      "Epoch 18/20\n",
      "\u001B[1m778/778\u001B[0m \u001B[32m━━━━━━━━━━━━━━━━━━━━\u001B[0m\u001B[37m\u001B[0m \u001B[1m0s\u001B[0m 920ms/step - loss: 1.5505\n",
      " mean perplexity: 5.454412691159682 \n",
      "\n",
      "Saved new model!\n",
      "\u001B[1m778/778\u001B[0m \u001B[32m━━━━━━━━━━━━━━━━━━━━\u001B[0m\u001B[37m\u001B[0m \u001B[1m807s\u001B[0m 973ms/step - loss: 1.5505\n",
      "Epoch 19/20\n",
      "\u001B[1m778/778\u001B[0m \u001B[32m━━━━━━━━━━━━━━━━━━━━\u001B[0m\u001B[37m\u001B[0m \u001B[1m0s\u001B[0m 926ms/step - loss: 1.5382\n",
      " mean perplexity: 5.512413967739452 \n",
      "\n",
      "\u001B[1m778/778\u001B[0m \u001B[32m━━━━━━━━━━━━━━━━━━━━\u001B[0m\u001B[37m\u001B[0m \u001B[1m762s\u001B[0m 979ms/step - loss: 1.5382\n",
      "Epoch 20/20\n",
      "\u001B[1m778/778\u001B[0m \u001B[32m━━━━━━━━━━━━━━━━━━━━\u001B[0m\u001B[37m\u001B[0m \u001B[1m0s\u001B[0m 912ms/step - loss: 1.5272\n",
      " mean perplexity: 5.514256704937328 \n",
      "\n",
      "\u001B[1m778/778\u001B[0m \u001B[32m━━━━━━━━━━━━━━━━━━━━\u001B[0m\u001B[37m\u001B[0m \u001B[1m787s\u001B[0m 960ms/step - loss: 1.5272\n"
     ]
    }
   ]
  },
  {
   "cell_type": "code",
   "source": [
    "# Cargamos el mejor modelo guardado del entrenamiento para hacer inferencia\n",
    "model_improved_lstm = keras.models.load_model(model_name_improved_lstm)"
   ],
   "metadata": {
    "id": "V_SA7IzsuQ10"
   },
   "execution_count": 22,
   "outputs": []
  },
  {
   "cell_type": "code",
   "source": [
    "generate_seq(model_improved_lstm, input_text_1, max_length=max_context_size, n_tokens=100)"
   ],
   "metadata": {
    "colab": {
     "base_uri": "https://localhost:8080/",
     "height": 35
    },
    "id": "jQP6EmAMuWa3",
    "outputId": "ede8d289-4516-47ea-b31c-fa49c8c209c7"
   },
   "execution_count": 23,
   "outputs": [
    {
     "output_type": "execute_result",
     "data": {
      "text/plain": [
       "'y entonces moisés de la tienda del encuentro de la tienda del encuentro de la tienda del encuentro de la tienda del en'"
      ],
      "application/vnd.google.colaboratory.intrinsic+json": {
       "type": "string"
      }
     },
     "metadata": {},
     "execution_count": 23
    }
   ]
  },
  {
   "cell_type": "code",
   "source": [
    "salidas = beam_search(model_improved_lstm, num_beams=10, num_tokens=100, input=input_text_1)\n",
    "salidas_decoded = [decode(salida) for salida in salidas]\n",
    "for salida in salidas_decoded:\n",
    "    print(salida)"
   ],
   "metadata": {
    "colab": {
     "base_uri": "https://localhost:8080/"
    },
    "id": "NJ9kt-qhuYjz",
    "outputId": "dd918ba0-6848-4644-cd8b-9fc4904c1029"
   },
   "execution_count": 24,
   "outputs": [
    {
     "output_type": "stream",
     "name": "stdout",
     "text": [
      "y entonces moisés de la tienda de la tienda del encuentro de la tienda del encuentro de la tienda del encuentro de la \n",
      "y entonces moisés de la tienda del encuentro de la tienda de la tienda del encuentro de la tienda del encuentro de la \n",
      "y entonces moisés de la tienda del encuentro de la tienda del encuentro de la tienda de la tienda del encuentro de la \n",
      "y entonces moisés de la tienda del encuentro de la tienda del encuentro de la tienda del encuentro de la tienda del en\n",
      "y entonces moisés de la tienda del encuentro de la tienda del encuentro de la tienda del encuentro de la tienda de la \n",
      "y entonces moisés de la tienda del encuentro de la tienda del encuentro de la tienda del encuentro de la tienda del sa\n",
      "y entonces moisés de la tienda de la tienda del encuentro de la tienda del encuentro de la tienda del encuentro de los\n",
      "y entonces moisés de la tienda del encuentro de la tienda del encuentro de la tienda del encuentro de la tienda del ca\n",
      "y entonces moisés de la tienda del encuentro de la tienda del encuentro de la tienda del encuentro de la tienda del al\n",
      "y entonces moisés de la tienda del encuentro de la tienda del encuentro de la tienda del encuentro de la tienda del el\n"
     ]
    }
   ]
  },
  {
   "cell_type": "code",
   "source": [
    "salidas_sto = beam_search(model_improved_lstm, num_beams=10, num_tokens=100, input=input_text_1, temp=2, mode='sto')\n",
    "salidas_sto_decoded = [decode(salida) for salida in salidas_sto]\n",
    "for salida in salidas_sto_decoded:\n",
    "    print(salida)"
   ],
   "metadata": {
    "colab": {
     "base_uri": "https://localhost:8080/"
    },
    "id": "BqxIyskCubwE",
    "outputId": "f707351c-6c7c-41d2-beb6-80a59f82ec7a"
   },
   "execution_count": 25,
   "outputs": [
    {
     "output_type": "stream",
     "name": "stdout",
     "text": [
      "y entonces moisés a los israelitas, de sus honos los hijos y los entras y tomas trabajos que habla sobre el pacado. [9\n",
      "y entonces moisés a los israelitas, de sus honos los hijos y los entras y tomas trabajos que habla sobre el pacado. y \n",
      "y entonces moisés a los israelitas, de sus honos los hijos y los entras y tomas trabajos que habla sobre el pacado. y \n",
      "y entonces moisés a los israelitas, de sus honos los hijos y los entras y tomas trabajos que habla sobre el pacado. [n\n",
      "y entonces moisés a los israelitas, de sus honos los hijos y los entras y tomas trabajos que habla sobre el pacado. [2\n",
      "y entonces moisés a los israelitas, de sus honos los hijos y los entras y tomas trabajos que habla sobre el pacado. [2\n",
      "y entonces moisés a los israelitas, de sus honos los hijos y los entras y tomas trabajos que habla sobre el pacado. [1\n",
      "y entonces moisés a los israelitas, de sus honos los hijos y los entras y tomas trabajos que habla sobre el pacado. y.\n",
      "y entonces moisés a los israelitas, de sus honos los hijos y los entras y tomas trabajos que habla sobre el pacado. [6\n",
      "y entonces moisés a los israelitas, de sus honos los hijos y los entras y tomas trabajos que habla sobre el pacado. [9\n"
     ]
    }
   ]
  },
  {
   "cell_type": "markdown",
   "source": [
    "Se repiten los mismos problemas que con el modelo usando arquitectura GRU para las neuronas."
   ],
   "metadata": {
    "id": "D-yaqvL1wJbA"
   }
  },
  {
   "cell_type": "markdown",
   "source": [
    "Veamos que ocurre con las 3 redes, con un par de inputs distintos, con distintas longitudes y distinta cantidad de tokens a generar:"
   ],
   "metadata": {
    "id": "AdonjR6Pw2P1"
   }
  },
  {
   "cell_type": "code",
   "source": [
    "input_text_2 = \"y descendió fuego del cielo, y consumió el altar y el sacrificio, \"\n",
    "input_text_3 = \"y habló dios, diciendo \"\n",
    "input_text_4 = \"y \""
   ],
   "metadata": {
    "id": "utAqYpZqwPuy"
   },
   "execution_count": 19,
   "outputs": []
  },
  {
   "cell_type": "code",
   "source": [
    "inputs = [\n",
    "    (\"input_text_2\", input_text_2, 150),\n",
    "    (\"input_text_3\", input_text_3, 40),\n",
    "    (\"input_text_4\", input_text_4, 100),\n",
    "]\n",
    "\n",
    "models = [\n",
    "    (\"model\", model),\n",
    "    (\"model_improved_gru\", model_improved_gru),\n",
    "    (\"model_improved_lstm\", model_improved_lstm),\n",
    "]"
   ],
   "metadata": {
    "id": "EA8CrMCB05ZM"
   },
   "execution_count": 51,
   "outputs": []
  },
  {
   "cell_type": "code",
   "source": [
    "import textwrap\n",
    "\n",
    "def print_wrapped(text, width=120):\n",
    "    for line in textwrap.wrap(text, width):\n",
    "        print(line)\n",
    "\n",
    "for input_name, input_text, n_tokens in inputs:\n",
    "    print(f\"\\n\\n{'='*40}\")\n",
    "    print(f\"PROCESSING {input_name.upper()}\")\n",
    "    print(f\"{'='*40}\\n\")\n",
    "\n",
    "    # ----- SEQUENTIAL GENERATION -----\n",
    "    print(\">>> SEQUENTIAL GENERATION (generate_seq)\\n\")\n",
    "    for model_name, model_instance in models:\n",
    "        print(f\"--- {model_name} ---\")\n",
    "        print(generate_seq(model_instance, input_text, max_length=max_context_size, n_tokens=n_tokens))\n",
    "        print()\n",
    "\n",
    "    # ----- BEAM SEARCH (DETERMINISTIC) -----\n",
    "    print(\">>> BEAM SEARCH (deterministic)\\n\")\n",
    "    for model_name, model_instance in models:\n",
    "        print(f\"--- {model_name} ---\")\n",
    "        salidas = beam_search(model_instance, num_beams=10, num_tokens=n_tokens, input=input_text)\n",
    "        salidas_decoded = [decode(salida) for salida in salidas]\n",
    "        for i, salida in enumerate(salidas_decoded):\n",
    "            print(f\"[Beam {i+1}]\")\n",
    "            print_wrapped(salida)\n",
    "        print()\n",
    "\n",
    "    # ----- BEAM SEARCH (STOCHASTIC) -----\n",
    "    print(\">>> BEAM SEARCH (stochastic, temp=2, mode='sto')\\n\")\n",
    "    for model_name, model_instance in models:\n",
    "        print(f\"--- {model_name} ---\")\n",
    "        salidas_sto = beam_search(model_instance, num_beams=10, num_tokens=n_tokens, input=input_text, temp=2, mode='sto')\n",
    "        salidas_sto_decoded = [decode(salida) for salida in salidas_sto]\n",
    "        for i, salida in enumerate(salidas_sto_decoded):\n",
    "            print(f\"[Stochastic Beam {i+1}]\")\n",
    "            print_wrapped(salida)\n",
    "        print()"
   ],
   "metadata": {
    "colab": {
     "base_uri": "https://localhost:8080/"
    },
    "collapsed": true,
    "id": "FdGt89t_yfWI",
    "outputId": "7dc842c5-c522-442a-b1b3-8e515f658596"
   },
   "execution_count": 54,
   "outputs": [
    {
     "output_type": "stream",
     "name": "stdout",
     "text": [
      "\n",
      "\n",
      "========================================\n",
      "PROCESSING INPUT_TEXT_2\n",
      "========================================\n",
      "\n",
      ">>> SEQUENTIAL GENERATION (generate_seq)\n",
      "\n",
      "--- model ---\n",
      "y descendió fuego del cielo, y consumió el altar y el sacrificio, pero el sacerdote lo que se acercarán la carnero de la tienda del encuentro y lo que la piel, en el sacerdote lo que se acercarán la carnero de la tie\n",
      "\n",
      "--- model_improved_gru ---\n",
      "y descendió fuego del cielo, y consumió el altar y el sacrificio, y la pueblo de la pueblo de la pueblo de la pueblo de la pueblo de la pueblo de la pueblo de la pueblo de la pueblo de la pueblo de la pueblo de la pu\n",
      "\n",
      "--- model_improved_lstm ---\n",
      "y descendió fuego del cielo, y consumió el altar y el sacrificio, por el pecado de la tienda del encuentro de la tienda del encuentro de la tienda del encuentro de la tienda del encuentro de la tienda del encuentro d\n",
      "\n",
      ">>> BEAM SEARCH (deterministic)\n",
      "\n",
      "--- model ---\n",
      "[Beam 1]\n",
      "y descendió fuego del cielo, y consumió el altar y el sacrificio, como sacrificio por el pecado de la tienda del\n",
      "encuentro para el sacerdote lo quedará impuro hasta la tienda del encuentro para el sacerdote lo quemar\n",
      "[Beam 2]\n",
      "y descendió fuego del cielo, y consumió el altar y el sacrificio, como sacrificio por el pecado de la tienda del\n",
      "encuentro para el sacerdote lo quedará impuro hasta la tienda del encuentro para el sacerdote lo que se\n",
      "[Beam 3]\n",
      "y descendió fuego del cielo, y consumió el altar y el sacrificio, como sacrificio por el pecado de la tienda del\n",
      "encuentro para el sacerdote lo quedará impuro hasta la tienda del encuentro para el sacerdote lo que ha\n",
      "[Beam 4]\n",
      "y descendió fuego del cielo, y consumió el altar y el sacrificio, como sacrificio por el pecado de la tienda del\n",
      "encuentro para el sacerdote lo quedará impuro hasta la tienda del encuentro para el sacerdote los israe\n",
      "[Beam 5]\n",
      "y descendió fuego del cielo, y consumió el altar y el sacrificio, como sacrificio por el pecado de la tienda del\n",
      "encuentro para el sacerdote lo quedará impuro hasta la tienda del encuentro para el sacerdote lo quedar\n",
      "[Beam 6]\n",
      "y descendió fuego del cielo, y consumió el altar y el sacrificio, como sacrificio por el pecado de la tienda del\n",
      "encuentro para el sacerdote lo quedará impuro hasta la tienda del encuentro para el sacerdote lo que es\n",
      "[Beam 7]\n",
      "y descendió fuego del cielo, y consumió el altar y el sacrificio, como sacrificio por el pecado de la tienda del\n",
      "encuentro para el sacerdote lo quedará impuro hasta la tienda del encuentro para el sacerdote lo que le\n",
      "[Beam 8]\n",
      "y descendió fuego del cielo, y consumió el altar y el sacrificio, como sacrificio por el pecado de la tienda del\n",
      "encuentro para el sacerdote lo quedará impuro hasta la tienda del encuentro para el sacerdote lo que la\n",
      "[Beam 9]\n",
      "y descendió fuego del cielo, y consumió el altar y el sacrificio, como sacrificio por el pecado de la tienda del\n",
      "encuentro para el sacerdote lo quedará impuro hasta la tienda del encuentro para el sacerdote lo que yo\n",
      "[Beam 10]\n",
      "y descendió fuego del cielo, y consumió el altar y el sacrificio, como sacrificio por el pecado de la tienda del\n",
      "encuentro para el sacerdote lo quedará impuro hasta la tienda del encuentro para el sacerdote lo que no\n",
      "\n",
      "--- model_improved_gru ---\n",
      "[Beam 1]\n",
      "y descendió fuego del cielo, y consumió el altar y el sacrificio, para el sacerdote del sacerdote del sacerdote del\n",
      "sacerdote del sacerdote del sacerdote del sacerdote del sacerdote del sacerdote del sacerdote de la\n",
      "[Beam 2]\n",
      "y descendió fuego del cielo, y consumió el altar y el sacrificio, para el sacerdote del sacerdote del sacerdote del\n",
      "sacerdote del sacerdote del sacerdote del sacerdote del sacerdote del sacerdote de la tienda de los\n",
      "[Beam 3]\n",
      "y descendió fuego del cielo, y consumió el altar y el sacrificio, para el sacerdote del sacerdote del sacerdote del\n",
      "sacerdote del sacerdote del sacerdote del sacerdote del sacerdote del sacerdote del sacerdote de los\n",
      "[Beam 4]\n",
      "y descendió fuego del cielo, y consumió el altar y el sacrificio, para el sacerdote del sacerdote del sacerdote del\n",
      "sacerdote del sacerdote del sacerdote del sacerdote del sacerdote del sacerdote de los hijos de los\n",
      "[Beam 5]\n",
      "y descendió fuego del cielo, y consumió el altar y el sacrificio, para el sacerdote del sacerdote del sacerdote del\n",
      "sacerdote del sacerdote del sacerdote del sacerdote del sacerdote del sacerdote del sacerdote en el\n",
      "[Beam 6]\n",
      "y descendió fuego del cielo, y consumió el altar y el sacrificio, para el sacerdote del sacerdote del sacerdote del\n",
      "sacerdote del sacerdote del sacerdote del sacerdote del sacerdote del sacerdote de la tienda de la p\n",
      "[Beam 7]\n",
      "y descendió fuego del cielo, y consumió el altar y el sacrificio, para el sacerdote del sacerdote del sacerdote del\n",
      "sacerdote del sacerdote del sacerdote del sacerdote del sacerdote del sacerdote de la tienda de la t\n",
      "[Beam 8]\n",
      "y descendió fuego del cielo, y consumió el altar y el sacrificio, para el sacerdote del sacerdote del sacerdote del\n",
      "sacerdote del sacerdote del sacerdote del sacerdote del sacerdote del sacerdote del sacerdote del sa\n",
      "[Beam 9]\n",
      "y descendió fuego del cielo, y consumió el altar y el sacrificio, para el sacerdote del sacerdote del sacerdote del\n",
      "sacerdote del sacerdote del sacerdote del sacerdote del sacerdote del sacerdote de los hijos de la p\n",
      "[Beam 10]\n",
      "y descendió fuego del cielo, y consumió el altar y el sacrificio, para el sacerdote del sacerdote del sacerdote del\n",
      "sacerdote del sacerdote del sacerdote del sacerdote del sacerdote del sacerdote de los hijos de la t\n",
      "\n",
      "--- model_improved_lstm ---\n",
      "[Beam 1]\n",
      "y descendió fuego del cielo, y consumió el altar y el sacrificio, por el sacerdote de la tienda del encuentro de la\n",
      "tienda del encuentro de la tienda del encuentro de la tienda del encuentro de la tienda del encuentr\n",
      "[Beam 2]\n",
      "y descendió fuego del cielo, y consumió el altar y el sacrificio, de la tienda del encuentro de la tienda del encuentro\n",
      "de la tienda del encuentro de la tienda del encuentro de la tienda del encuentro de la tienda de\n",
      "[Beam 3]\n",
      "y descendió fuego del cielo, y consumió el altar y el sacrificio, por el pecado de la tienda del encuentro de la tienda\n",
      "del encuentro de la tienda del encuentro de la tienda del encuentro de la tienda del encuentro,\n",
      "[Beam 4]\n",
      "y descendió fuego del cielo, y consumió el altar y el sacrificio, por el pecado de la tienda del encuentro de la tienda\n",
      "del encuentro de la tienda del encuentro de la tienda del encuentro de la tienda del encuentro.\n",
      "[Beam 5]\n",
      "y descendió fuego del cielo, y consumió el altar y el sacrificio, por el pecado de la tienda del encuentro de la tienda\n",
      "del encuentro de la tienda del encuentro de la tienda del encuentro de la tienda del encuentro d\n",
      "[Beam 6]\n",
      "y descendió fuego del cielo, y consumió el altar y el sacrificio, por el sacerdote de la tienda del encuentro de la\n",
      "tienda del encuentro de la tienda del encuentro de la tienda del encuentro de la tienda del sacerdot\n",
      "[Beam 7]\n",
      "y descendió fuego del cielo, y consumió el altar y el sacrificio, por el pecado de la tienda del encuentro de la tienda\n",
      "del encuentro de la tienda del encuentro de la tienda del encuentro de la tienda del encuentro y\n",
      "[Beam 8]\n",
      "y descendió fuego del cielo, y consumió el altar y el sacrificio, por el pecado de la tienda del encuentro de la tienda\n",
      "del encuentro de la tienda del encuentro de la tienda del encuentro de la tienda del sacerdote l\n",
      "[Beam 9]\n",
      "y descendió fuego del cielo, y consumió el altar y el sacrificio, por el pecado de la tienda del encuentro de la tienda\n",
      "del encuentro de la tienda del encuentro de la tienda del encuentro de la tienda del encuentro p\n",
      "[Beam 10]\n",
      "y descendió fuego del cielo, y consumió el altar y el sacrificio, por el pecado de la tienda del encuentro de la tienda\n",
      "del encuentro de la tienda del encuentro de la tienda del encuentro de la tienda del sacerdote d\n",
      "\n",
      ">>> BEAM SEARCH (stochastic, temp=2, mode='sto')\n",
      "\n",
      "--- model ---\n",
      "[Stochastic Beam 1]\n",
      "y descendió fuego del cielo, y consumió el altar y el sacrificio, [24] pero si un cubrirás a yahveh, el sacerdote\n",
      "delante de yahveh, para el pecado, y lo exterminará sobre la calabras, el sacerdote el pueblo, y se da\n",
      "[Stochastic Beam 2]\n",
      "y descendió fuego del cielo, y consumió el altar y el sacrificio, [24] pero si un cubrirás a yahveh, el sacerdote\n",
      "delante de yahveh, para el pecado, y lo exterminará sobre la calabras, el sacerdote el pueblo, y se as\n",
      "[Stochastic Beam 3]\n",
      "y descendió fuego del cielo, y consumió el altar y el sacrificio, [24] pero si un cubrirás a yahveh, el sacerdote\n",
      "delante de yahveh, para el pecado, y lo exterminará sobre la calabras, el sacerdote el pueblo, y se ar\n",
      "[Stochastic Beam 4]\n",
      "y descendió fuego del cielo, y consumió el altar y el sacrificio, [24] pero si un cubrirás a yahveh, el sacerdote\n",
      "delante de yahveh, para el pecado, y lo exterminará sobre la calabras, el sacerdote el pueblo, y se la\n",
      "[Stochastic Beam 5]\n",
      "y descendió fuego del cielo, y consumió el altar y el sacrificio, [24] pero si un cubrirás a yahveh, el sacerdote\n",
      "delante de yahveh, para el pecado, y lo exterminará sobre la calabras, el sacerdote el pueblo, y se af\n",
      "[Stochastic Beam 6]\n",
      "y descendió fuego del cielo, y consumió el altar y el sacrificio, [24] pero si un cubrirás a yahveh, el sacerdote\n",
      "delante de yahveh, para el pecado, y lo exterminará sobre la calabras, el sacerdote el pueblo, y se lá\n",
      "[Stochastic Beam 7]\n",
      "y descendió fuego del cielo, y consumió el altar y el sacrificio, [24] pero si un cubrirás a yahveh, el sacerdote\n",
      "delante de yahveh, para el pecado, y lo exterminará sobre la calabras, el sacerdote el pueblo, y sabrá\n",
      "[Stochastic Beam 8]\n",
      "y descendió fuego del cielo, y consumió el altar y el sacrificio, [24] pero si un cubrirás a yahveh, el sacerdote\n",
      "delante de yahveh, para el pecado, y lo exterminará sobre la calabras, el sacerdote el pueblo, y se aq\n",
      "[Stochastic Beam 9]\n",
      "y descendió fuego del cielo, y consumió el altar y el sacrificio, [24] pero si un cubrirás a yahveh, el sacerdote\n",
      "delante de yahveh, para el pecado, y lo exterminará sobre la calabras, el sacerdote el pueblo, y se an\n",
      "[Stochastic Beam 10]\n",
      "y descendió fuego del cielo, y consumió el altar y el sacrificio, [24] pero si un cubrirás a yahveh, el sacerdote\n",
      "delante de yahveh, para el pecado, y lo exterminará sobre la calabras, el sacerdote el pueblo, y se lo\n",
      "\n",
      "--- model_improved_gru ---\n",
      "[Stochastic Beam 1]\n",
      "y descendió fuego del cielo, y consumió el altar y el sacrificio, y es el los hijos y se haya es el altar de los hijos\n",
      "de los desiertas entrada aarón de la ofrecerá con cuando de la incibicio y con los hijos del egla\n",
      "[Stochastic Beam 2]\n",
      "y descendió fuego del cielo, y consumió el altar y el sacrificio, y es el los hijos y se haya es el altar de los hijos\n",
      "de los desiertas entrada aarón de la ofrecerá con cuando de la incibicio y con los hijos del el p\n",
      "[Stochastic Beam 3]\n",
      "y descendió fuego del cielo, y consumió el altar y el sacrificio, y es el los hijos y se haya es el altar de los hijos\n",
      "de los desiertas entrada aarón de la ofrecerá con cuando de la incibicio y con los hijos del egle\n",
      "[Stochastic Beam 4]\n",
      "y descendió fuego del cielo, y consumió el altar y el sacrificio, y es el los hijos y se haya es el altar de los hijos\n",
      "de los desiertas entrada aarón de la ofrecerá con cuando de la incibicio y con los hijos del camó\n",
      "[Stochastic Beam 5]\n",
      "y descendió fuego del cielo, y consumió el altar y el sacrificio, y es el los hijos y se haya es el altar de los hijos\n",
      "de los desiertas entrada aarón de la ofrecerá con cuando de la incibicio y con los hijos del cagu\n",
      "[Stochastic Beam 6]\n",
      "y descendió fuego del cielo, y consumió el altar y el sacrificio, y es el los hijos y se haya es el altar de los hijos\n",
      "de los desiertas entrada aarón de la ofrecerá con cuando de la incibicio y con los hijos del cabó\n",
      "[Stochastic Beam 7]\n",
      "y descendió fuego del cielo, y consumió el altar y el sacrificio, y es el los hijos y se haya es el altar de los hijos\n",
      "de los desiertas entrada aarón de la ofrecerá con cuando de la incibicio y con los hijos del camp\n",
      "[Stochastic Beam 8]\n",
      "y descendió fuego del cielo, y consumió el altar y el sacrificio, y es el los hijos y se haya es el altar de los hijos\n",
      "de los desiertas entrada aarón de la ofrecerá con cuando de la incibicio y con los hijos del cabé\n",
      "[Stochastic Beam 9]\n",
      "y descendió fuego del cielo, y consumió el altar y el sacrificio, y es el los hijos y se haya es el altar de los hijos\n",
      "de los desiertas entrada aarón de la ofrecerá con cuando de la incibicio y con los hijos del el y\n",
      "[Stochastic Beam 10]\n",
      "y descendió fuego del cielo, y consumió el altar y el sacrificio, y es el los hijos y se haya es el altar de los hijos\n",
      "de los desiertas entrada aarón de la ofrecerá con cuando de la incibicio y con los hijos del el t\n",
      "\n",
      "--- model_improved_lstm ---\n",
      "[Stochastic Beam 1]\n",
      "y descendió fuego del cielo, y consumió el altar y el sacrificio, por el sacerdote yahveh. [7] yahveh el altar porque\n",
      "yahveh había la piel, es la camera del mano formal, sin el mecho y mojarás de acertado yahveh hast\n",
      "[Stochastic Beam 2]\n",
      "y descendió fuego del cielo, y consumió el altar y el sacrificio, por el sacerdote yahveh. [7] yahveh el altar porque\n",
      "yahveh había la piel, es la camera del mano formal, sin el mecho y mojarás de acertado yahveh haci\n",
      "[Stochastic Beam 3]\n",
      "y descendió fuego del cielo, y consumió el altar y el sacrificio, por el sacerdote yahveh. [7] yahveh el altar porque\n",
      "yahveh había la piel, es la camera del mano formal, sin el mecho y mojarás de acertado yahveh hast\n",
      "[Stochastic Beam 4]\n",
      "y descendió fuego del cielo, y consumió el altar y el sacrificio, por el sacerdote yahveh. [7] yahveh el altar porque\n",
      "yahveh había la piel, es la camera del mano formal, sin el mecho y mojarás de acertado yahveh hay;\n",
      "[Stochastic Beam 5]\n",
      "y descendió fuego del cielo, y consumió el altar y el sacrificio, por el sacerdote yahveh. [7] yahveh el altar porque\n",
      "yahveh había la piel, es la camera del mano formal, sin el mecho y mojarás de acertado yahveh. tab\n",
      "[Stochastic Beam 6]\n",
      "y descendió fuego del cielo, y consumió el altar y el sacrificio, por el sacerdote yahveh. [7] yahveh el altar porque\n",
      "yahveh había la piel, es la camera del mano formal, sin el mecho y mojarás de acertado yahveh hay\n",
      "[Stochastic Beam 7]\n",
      "y descendió fuego del cielo, y consumió el altar y el sacrificio, por el sacerdote yahveh. [7] yahveh el altar porque\n",
      "yahveh había la piel, es la camera del mano formal, sin el mecho y mojarás de acertado yahveh hace\n",
      "[Stochastic Beam 8]\n",
      "y descendió fuego del cielo, y consumió el altar y el sacrificio, por el sacerdote yahveh. [7] yahveh el altar porque\n",
      "yahveh había la piel, es la camera del mano formal, sin el mecho y mojarás de acertado yahveh hisü\n",
      "[Stochastic Beam 9]\n",
      "y descendió fuego del cielo, y consumió el altar y el sacrificio, por el sacerdote yahveh. [7] yahveh el altar porque\n",
      "yahveh había la piel, es la camera del mano formal, sin el mecho y mojarás de acertado yahveh hasc\n",
      "[Stochastic Beam 10]\n",
      "y descendió fuego del cielo, y consumió el altar y el sacrificio, por el sacerdote yahveh. [7] yahveh el altar porque\n",
      "yahveh había la piel, es la camera del mano formal, sin el mecho y mojarás de acertado yahveh haya\n",
      "\n",
      "\n",
      "\n",
      "========================================\n",
      "PROCESSING INPUT_TEXT_3\n",
      "========================================\n",
      "\n",
      ">>> SEQUENTIAL GENERATION (generate_seq)\n",
      "\n",
      "--- model ---\n",
      "y habló dios, diciendo en el altar de los israelitas y los isra\n",
      "\n",
      "--- model_improved_gru ---\n",
      "y habló dios, diciendo de la pueblo de la pueblo de la pueblo d\n",
      "\n",
      "--- model_improved_lstm ---\n",
      "y habló dios, diciendo en el pecado de la tienda del encuentro \n",
      "\n",
      ">>> BEAM SEARCH (deterministic)\n",
      "\n",
      "--- model ---\n",
      "[Beam 1]\n",
      "y habló dios, diciendo en la tienda del encuentro por el pecado\n",
      "[Beam 2]\n",
      "y habló dios, diciendo en la tienda del encuentro para el altar\n",
      "[Beam 3]\n",
      "y habló dios, diciendo en la tienda del encuentro para el sacer\n",
      "[Beam 4]\n",
      "y habló dios, diciendo en la tienda del encuentro y los israeli\n",
      "[Beam 5]\n",
      "y habló dios, diciendo en la tienda del encuentro para el pecad\n",
      "[Beam 6]\n",
      "y habló dios, diciendo en la tienda del encuentro para que se a\n",
      "[Beam 7]\n",
      "y habló dios, diciendo en la tienda del encuentro para el sebo\n",
      "[Beam 8]\n",
      "y habló dios, diciendo en la tienda del encuentro para que se h\n",
      "[Beam 9]\n",
      "y habló dios, diciendo en la tienda del encuentro para que habí\n",
      "[Beam 10]\n",
      "y habló dios, diciendo en la tienda del encuentro para que esta\n",
      "\n",
      "--- model_improved_gru ---\n",
      "[Beam 1]\n",
      "y habló dios, diciendo del sacerdote de la tienda de la tienda\n",
      "[Beam 2]\n",
      "y habló dios, diciendo del sacerdote de los hijos de la tienda\n",
      "[Beam 3]\n",
      "y habló dios, diciendo del sacerdote de la tienda de los hijos\n",
      "[Beam 4]\n",
      "y habló dios, diciendo el sacerdote de la tienda de la tienda d\n",
      "[Beam 5]\n",
      "y habló dios, diciendo el sacerdote de la tienda de los hijos d\n",
      "[Beam 6]\n",
      "y habló dios, diciendo del sacerdote de la tienda de la tierra\n",
      "[Beam 7]\n",
      "y habló dios, diciendo del sacrificio de la tienda de la tienda\n",
      "[Beam 8]\n",
      "y habló dios, diciendo del sacerdote de los hijos de la tierra\n",
      "[Beam 9]\n",
      "y habló dios, diciendo el sacerdote de la tienda de los hijos,\n",
      "[Beam 10]\n",
      "y habló dios, diciendo el sacerdote de la tienda de la tierra d\n",
      "\n",
      "--- model_improved_lstm ---\n",
      "[Beam 1]\n",
      "y habló dios, diciendo de la tienda de la tienda del encuentro\n",
      "[Beam 2]\n",
      "y habló dios, diciendo de la tienda de la tienda del sacerdote\n",
      "[Beam 3]\n",
      "y habló dios, diciendo de la tienda del encuentro de la tienda\n",
      "[Beam 4]\n",
      "y habló dios, diciendo de la tienda de la tienda del encuentro,\n",
      "[Beam 5]\n",
      "y habló dios, diciendo de la tienda de la tienda del encuentro.\n",
      "[Beam 6]\n",
      "y habló dios, diciendo de la tienda del encuentro por el pecado\n",
      "[Beam 7]\n",
      "y habló dios, diciendo de la tienda del encuentro por el pueblo\n",
      "[Beam 8]\n",
      "y habló dios, diciendo de la tienda del encuentro por el sacerd\n",
      "[Beam 9]\n",
      "y habló dios, diciendo de la tienda de la tienda del encuentros\n",
      "[Beam 10]\n",
      "y habló dios, diciendo de la tienda del encuentro de la tierra\n",
      "\n",
      ">>> BEAM SEARCH (stochastic, temp=2, mode='sto')\n",
      "\n",
      "--- model ---\n",
      "[Stochastic Beam 1]\n",
      "y habló dios, diciendo en el sacerdote lo quemará el día segun.\n",
      "[Stochastic Beam 2]\n",
      "y habló dios, diciendo en el sacerdote lo quemará el día será e\n",
      "[Stochastic Beam 3]\n",
      "y habló dios, diciendo en el sacerdote lo quemará el día será l\n",
      "[Stochastic Beam 4]\n",
      "y habló dios, diciendo en el sacerdote lo quemará el día serenc\n",
      "[Stochastic Beam 5]\n",
      "y habló dios, diciendo en el sacerdote lo quemará el día será p\n",
      "[Stochastic Beam 6]\n",
      "y habló dios, diciendo en el sacerdote lo quemará el día segunm\n",
      "[Stochastic Beam 7]\n",
      "y habló dios, diciendo en el sacerdote lo quemará el día será d\n",
      "[Stochastic Beam 8]\n",
      "y habló dios, diciendo en el sacerdote lo quemará el día será f\n",
      "[Stochastic Beam 9]\n",
      "y habló dios, diciendo en el sacerdote lo quemará el día segue,\n",
      "[Stochastic Beam 10]\n",
      "y habló dios, diciendo en el sacerdote lo quemará el día será é\n",
      "\n",
      "--- model_improved_gru ---\n",
      "[Stochastic Beam 1]\n",
      "y habló dios, diciendo en la carne de los la tienda del anchos\n",
      "[Stochastic Beam 2]\n",
      "y habló dios, diciendo en la carne de los la tienda del anchos\n",
      "[Stochastic Beam 3]\n",
      "y habló dios, diciendo en la carne de los la tienda del ancho.\n",
      "[Stochastic Beam 4]\n",
      "y habló dios, diciendo en la carne de los la tienda del anime e\n",
      "[Stochastic Beam 5]\n",
      "y habló dios, diciendo en la carne de los la tienda del ancesdt\n",
      "[Stochastic Beam 6]\n",
      "y habló dios, diciendo en la carne de los la tienda del animías\n",
      "[Stochastic Beam 7]\n",
      "y habló dios, diciendo en la carne de los la tienda del animías\n",
      "[Stochastic Beam 8]\n",
      "y habló dios, diciendo en la carne de los la tienda del anchos\n",
      "[Stochastic Beam 9]\n",
      "y habló dios, diciendo en la carne de los la tienda del anime f\n",
      "[Stochastic Beam 10]\n",
      "y habló dios, diciendo en la carne de los la tienda del anchos\n",
      "\n",
      "--- model_improved_lstm ---\n",
      "[Stochastic Beam 1]\n",
      "y habló dios, diciendo porque el día de la cabera de su dierno\n",
      "[Stochastic Beam 2]\n",
      "y habló dios, diciendo porque el día de la cabera de su marlaca\n",
      "[Stochastic Beam 3]\n",
      "y habló dios, diciendo porque el día de la cabera de su marla e\n",
      "[Stochastic Beam 4]\n",
      "y habló dios, diciendo porque el día de la cabera de su diera e\n",
      "[Stochastic Beam 5]\n",
      "y habló dios, diciendo porque el día de la cabera de su dierno,\n",
      "[Stochastic Beam 6]\n",
      "y habló dios, diciendo porque el día de la cabera de su marla d\n",
      "[Stochastic Beam 7]\n",
      "y habló dios, diciendo porque el día de la cabera de su dierno;\n",
      "[Stochastic Beam 8]\n",
      "y habló dios, diciendo porque el día de la cabera de su marla a\n",
      "[Stochastic Beam 9]\n",
      "y habló dios, diciendo porque el día de la cabera de su diera d\n",
      "[Stochastic Beam 10]\n",
      "y habló dios, diciendo porque el día de la cabera de su dierno.\n",
      "\n",
      "\n",
      "\n",
      "========================================\n",
      "PROCESSING INPUT_TEXT_4\n",
      "========================================\n",
      "\n",
      ">>> SEQUENTIAL GENERATION (generate_seq)\n",
      "\n",
      "--- model ---\n",
      "y se ha extendido en el altar de los israelitas y los israelitas y los israelitas y los israelitas y l\n",
      "\n",
      "--- model_improved_gru ---\n",
      "y la pueblo de la pueblo de la pueblo de la pueblo de la pueblo de la pueblo de la pueblo de la pueblo\n",
      "\n",
      "--- model_improved_lstm ---\n",
      "y el sacerdote lo que se ha para el pecado de la tienda del encuentro de la tienda del encuentro de la\n",
      "\n",
      ">>> BEAM SEARCH (deterministic)\n",
      "\n",
      "--- model ---\n",
      "[Beam 1]\n",
      "y los israelitas de la tienda del encuentro para el sacerdote lo quemará en la tienda del encuentro. [\n",
      "[Beam 2]\n",
      "y los israelitas de la tienda del encuentro para el sacerdote lo quemará en la tienda del encuentro y\n",
      "[Beam 3]\n",
      "y los israelitas de la tienda del encuentro para el sacerdote lo quemará en la tienda del encuentro, p\n",
      "[Beam 4]\n",
      "y los israelitas de la tienda del encuentro para el sacerdote lo quemará en la tienda del encuentro pa\n",
      "[Beam 5]\n",
      "y los israelitas de la tienda del encuentro para el sacerdote lo quemará en la tienda del encuentro, e\n",
      "[Beam 6]\n",
      "y los israelitas de la tienda del encuentro para el sacerdote lo quemará en la tienda del encuentro de\n",
      "[Beam 7]\n",
      "y los israelitas de la tienda del encuentro para el sacerdote lo quemará el sacerdote los israelitas,\n",
      "[Beam 8]\n",
      "y los israelitas de la tienda del encuentro para el sacerdote lo quemará en la tienda del encuentro, c\n",
      "[Beam 9]\n",
      "y los israelitas de la tienda del encuentro para el sacerdote lo quemará en la tienda del encuentro po\n",
      "[Beam 10]\n",
      "y los israelitas de la tienda del encuentro para el sacerdote lo quemará en la tienda del encuentro co\n",
      "\n",
      "--- model_improved_gru ---\n",
      "[Beam 1]\n",
      "y el sacerdote del sacerdote del sacerdote del sacerdote del sacerdote del sacerdote del sacerdote de\n",
      "[Beam 2]\n",
      "y el sacerdote del sacerdote del sacerdote del sacerdote del sacerdote del sacerdote del sacerdote la\n",
      "[Beam 3]\n",
      "y el sacerdote del sacerdote del sacerdote del sacerdote del sacerdote del sacerdote del sacerdote el\n",
      "[Beam 4]\n",
      "y el sacerdote del sacerdote del sacerdote del sacerdote del sacerdote del sacerdote de la tienda de l\n",
      "[Beam 5]\n",
      "y el sacerdote del sacerdote del sacerdote del sacerdote del sacerdote del sacerdote del sacerdote en\n",
      "[Beam 6]\n",
      "y el sacerdote del sacerdote del sacerdote del sacerdote del sacerdote del sacerdote del sacerdote del\n",
      "[Beam 7]\n",
      "y el sacerdote del sacerdote del sacerdote del sacerdote del sacerdote del sacerdote de la tienda del\n",
      "[Beam 8]\n",
      "y el sacerdote del sacerdote del sacerdote del sacerdote del sacerdote del sacerdote de los hijos de l\n",
      "[Beam 9]\n",
      "y el sacerdote del sacerdote del sacerdote del sacerdote del sacerdote de la tienda de la tienda de la\n",
      "[Beam 10]\n",
      "y el sacerdote del sacerdote del sacerdote del sacerdote del sacerdote de la tienda de los hijos de la\n",
      "\n",
      "--- model_improved_lstm ---\n",
      "[Beam 1]\n",
      "y los israelitas de la tienda del encuentro de la tienda del encuentro de la tienda del encuentro de l\n",
      "[Beam 2]\n",
      "y los israelitas de la tienda del encuentro de la tienda del encuentro de la tienda del encuentro del\n",
      "[Beam 3]\n",
      "y los israelitas de la tienda de la tienda del encuentro de la tienda del encuentro de la tienda del e\n",
      "[Beam 4]\n",
      "y los israelitas de la tienda del encuentro de la tienda de la tienda del encuentro de la tienda del e\n",
      "[Beam 5]\n",
      "y los israelitas de la tienda del encuentro de la tienda del encuentro de la tienda de la tienda del e\n",
      "[Beam 6]\n",
      "y los israelitas de la tienda del encuentro de la tienda del encuentro de la tienda del sacerdote lo q\n",
      "[Beam 7]\n",
      "y los israelitas de la tienda del encuentro de la tienda del encuentro de la tienda del encuentro y lo\n",
      "[Beam 8]\n",
      "y los israelitas de la tienda del encuentro de la tienda del encuentro de la tienda del sacerdote de l\n",
      "[Beam 9]\n",
      "y los israelitas de la tienda de la tienda del encuentro de la tienda del encuentro de la tienda del s\n",
      "[Beam 10]\n",
      "y los israelitas de la tienda del encuentro de la tienda de la tienda del encuentro de la tienda del s\n",
      "\n",
      ">>> BEAM SEARCH (stochastic, temp=2, mode='sto')\n",
      "\n",
      "--- model ---\n",
      "[Stochastic Beam 1]\n",
      "y se acercará. [13] el santo al monte cominada de su calmano de los israelitas de la tierra de aarón y\n",
      "[Stochastic Beam 2]\n",
      "y se acercará. [13] el santo al monte cominada de su calmano de los israelitas de la tierra de aarón,\n",
      "[Stochastic Beam 3]\n",
      "y se acercará. [13] el santo al monte cominada de su calmano de los israelitas de la tierra de aarón:\n",
      "[Stochastic Beam 4]\n",
      "y se acercará. [13] el santo al monte cominada de su calmano de los israelitas de la tierra de aarón c\n",
      "[Stochastic Beam 5]\n",
      "y se acercará. [13] el santo al monte cominada de su calmano de los israelitas de la tierra de aarón l\n",
      "[Stochastic Beam 6]\n",
      "y se acercará. [13] el santo al monte cominada de su calmano de los israelitas de la tierra de aarón p\n",
      "[Stochastic Beam 7]\n",
      "y se acercará. [13] el santo al monte cominada de su calmano de los israelitas de la tierra de aarón:\n",
      "[Stochastic Beam 8]\n",
      "y se acercará. [13] el santo al monte cominada de su calmano de los israelitas de la tierra de aarón.\n",
      "[Stochastic Beam 9]\n",
      "y se acercará. [13] el santo al monte cominada de su calmano de los israelitas de la tierra de aarón,\n",
      "[Stochastic Beam 10]\n",
      "y se acercará. [13] el santo al monte cominada de su calmano de los israelitas de la tierra de aarón e\n",
      "\n",
      "--- model_improved_gru ---\n",
      "[Stochastic Beam 1]\n",
      "y se herio con los sobre el sebon de ellos. [21] yahveh. [21] no hasta yahveh había yahveh de la peco\n",
      "[Stochastic Beam 2]\n",
      "y se herio con los sobre el sebon de ellos. [21] yahveh. [21] no hasta yahveh había yahveh de la holor\n",
      "[Stochastic Beam 3]\n",
      "y se herio con los sobre el sebon de ellos. [21] yahveh. [21] no hasta yahveh había yahveh de la holoc\n",
      "[Stochastic Beam 4]\n",
      "y se herio con los sobre el sebon de ellos. [21] yahveh. [21] no hasta yahveh había yahveh de la holoc\n",
      "[Stochastic Beam 5]\n",
      "y se herio con los sobre el sebon de ellos. [21] yahveh. [21] no hasta yahveh había yahveh de la holot\n",
      "[Stochastic Beam 6]\n",
      "y se herio con los sobre el sebon de ellos. [21] yahveh. [21] no hasta yahveh había yahveh de la holos\n",
      "[Stochastic Beam 7]\n",
      "y se herio con los sobre el sebon de ellos. [21] yahveh. [21] no hasta yahveh había yahveh de la pecod\n",
      "[Stochastic Beam 8]\n",
      "y se herio con los sobre el sebon de ellos. [21] yahveh. [21] no hasta yahveh había yahveh de la peco,\n",
      "[Stochastic Beam 9]\n",
      "y se herio con los sobre el sebon de ellos. [21] yahveh. [21] no hasta yahveh había yahveh de la gano\n",
      "[Stochastic Beam 10]\n",
      "y se herio con los sobre el sebon de ellos. [21] yahveh. [21] no hasta yahveh había yahveh de la pusso\n",
      "\n",
      "--- model_improved_lstm ---\n",
      "[Stochastic Beam 1]\n",
      "y ella por uno se propicio. [27] no sobre el daver para, los hijos, y el pueblo. [12] el secer del mar\n",
      "[Stochastic Beam 2]\n",
      "y ella por uno se propicio. [27] no sobre el daver para, los hijos, y el pueblo. [12] el secer del man\n",
      "[Stochastic Beam 3]\n",
      "y ella por uno se propicio. [27] no sobre el daver para, los hijos, y el pueblo. [12] el secer del map\n",
      "[Stochastic Beam 4]\n",
      "y ella por uno se propicio. [27] no sobre el daver para, los hijos, y el pueblo. [12] el secer del sic\n",
      "[Stochastic Beam 5]\n",
      "y ella por uno se propicio. [27] no sobre el daver para, los hijos, y el pueblo. [12] el secer del man\n",
      "[Stochastic Beam 6]\n",
      "y ella por uno se propicio. [27] no sobre el daver para, los hijos, y el pueblo. [12] el secer del man\n",
      "[Stochastic Beam 7]\n",
      "y ella por uno se propicio. [27] no sobre el daver para, los hijos, y el pueblo. [12] el secer del mig\n",
      "[Stochastic Beam 8]\n",
      "y ella por uno se propicio. [27] no sobre el daver para, los hijos, y el pueblo. [12] el secer del man\n",
      "[Stochastic Beam 9]\n",
      "y ella por uno se propicio. [27] no sobre el daver para, los hijos, y el pueblo. [12] el secer del qué\n",
      "[Stochastic Beam 10]\n",
      "y ella por uno se propicio. [27] no sobre el daver para, los hijos, y el pueblo. [12] el secer del mae\n",
      "\n"
     ]
    }
   ]
  },
  {
   "cell_type": "markdown",
   "source": [
    "Para el input \"y descendió fuego del cielo, y consumió el altar y el sacrificio, \", parece que incluso el modelo original es el mejor. Es el que más caracteres genera sin caer en repetción, y pronpone algunas palabras interesantes relacionadas con el input como \"cabra\". El resto de los modelos caen rápidamente en repetición. Para la generación estocástica se logra reducir un poco esto, pero se introduce el problema de generar palabras inexistentes."
   ],
   "metadata": {
    "id": "q_7UuvZoZAjd"
   }
  },
  {
   "cell_type": "markdown",
   "source": [
    "Para el input \"y habló dios, diciendo \" se vuelve a repetir la problemática de los modelos, y queda en evidencia además del uso de la mayoría de palabras sin importar el contexto. En este caso hace sentido mencionar \"sacerdote\", pero vemos que se ha utilizado en otro contexto y además se vuelve a repetir \"tiendas, \"sacrificio\"..."
   ],
   "metadata": {
    "id": "nxPGoIrxZ5O8"
   }
  },
  {
   "cell_type": "markdown",
   "source": [
    "Finalmente, para el input más abierto \"y \" cada modelo modifica la desición de como completar, pero como es de esperar, utilizan las mismas palabras que para los otros contextos."
   ],
   "metadata": {
    "id": "A4iJ9lAGaUei"
   }
  },
  {
   "cell_type": "markdown",
   "source": [
    "### Modelo con doble capa LSTM\n",
    "\n",
    "Finalmente, intentemos un modelo que logre mayor expresividad, con 2 capas LSTM, con más neuronas:\n"
   ],
   "metadata": {
    "id": "JGIIzSLiFQ8-"
   }
  },
  {
   "cell_type": "code",
   "source": [
    "model_complex = Sequential()\n",
    "\n",
    "# Codificación one-hot\n",
    "model_complex.add(TimeDistributed(\n",
    "    CategoryEncoding(num_tokens=vocab_size, output_mode=\"one_hot\"),\n",
    "    input_shape=(None, 1)\n",
    "))\n",
    "\n",
    "# Primera capa LSTM potente\n",
    "model_complex.add(LSTM(200, return_sequences=True, dropout=0.2, recurrent_dropout=0.1))\n",
    "# Segunda capa LSTM más liviana\n",
    "model_complex.add(LSTM(100, return_sequences=True, dropout=0.2, recurrent_dropout=0.1))\n",
    "model_complex.add(Dense(vocab_size, activation='softmax'))\n",
    "\n",
    "model_complex.compile(loss='sparse_categorical_crossentropy', optimizer='rmsprop')\n",
    "\n",
    "model_complex.summary()"
   ],
   "metadata": {
    "colab": {
     "base_uri": "https://localhost:8080/",
     "height": 337
    },
    "id": "P9j76-NgZrbL",
    "outputId": "5220c902-f8b3-47f5-ee27-cee990d69b5a"
   },
   "execution_count": 28,
   "outputs": [
    {
     "output_type": "stream",
     "name": "stderr",
     "text": [
      "/usr/local/lib/python3.11/dist-packages/keras/src/layers/core/wrapper.py:27: UserWarning: Do not pass an `input_shape`/`input_dim` argument to a layer. When using Sequential models, prefer using an `Input(shape)` object as the first layer in the model instead.\n",
      "  super().__init__(**kwargs)\n"
     ]
    },
    {
     "output_type": "display_data",
     "data": {
      "text/plain": [
       "\u001B[1mModel: \"sequential\"\u001B[0m\n"
      ],
      "text/html": [
       "<pre style=\"white-space:pre;overflow-x:auto;line-height:normal;font-family:Menlo,'DejaVu Sans Mono',consolas,'Courier New',monospace\"><span style=\"font-weight: bold\">Model: \"sequential\"</span>\n",
       "</pre>\n"
      ]
     },
     "metadata": {}
    },
    {
     "output_type": "display_data",
     "data": {
      "text/plain": [
       "┏━━━━━━━━━━━━━━━━━━━━━━━━━━━━━━━━━┳━━━━━━━━━━━━━━━━━━━━━━━━┳━━━━━━━━━━━━━━━┓\n",
       "┃\u001B[1m \u001B[0m\u001B[1mLayer (type)                   \u001B[0m\u001B[1m \u001B[0m┃\u001B[1m \u001B[0m\u001B[1mOutput Shape          \u001B[0m\u001B[1m \u001B[0m┃\u001B[1m \u001B[0m\u001B[1m      Param #\u001B[0m\u001B[1m \u001B[0m┃\n",
       "┡━━━━━━━━━━━━━━━━━━━━━━━━━━━━━━━━━╇━━━━━━━━━━━━━━━━━━━━━━━━╇━━━━━━━━━━━━━━━┩\n",
       "│ time_distributed                │ (\u001B[38;5;45mNone\u001B[0m, \u001B[38;5;45mNone\u001B[0m, \u001B[38;5;34m62\u001B[0m)       │             \u001B[38;5;34m0\u001B[0m │\n",
       "│ (\u001B[38;5;33mTimeDistributed\u001B[0m)               │                        │               │\n",
       "├─────────────────────────────────┼────────────────────────┼───────────────┤\n",
       "│ lstm (\u001B[38;5;33mLSTM\u001B[0m)                     │ (\u001B[38;5;45mNone\u001B[0m, \u001B[38;5;45mNone\u001B[0m, \u001B[38;5;34m200\u001B[0m)      │       \u001B[38;5;34m210,400\u001B[0m │\n",
       "├─────────────────────────────────┼────────────────────────┼───────────────┤\n",
       "│ lstm_1 (\u001B[38;5;33mLSTM\u001B[0m)                   │ (\u001B[38;5;45mNone\u001B[0m, \u001B[38;5;45mNone\u001B[0m, \u001B[38;5;34m100\u001B[0m)      │       \u001B[38;5;34m120,400\u001B[0m │\n",
       "├─────────────────────────────────┼────────────────────────┼───────────────┤\n",
       "│ dense (\u001B[38;5;33mDense\u001B[0m)                   │ (\u001B[38;5;45mNone\u001B[0m, \u001B[38;5;45mNone\u001B[0m, \u001B[38;5;34m62\u001B[0m)       │         \u001B[38;5;34m6,262\u001B[0m │\n",
       "└─────────────────────────────────┴────────────────────────┴───────────────┘\n"
      ],
      "text/html": [
       "<pre style=\"white-space:pre;overflow-x:auto;line-height:normal;font-family:Menlo,'DejaVu Sans Mono',consolas,'Courier New',monospace\">┏━━━━━━━━━━━━━━━━━━━━━━━━━━━━━━━━━┳━━━━━━━━━━━━━━━━━━━━━━━━┳━━━━━━━━━━━━━━━┓\n",
       "┃<span style=\"font-weight: bold\"> Layer (type)                    </span>┃<span style=\"font-weight: bold\"> Output Shape           </span>┃<span style=\"font-weight: bold\">       Param # </span>┃\n",
       "┡━━━━━━━━━━━━━━━━━━━━━━━━━━━━━━━━━╇━━━━━━━━━━━━━━━━━━━━━━━━╇━━━━━━━━━━━━━━━┩\n",
       "│ time_distributed                │ (<span style=\"color: #00d7ff; text-decoration-color: #00d7ff\">None</span>, <span style=\"color: #00d7ff; text-decoration-color: #00d7ff\">None</span>, <span style=\"color: #00af00; text-decoration-color: #00af00\">62</span>)       │             <span style=\"color: #00af00; text-decoration-color: #00af00\">0</span> │\n",
       "│ (<span style=\"color: #0087ff; text-decoration-color: #0087ff\">TimeDistributed</span>)               │                        │               │\n",
       "├─────────────────────────────────┼────────────────────────┼───────────────┤\n",
       "│ lstm (<span style=\"color: #0087ff; text-decoration-color: #0087ff\">LSTM</span>)                     │ (<span style=\"color: #00d7ff; text-decoration-color: #00d7ff\">None</span>, <span style=\"color: #00d7ff; text-decoration-color: #00d7ff\">None</span>, <span style=\"color: #00af00; text-decoration-color: #00af00\">200</span>)      │       <span style=\"color: #00af00; text-decoration-color: #00af00\">210,400</span> │\n",
       "├─────────────────────────────────┼────────────────────────┼───────────────┤\n",
       "│ lstm_1 (<span style=\"color: #0087ff; text-decoration-color: #0087ff\">LSTM</span>)                   │ (<span style=\"color: #00d7ff; text-decoration-color: #00d7ff\">None</span>, <span style=\"color: #00d7ff; text-decoration-color: #00d7ff\">None</span>, <span style=\"color: #00af00; text-decoration-color: #00af00\">100</span>)      │       <span style=\"color: #00af00; text-decoration-color: #00af00\">120,400</span> │\n",
       "├─────────────────────────────────┼────────────────────────┼───────────────┤\n",
       "│ dense (<span style=\"color: #0087ff; text-decoration-color: #0087ff\">Dense</span>)                   │ (<span style=\"color: #00d7ff; text-decoration-color: #00d7ff\">None</span>, <span style=\"color: #00d7ff; text-decoration-color: #00d7ff\">None</span>, <span style=\"color: #00af00; text-decoration-color: #00af00\">62</span>)       │         <span style=\"color: #00af00; text-decoration-color: #00af00\">6,262</span> │\n",
       "└─────────────────────────────────┴────────────────────────┴───────────────┘\n",
       "</pre>\n"
      ]
     },
     "metadata": {}
    },
    {
     "output_type": "display_data",
     "data": {
      "text/plain": [
       "\u001B[1m Total params: \u001B[0m\u001B[38;5;34m337,062\u001B[0m (1.29 MB)\n"
      ],
      "text/html": [
       "<pre style=\"white-space:pre;overflow-x:auto;line-height:normal;font-family:Menlo,'DejaVu Sans Mono',consolas,'Courier New',monospace\"><span style=\"font-weight: bold\"> Total params: </span><span style=\"color: #00af00; text-decoration-color: #00af00\">337,062</span> (1.29 MB)\n",
       "</pre>\n"
      ]
     },
     "metadata": {}
    },
    {
     "output_type": "display_data",
     "data": {
      "text/plain": [
       "\u001B[1m Trainable params: \u001B[0m\u001B[38;5;34m337,062\u001B[0m (1.29 MB)\n"
      ],
      "text/html": [
       "<pre style=\"white-space:pre;overflow-x:auto;line-height:normal;font-family:Menlo,'DejaVu Sans Mono',consolas,'Courier New',monospace\"><span style=\"font-weight: bold\"> Trainable params: </span><span style=\"color: #00af00; text-decoration-color: #00af00\">337,062</span> (1.29 MB)\n",
       "</pre>\n"
      ]
     },
     "metadata": {}
    },
    {
     "output_type": "display_data",
     "data": {
      "text/plain": [
       "\u001B[1m Non-trainable params: \u001B[0m\u001B[38;5;34m0\u001B[0m (0.00 B)\n"
      ],
      "text/html": [
       "<pre style=\"white-space:pre;overflow-x:auto;line-height:normal;font-family:Menlo,'DejaVu Sans Mono',consolas,'Courier New',monospace\"><span style=\"font-weight: bold\"> Non-trainable params: </span><span style=\"color: #00af00; text-decoration-color: #00af00\">0</span> (0.00 B)\n",
       "</pre>\n"
      ]
     },
     "metadata": {}
    }
   ]
  },
  {
   "cell_type": "code",
   "source": [
    "model_name_complex = \"biblia_model_complex.keras\""
   ],
   "metadata": {
    "id": "piw7vUYkc7TA"
   },
   "execution_count": 20,
   "outputs": []
  },
  {
   "cell_type": "code",
   "source": [
    "history_ppl_complex = []\n",
    "hist = model_complex.fit(X, y, epochs=20, callbacks=[PplCallback(tokenized_sentences_val, history_ppl_complex, model_name_complex)], batch_size=256)"
   ],
   "metadata": {
    "colab": {
     "base_uri": "https://localhost:8080/"
    },
    "id": "breY2hOJc-5c",
    "outputId": "210bc8db-3a29-47ce-bd92-da1e17fce345"
   },
   "execution_count": 16,
   "outputs": [
    {
     "output_type": "stream",
     "name": "stdout",
     "text": [
      "Epoch 1/20\n",
      "\u001B[1m778/778\u001B[0m \u001B[32m━━━━━━━━━━━━━━━━━━━━\u001B[0m\u001B[37m\u001B[0m \u001B[1m0s\u001B[0m 556ms/step - loss: 3.0068\n",
      " mean perplexity: 10.722196329723705 \n",
      "\n",
      "Saved new model!\n",
      "\u001B[1m778/778\u001B[0m \u001B[32m━━━━━━━━━━━━━━━━━━━━\u001B[0m\u001B[37m\u001B[0m \u001B[1m526s\u001B[0m 661ms/step - loss: 3.0065\n",
      "Epoch 2/20\n",
      "\u001B[1m778/778\u001B[0m \u001B[32m━━━━━━━━━━━━━━━━━━━━\u001B[0m\u001B[37m\u001B[0m \u001B[1m0s\u001B[0m 552ms/step - loss: 2.2827\n",
      " mean perplexity: 8.041345803304152 \n",
      "\n",
      "Saved new model!\n",
      "\u001B[1m778/778\u001B[0m \u001B[32m━━━━━━━━━━━━━━━━━━━━\u001B[0m\u001B[37m\u001B[0m \u001B[1m556s\u001B[0m 657ms/step - loss: 2.2826\n",
      "Epoch 3/20\n",
      "\u001B[1m778/778\u001B[0m \u001B[32m━━━━━━━━━━━━━━━━━━━━\u001B[0m\u001B[37m\u001B[0m \u001B[1m0s\u001B[0m 552ms/step - loss: 2.0611\n",
      " mean perplexity: 7.139607877081091 \n",
      "\n",
      "Saved new model!\n",
      "\u001B[1m778/778\u001B[0m \u001B[32m━━━━━━━━━━━━━━━━━━━━\u001B[0m\u001B[37m\u001B[0m \u001B[1m562s\u001B[0m 657ms/step - loss: 2.0611\n",
      "Epoch 4/20\n",
      "\u001B[1m778/778\u001B[0m \u001B[32m━━━━━━━━━━━━━━━━━━━━\u001B[0m\u001B[37m\u001B[0m \u001B[1m0s\u001B[0m 551ms/step - loss: 1.9427\n",
      " mean perplexity: 6.657451468164271 \n",
      "\n",
      "Saved new model!\n",
      "\u001B[1m778/778\u001B[0m \u001B[32m━━━━━━━━━━━━━━━━━━━━\u001B[0m\u001B[37m\u001B[0m \u001B[1m556s\u001B[0m 650ms/step - loss: 1.9427\n",
      "Epoch 5/20\n",
      "\u001B[1m778/778\u001B[0m \u001B[32m━━━━━━━━━━━━━━━━━━━━\u001B[0m\u001B[37m\u001B[0m \u001B[1m0s\u001B[0m 556ms/step - loss: 1.8524\n",
      " mean perplexity: 6.248661683906208 \n",
      "\n",
      "Saved new model!\n",
      "\u001B[1m778/778\u001B[0m \u001B[32m━━━━━━━━━━━━━━━━━━━━\u001B[0m\u001B[37m\u001B[0m \u001B[1m571s\u001B[0m 661ms/step - loss: 1.8524\n",
      "Epoch 6/20\n",
      "\u001B[1m778/778\u001B[0m \u001B[32m━━━━━━━━━━━━━━━━━━━━\u001B[0m\u001B[37m\u001B[0m \u001B[1m0s\u001B[0m 554ms/step - loss: 1.7793\n",
      " mean perplexity: 5.925464209643278 \n",
      "\n",
      "Saved new model!\n",
      "\u001B[1m778/778\u001B[0m \u001B[32m━━━━━━━━━━━━━━━━━━━━\u001B[0m\u001B[37m\u001B[0m \u001B[1m561s\u001B[0m 660ms/step - loss: 1.7793\n",
      "Epoch 7/20\n",
      "\u001B[1m778/778\u001B[0m \u001B[32m━━━━━━━━━━━━━━━━━━━━\u001B[0m\u001B[37m\u001B[0m \u001B[1m0s\u001B[0m 551ms/step - loss: 1.7205\n",
      " mean perplexity: 5.694614764777097 \n",
      "\n",
      "Saved new model!\n",
      "\u001B[1m778/778\u001B[0m \u001B[32m━━━━━━━━━━━━━━━━━━━━\u001B[0m\u001B[37m\u001B[0m \u001B[1m556s\u001B[0m 652ms/step - loss: 1.7205\n",
      "Epoch 8/20\n",
      "\u001B[1m778/778\u001B[0m \u001B[32m━━━━━━━━━━━━━━━━━━━━\u001B[0m\u001B[37m\u001B[0m \u001B[1m0s\u001B[0m 559ms/step - loss: 1.6704\n",
      " mean perplexity: 5.519639964537187 \n",
      "\n",
      "Saved new model!\n",
      "\u001B[1m778/778\u001B[0m \u001B[32m━━━━━━━━━━━━━━━━━━━━\u001B[0m\u001B[37m\u001B[0m \u001B[1m568s\u001B[0m 660ms/step - loss: 1.6704\n",
      "Epoch 9/20\n",
      "\u001B[1m778/778\u001B[0m \u001B[32m━━━━━━━━━━━━━━━━━━━━\u001B[0m\u001B[37m\u001B[0m \u001B[1m0s\u001B[0m 564ms/step - loss: 1.6262\n",
      " mean perplexity: 5.421613768014041 \n",
      "\n",
      "Saved new model!\n",
      "\u001B[1m778/778\u001B[0m \u001B[32m━━━━━━━━━━━━━━━━━━━━\u001B[0m\u001B[37m\u001B[0m \u001B[1m518s\u001B[0m 666ms/step - loss: 1.6262\n",
      "Epoch 10/20\n",
      "\u001B[1m778/778\u001B[0m \u001B[32m━━━━━━━━━━━━━━━━━━━━\u001B[0m\u001B[37m\u001B[0m \u001B[1m0s\u001B[0m 562ms/step - loss: 1.5883\n",
      " mean perplexity: 5.35101687041196 \n",
      "\n",
      "Saved new model!\n",
      "\u001B[1m778/778\u001B[0m \u001B[32m━━━━━━━━━━━━━━━━━━━━\u001B[0m\u001B[37m\u001B[0m \u001B[1m560s\u001B[0m 663ms/step - loss: 1.5883\n",
      "Epoch 11/20\n",
      "\u001B[1m778/778\u001B[0m \u001B[32m━━━━━━━━━━━━━━━━━━━━\u001B[0m\u001B[37m\u001B[0m \u001B[1m0s\u001B[0m 561ms/step - loss: 1.5529\n",
      " mean perplexity: 5.179659454389052 \n",
      "\n",
      "Saved new model!\n",
      "\u001B[1m778/778\u001B[0m \u001B[32m━━━━━━━━━━━━━━━━━━━━\u001B[0m\u001B[37m\u001B[0m \u001B[1m564s\u001B[0m 666ms/step - loss: 1.5528\n",
      "Epoch 12/20\n",
      "\u001B[1m778/778\u001B[0m \u001B[32m━━━━━━━━━━━━━━━━━━━━\u001B[0m\u001B[37m\u001B[0m \u001B[1m0s\u001B[0m 555ms/step - loss: 1.5231\n",
      " mean perplexity: 5.16291559826244 \n",
      "\n",
      "Saved new model!\n",
      "\u001B[1m778/778\u001B[0m \u001B[32m━━━━━━━━━━━━━━━━━━━━\u001B[0m\u001B[37m\u001B[0m \u001B[1m514s\u001B[0m 661ms/step - loss: 1.5231\n",
      "Epoch 13/20\n",
      "\u001B[1m778/778\u001B[0m \u001B[32m━━━━━━━━━━━━━━━━━━━━\u001B[0m\u001B[37m\u001B[0m \u001B[1m0s\u001B[0m 551ms/step - loss: 1.4950\n",
      " mean perplexity: 5.094598495960236 \n",
      "\n",
      "Saved new model!\n",
      "\u001B[1m778/778\u001B[0m \u001B[32m━━━━━━━━━━━━━━━━━━━━\u001B[0m\u001B[37m\u001B[0m \u001B[1m559s\u001B[0m 657ms/step - loss: 1.4949\n",
      "Epoch 14/20\n",
      "\u001B[1m778/778\u001B[0m \u001B[32m━━━━━━━━━━━━━━━━━━━━\u001B[0m\u001B[37m\u001B[0m \u001B[1m0s\u001B[0m 555ms/step - loss: 1.4685\n",
      " mean perplexity: 5.0561735955151645 \n",
      "\n",
      "Saved new model!\n",
      "\u001B[1m778/778\u001B[0m \u001B[32m━━━━━━━━━━━━━━━━━━━━\u001B[0m\u001B[37m\u001B[0m \u001B[1m560s\u001B[0m 654ms/step - loss: 1.4685\n",
      "Epoch 15/20\n",
      "\u001B[1m778/778\u001B[0m \u001B[32m━━━━━━━━━━━━━━━━━━━━\u001B[0m\u001B[37m\u001B[0m \u001B[1m0s\u001B[0m 551ms/step - loss: 1.4452\n",
      " mean perplexity: 4.971992869810625 \n",
      "\n",
      "Saved new model!\n",
      "\u001B[1m778/778\u001B[0m \u001B[32m━━━━━━━━━━━━━━━━━━━━\u001B[0m\u001B[37m\u001B[0m \u001B[1m507s\u001B[0m 651ms/step - loss: 1.4452\n",
      "Epoch 16/20\n",
      "\u001B[1m778/778\u001B[0m \u001B[32m━━━━━━━━━━━━━━━━━━━━\u001B[0m\u001B[37m\u001B[0m \u001B[1m0s\u001B[0m 552ms/step - loss: 1.4247\n",
      " mean perplexity: 4.938474225997925 \n",
      "\n",
      "Saved new model!\n",
      "\u001B[1m778/778\u001B[0m \u001B[32m━━━━━━━━━━━━━━━━━━━━\u001B[0m\u001B[37m\u001B[0m \u001B[1m511s\u001B[0m 657ms/step - loss: 1.4247\n",
      "Epoch 17/20\n",
      "\u001B[1m778/778\u001B[0m \u001B[32m━━━━━━━━━━━━━━━━━━━━\u001B[0m\u001B[37m\u001B[0m \u001B[1m0s\u001B[0m 558ms/step - loss: 1.4047\n",
      " mean perplexity: 4.977944538268176 \n",
      "\n",
      "\u001B[1m778/778\u001B[0m \u001B[32m━━━━━━━━━━━━━━━━━━━━\u001B[0m\u001B[37m\u001B[0m \u001B[1m563s\u001B[0m 659ms/step - loss: 1.4047\n",
      "Epoch 18/20\n",
      "\u001B[1m778/778\u001B[0m \u001B[32m━━━━━━━━━━━━━━━━━━━━\u001B[0m\u001B[37m\u001B[0m \u001B[1m0s\u001B[0m 556ms/step - loss: 1.3852\n",
      " mean perplexity: 4.943906111066991 \n",
      "\n",
      "\u001B[1m778/778\u001B[0m \u001B[32m━━━━━━━━━━━━━━━━━━━━\u001B[0m\u001B[37m\u001B[0m \u001B[1m564s\u001B[0m 662ms/step - loss: 1.3852\n",
      "Epoch 19/20\n",
      "\u001B[1m778/778\u001B[0m \u001B[32m━━━━━━━━━━━━━━━━━━━━\u001B[0m\u001B[37m\u001B[0m \u001B[1m0s\u001B[0m 558ms/step - loss: 1.3687\n",
      " mean perplexity: 4.863756505467675 \n",
      "\n",
      "Saved new model!\n",
      "\u001B[1m778/778\u001B[0m \u001B[32m━━━━━━━━━━━━━━━━━━━━\u001B[0m\u001B[37m\u001B[0m \u001B[1m560s\u001B[0m 659ms/step - loss: 1.3687\n",
      "Epoch 20/20\n",
      "\u001B[1m778/778\u001B[0m \u001B[32m━━━━━━━━━━━━━━━━━━━━\u001B[0m\u001B[37m\u001B[0m \u001B[1m0s\u001B[0m 581ms/step - loss: 1.3539\n",
      " mean perplexity: 4.911314532431689 \n",
      "\n",
      "\u001B[1m778/778\u001B[0m \u001B[32m━━━━━━━━━━━━━━━━━━━━\u001B[0m\u001B[37m\u001B[0m \u001B[1m583s\u001B[0m 686ms/step - loss: 1.3539\n"
     ]
    }
   ]
  },
  {
   "cell_type": "code",
   "source": [
    "# Entrenamiento\n",
    "epoch_count = range(1, len(history_ppl_complex) + 1)\n",
    "sns.lineplot(x=epoch_count,  y=history_ppl_complex)\n",
    "plt.show()"
   ],
   "metadata": {
    "colab": {
     "base_uri": "https://localhost:8080/",
     "height": 434
    },
    "id": "bzAxG47pF5jx",
    "outputId": "9830a1c2-2e59-4ec6-b292-96386e32d7f8"
   },
   "execution_count": 17,
   "outputs": [
    {
     "output_type": "display_data",
     "data": {
      "text/plain": [
       "<Figure size 640x480 with 1 Axes>"
      ],
      "image/png": "[encoded data removed]"
     },
     "metadata": {}
    }
   ]
  },
  {
   "cell_type": "markdown",
   "source": [
    "El entrenamiento fue constante y progresivo, lográndose además el mejor resultado en pérdida."
   ],
   "metadata": {
    "id": "KLDENdc1JgKI"
   }
  },
  {
   "cell_type": "code",
   "source": [
    "model_complex = keras.models.load_model(model_name_complex)"
   ],
   "metadata": {
    "id": "2W7s_FeaGJey"
   },
   "execution_count": 21,
   "outputs": []
  },
  {
   "cell_type": "code",
   "source": [
    "generate_seq(model_complex, input_text_1, max_length=max_context_size, n_tokens=100)"
   ],
   "metadata": {
    "colab": {
     "base_uri": "https://localhost:8080/",
     "height": 35
    },
    "id": "34hyccziJwuA",
    "outputId": "0e0bd42c-1ddb-4265-968c-10fa40529134"
   },
   "execution_count": 22,
   "outputs": [
    {
     "output_type": "execute_result",
     "data": {
      "text/plain": [
       "'y entonces moisés a moisés: «¿que se ha de la tienda del encuentro de la tienda del encuentro de la tienda del encuent'"
      ],
      "application/vnd.google.colaboratory.intrinsic+json": {
       "type": "string"
      }
     },
     "metadata": {},
     "execution_count": 22
    }
   ]
  },
  {
   "cell_type": "code",
   "source": [
    "salidas = beam_search(model_complex, num_beams=10, num_tokens=100, input=input_text_1)\n",
    "salidas_decoded = [decode(salida) for salida in salidas]\n",
    "for salida in salidas_decoded:\n",
    "    print(salida)"
   ],
   "metadata": {
    "colab": {
     "base_uri": "https://localhost:8080/"
    },
    "id": "IJcfERoQJ8RI",
    "outputId": "8c3f578a-5d87-4808-847c-0df4403d440a"
   },
   "execution_count": 23,
   "outputs": [
    {
     "output_type": "stream",
     "name": "stdout",
     "text": [
      "y entonces moisés habló yahveh había mandado a moisés: «¿quedará impuro hasta la tienda del encuentro de la tienda del\n",
      "y entonces moisés habló yahveh había mandado a moisés: «¿quedará impuro hasta la tienda del encuentro de los israelita\n",
      "y entonces moisés habló yahveh había mandado a moisés: «¿quedará impuro hasta la tienda del encuentro de la tierra de \n",
      "y entonces moisés habló yahveh había mandado a moisés: «¿quedará impuro hasta la tienda del encuentro de la tienda de \n",
      "y entonces moisés habló yahveh había mandado a moisés: «¿quedará impuro hasta la tienda del encuentro de la comunidad \n",
      "y entonces moisés habló yahveh había mandado a moisés: «¿quedará impuro hasta la tienda del encuentro de la morada de \n",
      "y entonces moisés habló yahveh había mandado a moisés: «¿quedará impuro hasta la tienda del encuentro de los hijos de \n",
      "y entonces moisés habló yahveh había mandado a moisés: «¿quedará impuro hasta la tienda del encuentro de sus hijos de \n",
      "y entonces moisés habló yahveh había mandado a moisés: «¿quedará impuro hasta la tienda del encuentro de la tierra del\n",
      "y entonces moisés habló yahveh había mandado a moisés: «¿quedará impuro hasta la tienda del encuentro del altar de la \n"
     ]
    }
   ]
  },
  {
   "cell_type": "code",
   "source": [
    "salidas_sto = beam_search(model_complex, num_beams=10, num_tokens=100, input=input_text_1, temp=2, mode='sto')\n",
    "salidas_sto_decoded = [decode(salida) for salida in salidas_sto]\n",
    "for salida in salidas_sto_decoded:\n",
    "    print(salida)"
   ],
   "metadata": {
    "colab": {
     "base_uri": "https://localhost:8080/"
    },
    "id": "SlaIOaFWKDoi",
    "outputId": "abfa96bd-7d64-47d0-8e83-853b3dcca1e6"
   },
   "execution_count": 24,
   "outputs": [
    {
     "output_type": "stream",
     "name": "stdout",
     "text": [
      "y entonces moisés así moisés: «¿podréis que yos diciendo: [1] y a aarón y se lo había moisés: «¿por escarlata y quedar\n",
      "y entonces moisés así moisés: «¿podréis que yos diciendo: [1] y a aarón y se lo había moisés: «¿por escarlata y quedas\n",
      "y entonces moisés así moisés: «¿podréis que yos diciendo: [1] y a aarón y se lo había moisés: «¿por escarlata y que ha\n",
      "y entonces moisés así moisés: «¿podréis que yos diciendo: [1] y a aarón y se lo había moisés: «¿por escarlata y quedak\n",
      "y entonces moisés así moisés: «¿podréis que yos diciendo: [1] y a aarón y se lo había moisés: «¿por escarlata y que é5\n",
      "y entonces moisés así moisés: «¿podréis que yos diciendo: [1] y a aarón y se lo había moisés: «¿por escarlata y quedas\n",
      "y entonces moisés así moisés: «¿podréis que yos diciendo: [1] y a aarón y se lo había moisés: «¿por escarlata y que po\n",
      "y entonces moisés así moisés: «¿podréis que yos diciendo: [1] y a aarón y se lo había moisés: «¿por escarlata y queda \n",
      "y entonces moisés así moisés: «¿podréis que yos diciendo: [1] y a aarón y se lo había moisés: «¿por escarlata y que ya\n",
      "y entonces moisés así moisés: «¿podréis que yos diciendo: [1] y a aarón y se lo había moisés: «¿por escarlata y quedal\n"
     ]
    }
   ]
  },
  {
   "cell_type": "code",
   "source": [
    "print(generate_seq(model_complex, input_text_2, max_length=max_context_size, n_tokens=150))\n",
    "salidas = beam_search(model_complex, num_beams=10, num_tokens=150, input=input_text_2)\n",
    "salidas_decoded = [decode(salida) for salida in salidas]\n",
    "for salida in salidas_decoded:\n",
    "    print(salida)\n",
    "salidas_sto = beam_search(model_complex, num_beams=10, num_tokens=150, input=input_text_2, temp=2, mode='sto')\n",
    "salidas_sto_decoded = [decode(salida) for salida in salidas_sto]\n",
    "for salida in salidas_sto_decoded:\n",
    "    print(salida)"
   ],
   "metadata": {
    "colab": {
     "base_uri": "https://localhost:8080/"
    },
    "id": "mEKWZ73pbOrU",
    "outputId": "d86bc4e8-8d47-4210-d8d9-a3a305144bad"
   },
   "execution_count": 25,
   "outputs": [
    {
     "output_type": "stream",
     "name": "stdout",
     "text": [
      "y descendió fuego del cielo, y consumió el altar y el sacrificio, por el pecado de la tienda del encuentro de la tienda del encuentro de la tienda del encuentro de la tienda del encuentro de la tienda del encuentro d\n",
      "y descendió fuego del cielo, y consumió el altar y el sacrificio, por el sacrificio por el pecado de la tienda del encuentro de la tienda del encuentro de la tienda del encuentro de la tienda del encuentro de la tien\n",
      "y descendió fuego del cielo, y consumió el altar y el sacrificio, por el sacrificio por el pecado de la tienda del encuentro de la tienda del encuentro de la tienda del encuentro de la tienda del encuentro, el sacerd\n",
      "y descendió fuego del cielo, y consumió el altar y el sacrificio, por el sacrificio por el pecado de la tienda del encuentro de la tienda del encuentro de la tienda del encuentro de la tienda del encuentro del altar \n",
      "y descendió fuego del cielo, y consumió el altar y el sacrificio, por el sacrificio por el pecado de la tienda del encuentro de la tienda del encuentro de la tienda del encuentro de la tienda del encuentro de los isr\n",
      "y descendió fuego del cielo, y consumió el altar y el sacrificio, por el sacrificio por el pecado de la tienda del encuentro de la tienda del encuentro de la tienda del encuentro de la tienda del encuentro del altar.\n",
      "y descendió fuego del cielo, y consumió el altar y el sacrificio, por el sacrificio por el pecado de la tienda del encuentro de la tienda del encuentro de la tienda del encuentro de la tienda del encuentro de la mora\n",
      "y descendió fuego del cielo, y consumió el altar y el sacrificio, por el sacrificio por el pecado de la tienda del encuentro de la tienda del encuentro de la tienda del encuentro de la tienda del encuentro de la tier\n",
      "y descendió fuego del cielo, y consumió el altar y el sacrificio, por el sacrificio por el pecado de la tienda del encuentro de la tienda del encuentro de la tienda del encuentro de la tienda del encuentro del altar,\n",
      "y descendió fuego del cielo, y consumió el altar y el sacrificio, por el sacrificio por el pecado de la tienda del encuentro de la tienda del encuentro de la tienda del encuentro de la tienda del encuentro de sus hij\n",
      "y descendió fuego del cielo, y consumió el altar y el sacrificio, por el sacrificio por el pecado de la tienda del encuentro de la tienda del encuentro de la tienda del encuentro de la tienda del encuentro de los hij\n",
      "y descendió fuego del cielo, y consumió el altar y el sacrificio, comerás los israelitas y será el pueblo. [12] las propiaciós de garaón y los israelitas, se triban los hijos. [25] así lo meriba la morada de la cierd\n",
      "y descendió fuego del cielo, y consumió el altar y el sacrificio, comerás los israelitas y será el pueblo. [12] las propiaciós de garaón y los israelitas, se triban los hijos. [25] así lo meriba la morada de la comuc\n",
      "y descendió fuego del cielo, y consumió el altar y el sacrificio, comerás los israelitas y será el pueblo. [12] las propiaciós de garaón y los israelitas, se triban los hijos. [25] así lo meriba la morada de la comun\n",
      "y descendió fuego del cielo, y consumió el altar y el sacrificio, comerás los israelitas y será el pueblo. [12] las propiaciós de garaón y los israelitas, se triban los hijos. [25] así lo meriba la morada de la comer\n",
      "y descendió fuego del cielo, y consumió el altar y el sacrificio, comerás los israelitas y será el pueblo. [12] las propiaciós de garaón y los israelitas, se triban los hijos. [25] así lo meriba la morada de la cierr\n",
      "y descendió fuego del cielo, y consumió el altar y el sacrificio, comerás los israelitas y será el pueblo. [12] las propiaciós de garaón y los israelitas, se triban los hijos. [25] así lo meriba la morada de la ciern\n",
      "y descendió fuego del cielo, y consumió el altar y el sacrificio, comerás los israelitas y será el pueblo. [12] las propiaciós de garaón y los israelitas, se triban los hijos. [25] así lo meriba la morada de la comer\n",
      "y descendió fuego del cielo, y consumió el altar y el sacrificio, comerás los israelitas y será el pueblo. [12] las propiaciós de garaón y los israelitas, se triban los hijos. [25] así lo meriba la morada de la cierz\n",
      "y descendió fuego del cielo, y consumió el altar y el sacrificio, comerás los israelitas y será el pueblo. [12] las propiaciós de garaón y los israelitas, se triban los hijos. [25] así lo meriba la morada de la comer\n",
      "y descendió fuego del cielo, y consumió el altar y el sacrificio, comerás los israelitas y será el pueblo. [12] las propiaciós de garaón y los israelitas, se triban los hijos. [25] así lo meriba la morada de la comet\n"
     ]
    }
   ]
  },
  {
   "cell_type": "code",
   "source": [
    "print(generate_seq(model_complex, input_text_3, max_length=max_context_size, n_tokens=40))\n",
    "salidas = beam_search(model_complex, num_beams=10, num_tokens=40, input=input_text_3)\n",
    "salidas_decoded = [decode(salida) for salida in salidas]\n",
    "for salida in salidas_decoded:\n",
    "    print(salida)\n",
    "salidas_sto = beam_search(model_complex, num_beams=10, num_tokens=40, input=input_text_3, temp=2, mode='sto')\n",
    "salidas_sto_decoded = [decode(salida) for salida in salidas_sto]\n",
    "for salida in salidas_sto_decoded:\n",
    "    print(salida)"
   ],
   "metadata": {
    "colab": {
     "base_uri": "https://localhost:8080/"
    },
    "id": "6BUbBSRsb7v3",
    "outputId": "7fb8df51-492e-4e90-cf61-0a3a0b92aba0"
   },
   "execution_count": 22,
   "outputs": [
    {
     "output_type": "stream",
     "name": "stdout",
     "text": [
      "y habló dios, diciendo a moisés: «¿que se ha de la tienda del e\n",
      "y habló dios, diciendo a los israelitas de la tienda del encuen\n",
      "y habló dios, diciendo a los israelitas de los israelitas de la\n",
      "y habló dios, diciendo a los israelitas de los israelitas en el\n",
      "y habló dios, diciendo a los israelitas de los israelitas de lo\n",
      "y habló dios, diciendo a los israelitas y los israelitas de la \n",
      "y habló dios, diciendo a los israelitas de los israelitas y los\n",
      "y habló dios, diciendo a los israelitas de los israelitas de su\n",
      "y habló dios, diciendo a los israelitas de los israelitas y el \n",
      "y habló dios, diciendo a los israelitas de la tienda del encuer\n",
      "y habló dios, diciendo a los israelitas de los israelitas en la\n",
      "y habló dios, diciendo a moisés: [3] harás a moisés: «con su pu\n",
      "y habló dios, diciendo a moisés: [3] harás a moisés: «con su ia\n",
      "y habló dios, diciendo a moisés: [3] harás a moisés: «con su pr\n",
      "y habló dios, diciendo a moisés: [3] harás a moisés: «con su da\n",
      "y habló dios, diciendo a moisés: [3] harás a moisés: «con la po\n",
      "y habló dios, diciendo a moisés: [3] harás a moisés: «con la sa\n",
      "y habló dios, diciendo a moisés: [3] harás a moisés: «con la pi\n",
      "y habló dios, diciendo a moisés: [3] harás a moisés: «con su os\n",
      "y habló dios, diciendo a moisés: [3] harás a moisés: «con la pe\n",
      "y habló dios, diciendo a moisés: [3] harás a moisés: «con su or\n"
     ]
    }
   ]
  },
  {
   "cell_type": "code",
   "source": [
    "print(generate_seq(model_complex, input_text_4, max_length=max_context_size, n_tokens=100))\n",
    "salidas = beam_search(model_complex, num_beams=10, num_tokens=100, input=input_text_4)\n",
    "salidas_decoded = [decode(salida) for salida in salidas]\n",
    "for salida in salidas_decoded:\n",
    "    print(salida)\n",
    "salidas_sto = beam_search(model_complex, num_beams=10, num_tokens=100, input=input_text_4, temp=2, mode='sto')\n",
    "salidas_sto_decoded = [decode(salida) for salida in salidas_sto]\n",
    "for salida in salidas_sto_decoded:\n",
    "    print(salida)"
   ],
   "metadata": {
    "colab": {
     "base_uri": "https://localhost:8080/"
    },
    "id": "dgmempiqb_Kb",
    "outputId": "1dc5f6e1-c4b6-405c-eaa6-55eaca107fde"
   },
   "execution_count": 23,
   "outputs": [
    {
     "output_type": "stream",
     "name": "stdout",
     "text": [
      "y sus hijos de la morada de la tienda del encuentro de la tienda del encuentro de la tienda del encuen\n",
      "y el sacrificio por el pecado de la tienda del encuentro de la tienda del encuentro de la tienda del e\n",
      "y el sacrificio por el pecado de la tienda del encuentro de la tienda del encuentro de los israelitas \n",
      "y el sacrificio por el pecado de la tienda del encuentro de la tienda del encuentro de los israelitas,\n",
      "y el sacrificio por el pecado de la tienda del encuentro de la tienda del encuentro de los israelitas.\n",
      "y el sacrificio por el pecado de la tienda del encuentro de la tienda del encuentro de la tierra de la\n",
      "y el sacrificio por el pecado de la tienda del encuentro de la tienda del encuentro, el sacerdote lo q\n",
      "y el sacrificio por el pecado de la tienda del encuentro de la tienda del encuentro, el sacerdote los \n",
      "y el sacrificio por el pecado de la tienda del encuentro de la tienda del encuentro de la tienda de la\n",
      "y el sacrificio por el pecado de la tienda del encuentro de la tienda del encuentro de los israelitas;\n",
      "y el sacrificio por el pecado de la tienda del encuentro de la tienda del encuentro de la tienda del a\n",
      "y moisés siete muerta por las holacaustos descarseros y que el bueblo y comerán uno mano con su país u\n",
      "y moisés siete muerta por las holacaustos descarseros y que el bueblo y comerán uno mano con su país; \n",
      "y moisés siete muerta por las holacaustos descarseros y que el bueblo y comerán uno mano con su país h\n",
      "y moisés siete muerta por las holacaustos descarseros y que el bueblo y comerán uno mano con su país c\n",
      "y moisés siete muerta por las holacaustos descarseros y que el bueblo y comerán uno mano con su país s\n",
      "y moisés siete muerta por las holacaustos descarseros y que el bueblo y comerán uno mano con su paí vl\n",
      "y moisés siete muerta por las holacaustos descarseros y que el bueblo y comerán uno mano con su país o\n",
      "y moisés siete muerta por las holacaustos descarseros y que el bueblo y comerán uno mano con su país t\n",
      "y moisés siete muerta por las holacaustos descarseros y que el bueblo y comerán uno mano con su paíse.\n",
      "y moisés siete muerta por las holacaustos descarseros y que el bueblo y comerán uno mano con su paíse \n"
     ]
    }
   ]
  },
  {
   "cell_type": "markdown",
   "source": [
    "Aunque se pueden evidenciar algunas mejoras con respecto a las anteriores alternativas propuestas, se vuelven a repetir los mismos problemas y las palabras utilizadas por este modelo son muy similares así como los problemas de semántica, e incluso se repite la problemática de la invensión de palabras inexistentes cuando se utiliza una temperatura de 2 con generación estocástica."
   ],
   "metadata": {
    "id": "A_eVFq8QJ2HE"
   }
  },
  {
   "cell_type": "markdown",
   "source": [
    "### Comparación de modelos\n",
    "\n",
    "Finalmente, comparemos las métricas pérdida (`loss`) y `perplexity` media:\n",
    "\n",
    "| Modelo                            | Arquitectura principal                  | Loss   | Mean Perplexity |\n",
    "|-----------------------------------|-----------------------------------------|--------|------------------|\n",
    "| **1. SimpleRNN (baseline)**       | One-hot + SimpleRNN(200)                | 1.4100 | 4.8024           |\n",
    "| **2. GRU + Embedding**            | Embedding + GRU(64)                     | 1.4793 | 5.8841           |\n",
    "| **3. LSTM (ligero)**              | One-hot + LSTM(128)                     | 1.5272 | 5.5143           |\n",
    "| **4. LSTM (doble capa)**       | One-hot + LSTM(200) + LSTM(100)         | 1.3539 | 4.9113           |\n",
    "\n",
    "- El **modelo 4**, con doble capa LSTM obtuvo el **mejor resultado en términos de pérdida (`loss`)**, lo cual indica que se ajustó mejor a los datos de entrenamiento.\n",
    "- El **modelo 1** (SimpleRNN), aunque más simple, logró la **mejor `perplexity` media**, si consideramos el menor valor como mejor, dentro del rango entre 4 y 6. Esto sugiere que es un modelo muy competitivo pese a su arquitectura básica.\n",
    "- El **modelo 2**, basado en `GRU` con `Embedding`, tuvo el rendimiento bajo. Esto podría deberse a que un vocabulario pequeño (62) no se beneficia tanto de embeddings, y las GRU con pocas unidades pueden no capturar patrones suficientes.\n",
    "- El **modelo 3**, un `LSTM` ligero, también quedó por detrás, pero cerca del modelo GRU.\n",
    "\n",
    "### Próximos pasos\n",
    "\n",
    "Continuar experimentando con el **modelo 4**, variando unidades, dropout, o cantidad de capas."
   ],
   "metadata": {
    "id": "okJUCfs4Bmug"
   }
  }
 ],
 "metadata": {
  "colab": {
   "provenance": [],
   "gpuType": "T4"
  },
  "kernelspec": {
   "display_name": "Python (npl)",
   "name": "npl",
   "language": "python"
  },
  "language_info": {
   "name": "python"
  },
  "accelerator": "GPU"
 },
 "nbformat": 4,
 "nbformat_minor": 0
}
